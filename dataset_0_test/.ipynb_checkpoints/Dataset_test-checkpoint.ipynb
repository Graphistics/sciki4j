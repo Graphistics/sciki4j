{
 "cells": [
  {
   "cell_type": "code",
   "execution_count": 2,
   "id": "512ff4b7-b66d-43a0-bb63-eeb553501999",
   "metadata": {},
   "outputs": [],
   "source": [
    "import pandas as pd \n",
    "import numpy as np\n",
    "from scipy import linalg\n",
    "from scipy.spatial.distance import pdist, squareform\n",
    "# import networkx as nx\n",
    "# import sys\n",
    "import random\n",
    "import math\n",
    "\n",
    "from tqdm import tqdm\n",
    "from sklearn.preprocessing import StandardScaler, normalize, MinMaxScaler\n",
    "from sklearn.metrics import DistanceMetric\n",
    "from sklearn.metrics import pairwise_distances\n",
    "from sklearn.decomposition import PCA\n",
    "from sklearn.cluster import KMeans\n",
    "from sklearn.cluster import OPTICS\n",
    "from sklearn.cluster import AgglomerativeClustering\n",
    "from sklearn.cluster import SpectralClustering\n",
    "from sklearn.metrics import confusion_matrix\n",
    "from sklearn.metrics import silhouette_samples, silhouette_score\n",
    "from sklearn.metrics import adjusted_rand_score\n",
    "\n",
    "from matplotlib import rcParams, cycler, figure\n",
    "import matplotlib.pyplot as plt\n",
    "from adjustText import adjust_text\n",
    "import seaborn as sns"
   ]
  },
  {
   "cell_type": "code",
   "execution_count": 3,
   "id": "fef80906-6e58-4f21-a22c-104e22867025",
   "metadata": {},
   "outputs": [],
   "source": [
    "def norm_and_pca_from_df(df):\n",
    "    '''\n",
    "    Function processes the data using Principal component analysis(PCA)\n",
    "    Args:\n",
    "        df : Dataframe \n",
    "    Returns normalized dataframe and principal component of df\n",
    "    '''\n",
    "    \n",
    "    df_normalized = pd.DataFrame()\n",
    "    cols = list(df.columns)\n",
    "    df_normalized[cols] = pd.DataFrame(normalize(MinMaxScaler().fit_transform(df[cols])))\n",
    "    df_normalized.index = df.index\n",
    "    \n",
    "    df_pca = pd.DataFrame(PCA(n_components = 2).fit_transform(df_normalized))\n",
    "    df_pca.columns = ['P1', 'P2']\n",
    "    df_pca.index = df.index\n",
    "    \n",
    "    return df_normalized, df_pca"
   ]
  },
  {
   "cell_type": "code",
   "execution_count": 4,
   "id": "dc1693aa-4ca1-4f81-bb2e-321d54da63ed",
   "metadata": {},
   "outputs": [],
   "source": [
    "# Load and transform dataset 0\n",
    "df_csv = pd.read_csv(\"test.csv\")\n",
    "index_labels = df_csv[\"points\"]\n",
    "class_labels = df_csv[\"class\"]\n",
    "df_data = df_csv[[\"x_coordinate\",\"y_coordinate\"]]\n",
    "\n",
    "df_normalized = df_csv.copy()\n",
    "df_pca = df_csv.copy()\n",
    "\n",
    "df_normalized[[\"x_coordinate\",\"y_coordinate\"]], df_pca[[\"x_coordinate\",\"y_coordinate\"]] = norm_and_pca_from_df(df_data)"
   ]
  },
  {
   "cell_type": "code",
   "execution_count": 5,
   "id": "40462ca9-fb7a-4fcf-a6d5-f3ff00563a3a",
   "metadata": {},
   "outputs": [
    {
     "data": {
      "text/html": [
       "<div>\n",
       "<style scoped>\n",
       "    .dataframe tbody tr th:only-of-type {\n",
       "        vertical-align: middle;\n",
       "    }\n",
       "\n",
       "    .dataframe tbody tr th {\n",
       "        vertical-align: top;\n",
       "    }\n",
       "\n",
       "    .dataframe thead th {\n",
       "        text-align: right;\n",
       "    }\n",
       "</style>\n",
       "<table border=\"1\" class=\"dataframe\">\n",
       "  <thead>\n",
       "    <tr style=\"text-align: right;\">\n",
       "      <th></th>\n",
       "      <th>points</th>\n",
       "      <th>x_coordinate</th>\n",
       "      <th>y_coordinate</th>\n",
       "      <th>class</th>\n",
       "    </tr>\n",
       "  </thead>\n",
       "  <tbody>\n",
       "    <tr>\n",
       "      <th>0</th>\n",
       "      <td>p1</td>\n",
       "      <td>1</td>\n",
       "      <td>7</td>\n",
       "      <td>1</td>\n",
       "    </tr>\n",
       "    <tr>\n",
       "      <th>1</th>\n",
       "      <td>p2</td>\n",
       "      <td>1</td>\n",
       "      <td>6</td>\n",
       "      <td>1</td>\n",
       "    </tr>\n",
       "    <tr>\n",
       "      <th>2</th>\n",
       "      <td>p3</td>\n",
       "      <td>6</td>\n",
       "      <td>2</td>\n",
       "      <td>2</td>\n",
       "    </tr>\n",
       "    <tr>\n",
       "      <th>3</th>\n",
       "      <td>p4</td>\n",
       "      <td>8</td>\n",
       "      <td>1</td>\n",
       "      <td>2</td>\n",
       "    </tr>\n",
       "    <tr>\n",
       "      <th>4</th>\n",
       "      <td>p5</td>\n",
       "      <td>10</td>\n",
       "      <td>2</td>\n",
       "      <td>2</td>\n",
       "    </tr>\n",
       "  </tbody>\n",
       "</table>\n",
       "</div>"
      ],
      "text/plain": [
       "  points  x_coordinate  y_coordinate  class\n",
       "0     p1             1             7      1\n",
       "1     p2             1             6      1\n",
       "2     p3             6             2      2\n",
       "3     p4             8             1      2\n",
       "4     p5            10             2      2"
      ]
     },
     "execution_count": 5,
     "metadata": {},
     "output_type": "execute_result"
    }
   ],
   "source": [
    "df_csv"
   ]
  },
  {
   "cell_type": "code",
   "execution_count": 6,
   "id": "cb4554f7-d808-4553-83f2-f97a2104eddd",
   "metadata": {},
   "outputs": [
    {
     "data": {
      "text/html": [
       "<div>\n",
       "<style scoped>\n",
       "    .dataframe tbody tr th:only-of-type {\n",
       "        vertical-align: middle;\n",
       "    }\n",
       "\n",
       "    .dataframe tbody tr th {\n",
       "        vertical-align: top;\n",
       "    }\n",
       "\n",
       "    .dataframe thead th {\n",
       "        text-align: right;\n",
       "    }\n",
       "</style>\n",
       "<table border=\"1\" class=\"dataframe\">\n",
       "  <thead>\n",
       "    <tr style=\"text-align: right;\">\n",
       "      <th></th>\n",
       "      <th>x_coordinate</th>\n",
       "      <th>y_coordinate</th>\n",
       "    </tr>\n",
       "  </thead>\n",
       "  <tbody>\n",
       "    <tr>\n",
       "      <th>0</th>\n",
       "      <td>1</td>\n",
       "      <td>7</td>\n",
       "    </tr>\n",
       "    <tr>\n",
       "      <th>1</th>\n",
       "      <td>1</td>\n",
       "      <td>6</td>\n",
       "    </tr>\n",
       "    <tr>\n",
       "      <th>2</th>\n",
       "      <td>6</td>\n",
       "      <td>2</td>\n",
       "    </tr>\n",
       "    <tr>\n",
       "      <th>3</th>\n",
       "      <td>8</td>\n",
       "      <td>1</td>\n",
       "    </tr>\n",
       "    <tr>\n",
       "      <th>4</th>\n",
       "      <td>10</td>\n",
       "      <td>2</td>\n",
       "    </tr>\n",
       "  </tbody>\n",
       "</table>\n",
       "</div>"
      ],
      "text/plain": [
       "   x_coordinate  y_coordinate\n",
       "0             1             7\n",
       "1             1             6\n",
       "2             6             2\n",
       "3             8             1\n",
       "4            10             2"
      ]
     },
     "execution_count": 6,
     "metadata": {},
     "output_type": "execute_result"
    }
   ],
   "source": [
    "df_data"
   ]
  },
  {
   "cell_type": "code",
   "execution_count": 7,
   "id": "1e4365a7-978c-4ad7-a3e7-25f22e6b739f",
   "metadata": {},
   "outputs": [
    {
     "data": {
      "text/plain": [
       "{1, 2}"
      ]
     },
     "execution_count": 7,
     "metadata": {},
     "output_type": "execute_result"
    }
   ],
   "source": [
    "labels = df_csv[\"class\"].tolist()\n",
    "set(labels)"
   ]
  },
  {
   "cell_type": "code",
   "execution_count": 8,
   "id": "6decc604-3ad6-4def-989a-78ecc611e09a",
   "metadata": {},
   "outputs": [
    {
     "data": {
      "text/plain": [
       "<matplotlib.collections.PathCollection at 0x28fb68b83e0>"
      ]
     },
     "execution_count": 8,
     "metadata": {},
     "output_type": "execute_result"
    },
    {
     "data": {
      "image/png": "[encoded data removed]",
      "text/plain": [
       "<Figure size 400x300 with 1 Axes>"
      ]
     },
     "metadata": {},
     "output_type": "display_data"
    }
   ],
   "source": [
    "plt.rcParams[\"figure.figsize\"] = (4,3)\n",
    "plt.scatter(df_data['x_coordinate'], df_data['y_coordinate'])"
   ]
  },
  {
   "cell_type": "markdown",
   "id": "ccbef7ff-3d0d-488f-b839-823b691628fb",
   "metadata": {},
   "source": [
    "### Abhivanth --start--"
   ]
  },
  {
   "cell_type": "code",
   "execution_count": 9,
   "id": "63dee367-a565-4cfc-9757-ea7fc9483b61",
   "metadata": {},
   "outputs": [],
   "source": [
    "# Pairwise distances\n",
    "dimension = df_data.shape[0]\n",
    "dist_ = pdist(df_data)\n",
    "dist_mat = np.zeros([dimension, dimension])\n",
    "dist = iter(dist_)\n",
    "for i in range(dimension):\n",
    "    for j in range(i+1, dimension):  \n",
    "        d = next(dist)\n",
    "        dist_mat[i,j] = d\n",
    "        dist_mat[j,i] = d"
   ]
  },
  {
   "cell_type": "code",
   "execution_count": 10,
   "id": "5a53959c-5ebd-472f-8d3e-74b174c8ceec",
   "metadata": {},
   "outputs": [
    {
     "data": {
      "text/plain": [
       "array([[ 0.        ,  1.        ,  7.07106781,  9.21954446, 10.29563014],\n",
       "       [ 1.        ,  0.        ,  6.40312424,  8.60232527,  9.8488578 ],\n",
       "       [ 7.07106781,  6.40312424,  0.        ,  2.23606798,  4.        ],\n",
       "       [ 9.21954446,  8.60232527,  2.23606798,  0.        ,  2.23606798],\n",
       "       [10.29563014,  9.8488578 ,  4.        ,  2.23606798,  0.        ]])"
      ]
     },
     "execution_count": 10,
     "metadata": {},
     "output_type": "execute_result"
    }
   ],
   "source": [
    "dist_mat"
   ]
  },
  {
   "cell_type": "markdown",
   "id": "4eacdd21-5303-4b37-8e0c-10c6975430d3",
   "metadata": {},
   "source": [
    "#### Fully-connected (Self-tuning)"
   ]
  },
  {
   "cell_type": "code",
   "execution_count": 11,
   "id": "67ebd10a-12d6-4c4d-9d77-91a86e0fb6fa",
   "metadata": {},
   "outputs": [
    {
     "name": "stderr",
     "output_type": "stream",
     "text": [
      "100%|████████████████████████████████████████████████████████████████████████████████████████████| 5/5 [00:00<?, ?it/s]\n"
     ]
    }
   ],
   "source": [
    "#calculate local sigma\n",
    "sigmas = np.zeros(dimension)\n",
    "for i in tqdm(range(len(dist_mat))):\n",
    "    sigmas[i] = sorted(dist_mat[i])[2]"
   ]
  },
  {
   "cell_type": "code",
   "execution_count": 12,
   "id": "20e42497-8669-45ce-a81f-314071fcc7cf",
   "metadata": {},
   "outputs": [
    {
     "data": {
      "text/plain": [
       "array([7.07106781, 6.40312424, 4.        , 2.23606798, 4.        ])"
      ]
     },
     "execution_count": 12,
     "metadata": {},
     "output_type": "execute_result"
    }
   ],
   "source": [
    "sigmas"
   ]
  },
  {
   "cell_type": "code",
   "execution_count": 13,
   "id": "2737c7c7-09c5-42f9-8cd1-03c81cde8e68",
   "metadata": {
    "scrolled": true
   },
   "outputs": [
    {
     "name": "stderr",
     "output_type": "stream",
     "text": [
      "100%|████████████████████████████████████████████████████████████████████████████████████████████| 5/5 [00:00<?, ?it/s]\n"
     ]
    }
   ],
   "source": [
    "# Adjaceny matrix with optimal sigma\n",
    "adjacency_matrix = np.zeros([dimension, dimension])\n",
    "dist = iter(dist_)\n",
    "for i in tqdm(range(dimension)):\n",
    "    for j in range(i+1, dimension):  \n",
    "        d = np.exp(-1*next(dist)**2/(sigmas[i]*sigmas[j]))\n",
    "        adjacency_matrix[i,j] = d\n",
    "        adjacency_matrix[j,i] = d"
   ]
  },
  {
   "cell_type": "code",
   "execution_count": 14,
   "id": "5d17022f-54a7-4c5f-b28f-6f8f04c1bfe6",
   "metadata": {},
   "outputs": [
    {
     "data": {
      "text/plain": [
       "array([[0.        , 0.97815581, 0.17071378, 0.00462688, 0.0235727 ],\n",
       "       [0.97815581, 0.        , 0.20173889, 0.00569376, 0.02265865],\n",
       "       [0.17071378, 0.20173889, 0.        , 0.57177084, 0.36787944],\n",
       "       [0.00462688, 0.00569376, 0.57177084, 0.        , 0.57177084],\n",
       "       [0.0235727 , 0.02265865, 0.36787944, 0.57177084, 0.        ]])"
      ]
     },
     "execution_count": 14,
     "metadata": {},
     "output_type": "execute_result"
    }
   ],
   "source": [
    "adjacency_matrix"
   ]
  },
  {
   "cell_type": "markdown",
   "id": "e0c3195e-5b5f-4e43-b611-209eaecdac09",
   "metadata": {},
   "source": [
    "#### Epsilon-neighbourhood Graph"
   ]
  },
  {
   "cell_type": "code",
   "execution_count": 36,
   "id": "14feb77f-3c3c-4f03-a50c-6d13521c3dbb",
   "metadata": {},
   "outputs": [
    {
     "name": "stderr",
     "output_type": "stream",
     "text": [
      "100%|████████████████████████████████████████████████████████████████████████████████████████████| 5/5 [00:00<?, ?it/s]\n"
     ]
    }
   ],
   "source": [
    "# Adjaceny matrix with epsilon threshold\n",
    "epsilon = 5.00\n",
    "adjacency_matrix = np.zeros([dimension, dimension])\n",
    "dist = iter(dist_)\n",
    "\n",
    "for i in tqdm(range(dimension)):\n",
    "    for j in range(i+1, dimension):\n",
    "        if next(dist) < epsilon:\n",
    "            d = 1\n",
    "        else:\n",
    "            d = 0\n",
    "        adjacency_matrix[i,j] = d\n",
    "        adjacency_matrix[j,i] = d"
   ]
  },
  {
   "cell_type": "code",
   "execution_count": 37,
   "id": "b31c15ca-e3c0-484b-9963-98c25bdf9b95",
   "metadata": {},
   "outputs": [
    {
     "data": {
      "text/plain": [
       "array([[0., 1., 0., 0., 0.],\n",
       "       [1., 0., 0., 0., 0.],\n",
       "       [0., 0., 0., 1., 1.],\n",
       "       [0., 0., 1., 0., 1.],\n",
       "       [0., 0., 1., 1., 0.]])"
      ]
     },
     "execution_count": 37,
     "metadata": {},
     "output_type": "execute_result"
    }
   ],
   "source": [
    "adjacency_matrix"
   ]
  },
  {
   "cell_type": "markdown",
   "id": "87873b85-eebb-458c-9bf3-9323d57d43df",
   "metadata": {},
   "source": [
    "#### k-NN Graph "
   ]
  },
  {
   "cell_type": "code",
   "execution_count": 94,
   "id": "1158cccf-45c4-4f11-8c53-c88c59ebfe6d",
   "metadata": {},
   "outputs": [],
   "source": [
    "k = 2\n",
    "adjacency_matrix = np.zeros([dimension, dimension])\n",
    "\n",
    "for i in range(dimension):\n",
    "    # Sort distances for node i and get indices of the k nearest neighbors\n",
    "    sorted_indices = np.argsort(dist_mat[i])\n",
    "    k_nearest_indices = sorted_indices[1:k+1]  # Exclude the node itself\n",
    "\n",
    "    # Update the adjacency matrix\n",
    "    adjacency_matrix[i, k_nearest_indices] = 1"
   ]
  },
  {
   "cell_type": "code",
   "execution_count": 95,
   "id": "f8fa4095-aaea-496b-a685-4a67ca6740e3",
   "metadata": {},
   "outputs": [
    {
     "data": {
      "text/plain": [
       "array([[0., 1., 1., 0., 0.],\n",
       "       [1., 0., 1., 0., 0.],\n",
       "       [0., 0., 0., 1., 1.],\n",
       "       [0., 0., 1., 0., 1.],\n",
       "       [0., 0., 1., 1., 0.]])"
      ]
     },
     "execution_count": 95,
     "metadata": {},
     "output_type": "execute_result"
    }
   ],
   "source": [
    "adjacency_matrix"
   ]
  },
  {
   "cell_type": "markdown",
   "id": "980ada84-aff8-40d9-a108-24ac2a893e63",
   "metadata": {},
   "source": [
    "#### Mutual k-NN Graph"
   ]
  },
  {
   "cell_type": "code",
   "execution_count": 56,
   "id": "a8902390-652e-4373-a3d3-f887578a83f6",
   "metadata": {},
   "outputs": [],
   "source": [
    "k = 2\n",
    "adjacency_matrix = np.zeros([dimension, dimension])\n",
    "\n",
    "for i in range(dimension):\n",
    "    # Sort distances for node i and get indices of the k nearest neighbors\n",
    "    sorted_indices = np.argsort(dist_mat[i])\n",
    "    k_nearest_indices = sorted_indices[1:k+1]  # Exclude the node itself\n",
    "\n",
    "    for neighbor in k_nearest_indices:\n",
    "        # Check if node i is also among the k-nearest neighbors of the current neighbor\n",
    "        neighbor_sorted_indices = np.argsort(dist_mat[neighbor])\n",
    "        if i in neighbor_sorted_indices[1:k+1]:\n",
    "            # Connect nodes if they are mutual k-nearest neighbors\n",
    "            adjacency_matrix[i, neighbor] = 1\n",
    "            adjacency_matrix[neighbor, i] = 1"
   ]
  },
  {
   "cell_type": "code",
   "execution_count": 57,
   "id": "e36889b3-bb9c-495e-9aba-c08669434dd8",
   "metadata": {},
   "outputs": [
    {
     "data": {
      "text/plain": [
       "array([[0., 1., 0., 0., 0.],\n",
       "       [1., 0., 0., 0., 0.],\n",
       "       [0., 0., 0., 1., 1.],\n",
       "       [0., 0., 1., 0., 1.],\n",
       "       [0., 0., 1., 1., 0.]])"
      ]
     },
     "execution_count": 57,
     "metadata": {},
     "output_type": "execute_result"
    }
   ],
   "source": [
    "adjacency_matrix"
   ]
  },
  {
   "cell_type": "code",
   "execution_count": null,
   "id": "2ebe42f8-2f86-4058-b58c-bb1c1bf0ec93",
   "metadata": {},
   "outputs": [],
   "source": []
  },
  {
   "cell_type": "markdown",
   "id": "b6a51d85-8c7d-4bf8-85ba-1d69ad37d3ab",
   "metadata": {},
   "source": [
    "### Abhivanth --end--"
   ]
  },
  {
   "cell_type": "markdown",
   "id": "500edffb-9227-43ed-bef9-db085004bcb9",
   "metadata": {},
   "source": [
    "### Evelina --start--"
   ]
  },
  {
   "cell_type": "code",
   "execution_count": 96,
   "id": "3c2bae55-726f-4f72-8b8f-8892f2a2e521",
   "metadata": {},
   "outputs": [],
   "source": [
    "# Calculate degree matrix\n",
    "degree_matrix = np.sum(adjacency_matrix, axis=0) * np.eye(dimension)"
   ]
  },
  {
   "cell_type": "code",
   "execution_count": 97,
   "id": "ed546453-9441-40e2-850e-9e05bb416566",
   "metadata": {},
   "outputs": [
    {
     "data": {
      "text/plain": [
       "array([[1., 0., 0., 0., 0.],\n",
       "       [0., 1., 0., 0., 0.],\n",
       "       [0., 0., 4., 0., 0.],\n",
       "       [0., 0., 0., 2., 0.],\n",
       "       [0., 0., 0., 0., 2.]])"
      ]
     },
     "execution_count": 97,
     "metadata": {},
     "output_type": "execute_result"
    }
   ],
   "source": [
    "degree_matrix"
   ]
  },
  {
   "cell_type": "markdown",
   "id": "4ad61c34-7a31-48a8-a2e2-55a2edc52f65",
   "metadata": {},
   "source": [
    "#### Normalized Symmetric Laplacian"
   ]
  },
  {
   "cell_type": "code",
   "execution_count": 98,
   "id": "1cb2ae1f-124f-4859-adcf-02b8b6783a52",
   "metadata": {},
   "outputs": [],
   "source": [
    "# Normalized Symmetric laplacian matrix\n",
    "d_half = linalg.fractional_matrix_power(degree_matrix, -0.5)\n",
    "laplacian_matrix_normalized = np.matmul(np.matmul(d_half, adjacency_matrix), d_half)"
   ]
  },
  {
   "cell_type": "code",
   "execution_count": 99,
   "id": "9430a8f4-9375-4910-884e-c5a0b6edd948",
   "metadata": {},
   "outputs": [
    {
     "data": {
      "text/plain": [
       "array([[0.        , 1.        , 0.5       , 0.        , 0.        ],\n",
       "       [1.        , 0.        , 0.5       , 0.        , 0.        ],\n",
       "       [0.        , 0.        , 0.        , 0.35355339, 0.35355339],\n",
       "       [0.        , 0.        , 0.35355339, 0.        , 0.5       ],\n",
       "       [0.        , 0.        , 0.35355339, 0.5       , 0.        ]])"
      ]
     },
     "execution_count": 99,
     "metadata": {},
     "output_type": "execute_result"
    }
   ],
   "source": [
    "laplacian_matrix_normalized"
   ]
  },
  {
   "cell_type": "markdown",
   "id": "334c7d9e-d5a9-43c8-889d-df19b13c4fa5",
   "metadata": {},
   "source": [
    "#### Normalized Random Walk Laplacian"
   ]
  },
  {
   "cell_type": "code",
   "execution_count": 100,
   "id": "d8309b34-0fee-4877-b026-c460685a4848",
   "metadata": {},
   "outputs": [],
   "source": [
    "# Normalized Random Walk laplacian matrix\n",
    "d_inverse = linalg.fractional_matrix_power(degree_matrix, -1)\n",
    "laplacian_matrix_normalized = np.matmul(d_inverse, adjacency_matrix)"
   ]
  },
  {
   "cell_type": "code",
   "execution_count": 101,
   "id": "b44b1db4-9619-4e11-b766-b1087e577958",
   "metadata": {},
   "outputs": [
    {
     "data": {
      "text/plain": [
       "array([[0.  , 1.  , 1.  , 0.  , 0.  ],\n",
       "       [1.  , 0.  , 1.  , 0.  , 0.  ],\n",
       "       [0.  , 0.  , 0.  , 0.25, 0.25],\n",
       "       [0.  , 0.  , 0.5 , 0.  , 0.5 ],\n",
       "       [0.  , 0.  , 0.5 , 0.5 , 0.  ]])"
      ]
     },
     "execution_count": 101,
     "metadata": {},
     "output_type": "execute_result"
    }
   ],
   "source": [
    "laplacian_matrix_normalized"
   ]
  },
  {
   "cell_type": "code",
   "execution_count": 102,
   "id": "e5ae767a-3833-452d-a05f-87827c1f6557",
   "metadata": {},
   "outputs": [],
   "source": [
    "# Calculating eigenvalues and eigenvectors and subsetting to no. of clusters k\n",
    "k = 2\n",
    "e, v = np.linalg.eigh(laplacian_matrix_normalized)\n",
    "X = v[:, -1*k:]"
   ]
  },
  {
   "cell_type": "code",
   "execution_count": 103,
   "id": "7fef1231-e883-4425-ac26-481a2739b42d",
   "metadata": {},
   "outputs": [
    {
     "data": {
      "image/png": "[encoded data removed]",
      "text/plain": [
       "<Figure size 400x300 with 1 Axes>"
      ]
     },
     "metadata": {},
     "output_type": "display_data"
    }
   ],
   "source": [
    "plt.rcParams[\"figure.figsize\"] = (4,3)\n",
    "plt.scatter(range(len(e)), e);\n",
    "plt.xticks(range(0,len(e)));"
   ]
  },
  {
   "cell_type": "markdown",
   "id": "8016356c-8993-4323-a0d2-3578a17f6268",
   "metadata": {},
   "source": [
    "### Evelina --end--"
   ]
  },
  {
   "cell_type": "markdown",
   "id": "b3b74ea0-4309-48d2-aea3-7953df4ba7ae",
   "metadata": {},
   "source": [
    "## Kmeans Clustering"
   ]
  },
  {
   "cell_type": "code",
   "execution_count": 104,
   "id": "285ed0ab-b96c-4e0a-854d-e7299bf8fee9",
   "metadata": {},
   "outputs": [
    {
     "data": {
      "text/html": [
       "<div>\n",
       "<style scoped>\n",
       "    .dataframe tbody tr th:only-of-type {\n",
       "        vertical-align: middle;\n",
       "    }\n",
       "\n",
       "    .dataframe tbody tr th {\n",
       "        vertical-align: top;\n",
       "    }\n",
       "\n",
       "    .dataframe thead th {\n",
       "        text-align: right;\n",
       "    }\n",
       "</style>\n",
       "<table border=\"1\" class=\"dataframe\">\n",
       "  <thead>\n",
       "    <tr style=\"text-align: right;\">\n",
       "      <th></th>\n",
       "      <th>0</th>\n",
       "      <th>1</th>\n",
       "    </tr>\n",
       "  </thead>\n",
       "  <tbody>\n",
       "    <tr>\n",
       "      <th>0</th>\n",
       "      <td>0.00000</td>\n",
       "      <td>0.707107</td>\n",
       "    </tr>\n",
       "    <tr>\n",
       "      <th>1</th>\n",
       "      <td>0.00000</td>\n",
       "      <td>0.707107</td>\n",
       "    </tr>\n",
       "    <tr>\n",
       "      <th>2</th>\n",
       "      <td>-0.57735</td>\n",
       "      <td>0.000000</td>\n",
       "    </tr>\n",
       "    <tr>\n",
       "      <th>3</th>\n",
       "      <td>-0.57735</td>\n",
       "      <td>0.000000</td>\n",
       "    </tr>\n",
       "    <tr>\n",
       "      <th>4</th>\n",
       "      <td>-0.57735</td>\n",
       "      <td>0.000000</td>\n",
       "    </tr>\n",
       "  </tbody>\n",
       "</table>\n",
       "</div>"
      ],
      "text/plain": [
       "         0         1\n",
       "0  0.00000  0.707107\n",
       "1  0.00000  0.707107\n",
       "2 -0.57735  0.000000\n",
       "3 -0.57735  0.000000\n",
       "4 -0.57735  0.000000"
      ]
     },
     "execution_count": 104,
     "metadata": {},
     "output_type": "execute_result"
    }
   ],
   "source": [
    "cluster_df = pd.DataFrame(X)\n",
    "cluster_df"
   ]
  },
  {
   "cell_type": "code",
   "execution_count": 105,
   "id": "6a4c41d9-89f5-4f71-a9f6-c79b05a132b5",
   "metadata": {},
   "outputs": [
    {
     "name": "stdout",
     "output_type": "stream",
     "text": [
      "0.7486276568784475 1.0\n"
     ]
    },
    {
     "name": "stderr",
     "output_type": "stream",
     "text": [
      "C:\\Users\\mondal\\AppData\\Local\\Programs\\Python\\Python312\\Lib\\site-packages\\sklearn\\cluster\\_kmeans.py:1416: FutureWarning: The default value of `n_init` will change from 10 to 'auto' in 1.4. Set the value of `n_init` explicitly to suppress the warning\n",
      "  super()._check_params_vs_input(X, default_n_init=10)\n"
     ]
    }
   ],
   "source": [
    "clustering = KMeans(n_clusters = 2)\n",
    "cluster_df[\"cluster_label\"]= clustering.fit_predict(cluster_df)\n",
    "\n",
    "cluster_labels = clustering.labels_\n",
    "print(silhouette_score(df_data, cluster_labels),adjusted_rand_score(labels, cluster_labels))"
   ]
  },
  {
   "cell_type": "code",
   "execution_count": 106,
   "id": "363e31ed-b80f-41c2-aabc-9ba67b0ec452",
   "metadata": {},
   "outputs": [
    {
     "data": {
      "text/plain": [
       "array([[-0.57735027,  0.        ],\n",
       "       [ 0.        ,  0.70710678]])"
      ]
     },
     "execution_count": 106,
     "metadata": {},
     "output_type": "execute_result"
    }
   ],
   "source": [
    "clustering.cluster_centers_"
   ]
  },
  {
   "cell_type": "markdown",
   "id": "63d3da7e-e0ad-43b7-8981-e032de266884",
   "metadata": {},
   "source": [
    "#### Custom Kmeans Breakdown"
   ]
  },
  {
   "cell_type": "code",
   "execution_count": 107,
   "id": "fdf47bbf-092c-481d-b261-8ab06dd577a5",
   "metadata": {},
   "outputs": [
    {
     "data": {
      "text/html": [
       "<div>\n",
       "<style scoped>\n",
       "    .dataframe tbody tr th:only-of-type {\n",
       "        vertical-align: middle;\n",
       "    }\n",
       "\n",
       "    .dataframe tbody tr th {\n",
       "        vertical-align: top;\n",
       "    }\n",
       "\n",
       "    .dataframe thead th {\n",
       "        text-align: right;\n",
       "    }\n",
       "</style>\n",
       "<table border=\"1\" class=\"dataframe\">\n",
       "  <thead>\n",
       "    <tr style=\"text-align: right;\">\n",
       "      <th></th>\n",
       "      <th>x_coordinate</th>\n",
       "      <th>y_coordinate</th>\n",
       "    </tr>\n",
       "  </thead>\n",
       "  <tbody>\n",
       "    <tr>\n",
       "      <th>0</th>\n",
       "      <td>1</td>\n",
       "      <td>7</td>\n",
       "    </tr>\n",
       "    <tr>\n",
       "      <th>1</th>\n",
       "      <td>1</td>\n",
       "      <td>6</td>\n",
       "    </tr>\n",
       "    <tr>\n",
       "      <th>2</th>\n",
       "      <td>6</td>\n",
       "      <td>2</td>\n",
       "    </tr>\n",
       "    <tr>\n",
       "      <th>3</th>\n",
       "      <td>8</td>\n",
       "      <td>1</td>\n",
       "    </tr>\n",
       "    <tr>\n",
       "      <th>4</th>\n",
       "      <td>10</td>\n",
       "      <td>2</td>\n",
       "    </tr>\n",
       "  </tbody>\n",
       "</table>\n",
       "</div>"
      ],
      "text/plain": [
       "   x_coordinate  y_coordinate\n",
       "0             1             7\n",
       "1             1             6\n",
       "2             6             2\n",
       "3             8             1\n",
       "4            10             2"
      ]
     },
     "execution_count": 107,
     "metadata": {},
     "output_type": "execute_result"
    }
   ],
   "source": [
    "# Actual Data\n",
    "df_data"
   ]
  },
  {
   "cell_type": "code",
   "execution_count": 108,
   "id": "ee594479-39f3-40eb-9614-0078e2f39f74",
   "metadata": {},
   "outputs": [
    {
     "data": {
      "text/html": [
       "<div>\n",
       "<style scoped>\n",
       "    .dataframe tbody tr th:only-of-type {\n",
       "        vertical-align: middle;\n",
       "    }\n",
       "\n",
       "    .dataframe tbody tr th {\n",
       "        vertical-align: top;\n",
       "    }\n",
       "\n",
       "    .dataframe thead th {\n",
       "        text-align: right;\n",
       "    }\n",
       "</style>\n",
       "<table border=\"1\" class=\"dataframe\">\n",
       "  <thead>\n",
       "    <tr style=\"text-align: right;\">\n",
       "      <th></th>\n",
       "      <th>0</th>\n",
       "      <th>1</th>\n",
       "    </tr>\n",
       "  </thead>\n",
       "  <tbody>\n",
       "    <tr>\n",
       "      <th>0</th>\n",
       "      <td>0.00000</td>\n",
       "      <td>0.707107</td>\n",
       "    </tr>\n",
       "    <tr>\n",
       "      <th>1</th>\n",
       "      <td>0.00000</td>\n",
       "      <td>0.707107</td>\n",
       "    </tr>\n",
       "    <tr>\n",
       "      <th>2</th>\n",
       "      <td>-0.57735</td>\n",
       "      <td>0.000000</td>\n",
       "    </tr>\n",
       "    <tr>\n",
       "      <th>3</th>\n",
       "      <td>-0.57735</td>\n",
       "      <td>0.000000</td>\n",
       "    </tr>\n",
       "    <tr>\n",
       "      <th>4</th>\n",
       "      <td>-0.57735</td>\n",
       "      <td>0.000000</td>\n",
       "    </tr>\n",
       "  </tbody>\n",
       "</table>\n",
       "</div>"
      ],
      "text/plain": [
       "         0         1\n",
       "0  0.00000  0.707107\n",
       "1  0.00000  0.707107\n",
       "2 -0.57735  0.000000\n",
       "3 -0.57735  0.000000\n",
       "4 -0.57735  0.000000"
      ]
     },
     "execution_count": 108,
     "metadata": {},
     "output_type": "execute_result"
    }
   ],
   "source": [
    "# Eigen decomposed actual data for clustering\n",
    "cluster_df = pd.DataFrame(X)\n",
    "cluster_df"
   ]
  },
  {
   "cell_type": "code",
   "execution_count": 109,
   "id": "fd3440f8-275e-4a8d-8f9b-80359022ffdc",
   "metadata": {},
   "outputs": [],
   "source": [
    "# Function to initialize centroids\n",
    "def initialize_centroids(df, k):\n",
    "    indices = np.random.choice(len(df), k, replace=False)\n",
    "    centroids = df.iloc[indices].values\n",
    "    return centroids\n",
    "\n",
    "# Function to assign points to clusters\n",
    "def assign_to_clusters(df, centroids):\n",
    "    distances = np.linalg.norm(df.values[:, np.newaxis] - centroids, axis=2)\n",
    "    clusters = np.argmin(distances, axis=1)\n",
    "    return clusters\n",
    "\n",
    "# Function to update centroids\n",
    "def update_centroids(df, clusters, iterations):\n",
    "    new_centroids = np.array([df[clusters == i].mean(axis=0) if np.sum(clusters == i) > 0 else initialize_centroids(df, 1)[0] for i in range(iterations)])\n",
    "    return new_centroids\n"
   ]
  },
  {
   "cell_type": "code",
   "execution_count": 110,
   "id": "7b59b392-e586-4fca-92a8-a3d004d3542c",
   "metadata": {},
   "outputs": [
    {
     "data": {
      "text/plain": [
       "array([[ 0.        ,  0.70710678],\n",
       "       [-0.57735027,  0.        ]])"
      ]
     },
     "execution_count": 110,
     "metadata": {},
     "output_type": "execute_result"
    }
   ],
   "source": [
    "# Random initialization of centroids\n",
    "initial_centroids = initialize_centroids(cluster_df, 2)\n",
    "initial_centroids"
   ]
  },
  {
   "cell_type": "code",
   "execution_count": 111,
   "id": "3494a465-dfd4-4745-8b38-2a40b3d441d6",
   "metadata": {},
   "outputs": [
    {
     "data": {
      "text/plain": [
       "array([0, 0, 1, 1, 1], dtype=int64)"
      ]
     },
     "execution_count": 111,
     "metadata": {},
     "output_type": "execute_result"
    }
   ],
   "source": [
    "# First assignemnt of data points to initialized centroids\n",
    "clusters = assign_to_clusters(cluster_df, initial_centroids)\n",
    "clusters"
   ]
  },
  {
   "cell_type": "code",
   "execution_count": 112,
   "id": "9e6c93f8-0c76-4ddd-a779-2e225cc102d3",
   "metadata": {},
   "outputs": [
    {
     "data": {
      "text/plain": [
       "array([[ 0.        ,  0.70710678],\n",
       "       [-0.57735027,  0.        ],\n",
       "       [-0.57735027,  0.        ],\n",
       "       [-0.57735027,  0.        ],\n",
       "       [-0.57735027,  0.        ],\n",
       "       [-0.57735027,  0.        ],\n",
       "       [-0.57735027,  0.        ],\n",
       "       [-0.57735027,  0.        ],\n",
       "       [ 0.        ,  0.70710678],\n",
       "       [-0.57735027,  0.        ],\n",
       "       [-0.57735027,  0.        ],\n",
       "       [ 0.        ,  0.70710678],\n",
       "       [ 0.        ,  0.70710678],\n",
       "       [-0.57735027,  0.        ],\n",
       "       [-0.57735027,  0.        ],\n",
       "       [ 0.        ,  0.70710678],\n",
       "       [-0.57735027,  0.        ],\n",
       "       [-0.57735027,  0.        ],\n",
       "       [-0.57735027,  0.        ],\n",
       "       [-0.57735027,  0.        ]])"
      ]
     },
     "execution_count": 112,
     "metadata": {},
     "output_type": "execute_result"
    }
   ],
   "source": [
    "# Iterations\n",
    "new_centroids = update_centroids(cluster_df, clusters, 20)\n",
    "new_centroids"
   ]
  },
  {
   "cell_type": "code",
   "execution_count": 113,
   "id": "afddf40d-fbb2-4add-84f7-29d5998c7f4c",
   "metadata": {},
   "outputs": [
    {
     "data": {
      "image/png": "[encoded data removed]",
      "text/plain": [
       "<Figure size 1200x500 with 2 Axes>"
      ]
     },
     "metadata": {},
     "output_type": "display_data"
    }
   ],
   "source": [
    "# Create a figure with two subplots side by side\n",
    "fig, axs = plt.subplots(1, 2, figsize=(12, 5))\n",
    "# Plot the first set of clusters\n",
    "axs[0].scatter(cluster_df[0], cluster_df[1], c=clusters, cmap='bwr', s = 200)\n",
    "axs[0].scatter(initial_centroids[:, 0], initial_centroids[:, 1], marker='X', s=100, c='orange', label='Centroids')\n",
    "axs[0].set_title('Initial Centroids')\n",
    "axs[0].set_xlabel('X-axis')\n",
    "axs[0].set_ylabel('Y-axis')\n",
    "axs[0].legend()\n",
    "\n",
    "# Plot the second set of clusters\n",
    "axs[1].scatter(cluster_df[0], cluster_df[1], c=clusters, cmap='bwr', s = 200)\n",
    "axs[1].scatter(new_centroids[:2, 0], new_centroids[:2, 1], marker='X', s=100, c='orange', label='Centroids')\n",
    "axs[1].set_title('New Centroids')\n",
    "axs[1].set_xlabel('X-axis')\n",
    "axs[1].set_ylabel('Y-axis')\n",
    "axs[1].legend()\n",
    "\n",
    "plt.tight_layout()  # Adjust layout for better spacing\n",
    "plt.show()"
   ]
  },
  {
   "cell_type": "markdown",
   "id": "fdac9bc2-6279-4384-ba22-18415d4d2b02",
   "metadata": {},
   "source": [
    "#### Custom Silhouette Coefficient Breakdown"
   ]
  },
  {
   "cell_type": "code",
   "execution_count": 114,
   "id": "63988528-699d-4f83-82b9-1abc876ed19f",
   "metadata": {},
   "outputs": [],
   "source": [
    "def euclidean_distance(point1, point2):\n",
    "    return np.linalg.norm(point1 - point2)\n",
    "\n",
    "def calculate_cohesion(point, cluster_points):\n",
    "    if len(cluster_points) == 0:\n",
    "        return 0.0\n",
    "    distances = [euclidean_distance(point, other_point) for other_point in cluster_points]\n",
    "    return np.mean(distances)\n",
    "\n",
    "def calculate_separation(point, other_clusters):\n",
    "    if len(other_clusters) == 0:\n",
    "        return 0.0\n",
    "    min_distances = [np.min([euclidean_distance(point, other_point) for other_point in cluster_points]) for cluster_points in other_clusters]\n",
    "    return np.mean(min_distances)\n",
    "\n",
    "def silhouette_coefficient(df, clusters):\n",
    "    num_points = len(df)\n",
    "    all_cohesion = []\n",
    "    all_separation = []\n",
    "    all_silhouette = []\n",
    "\n",
    "    for i in range(num_points):\n",
    "        point = df.iloc[i].values.astype(float)  # Convert to numeric\n",
    "        cluster_index = clusters[i]\n",
    "        cluster_points = df[clusters == cluster_index].values.astype(float)\n",
    "\n",
    "        a = calculate_cohesion(point, cluster_points)\n",
    "        all_cohesion.append(a)\n",
    "\n",
    "        other_clusters = [df[clusters == idx].values.astype(float) for idx in set(clusters) if idx != cluster_index]\n",
    "        b = calculate_separation(point, other_clusters)\n",
    "        all_separation.append(b)\n",
    "\n",
    "        silhouette_value = (b - a) / max(a, b) if max(a, b) != 0 else 0.0\n",
    "        all_silhouette.append(silhouette_value)\n",
    "\n",
    "    avg_silhouette = np.mean(all_silhouette)\n",
    "\n",
    "    return all_cohesion, all_separation, all_silhouette, avg_silhouette"
   ]
  },
  {
   "cell_type": "code",
   "execution_count": 115,
   "id": "fde2e886-657c-4ed2-8168-f9248bf077d6",
   "metadata": {},
   "outputs": [
    {
     "data": {
      "text/html": [
       "<div>\n",
       "<style scoped>\n",
       "    .dataframe tbody tr th:only-of-type {\n",
       "        vertical-align: middle;\n",
       "    }\n",
       "\n",
       "    .dataframe tbody tr th {\n",
       "        vertical-align: top;\n",
       "    }\n",
       "\n",
       "    .dataframe thead th {\n",
       "        text-align: right;\n",
       "    }\n",
       "</style>\n",
       "<table border=\"1\" class=\"dataframe\">\n",
       "  <thead>\n",
       "    <tr style=\"text-align: right;\">\n",
       "      <th></th>\n",
       "      <th>x_coordinate</th>\n",
       "      <th>y_coordinate</th>\n",
       "    </tr>\n",
       "  </thead>\n",
       "  <tbody>\n",
       "    <tr>\n",
       "      <th>0</th>\n",
       "      <td>1</td>\n",
       "      <td>7</td>\n",
       "    </tr>\n",
       "    <tr>\n",
       "      <th>1</th>\n",
       "      <td>1</td>\n",
       "      <td>6</td>\n",
       "    </tr>\n",
       "    <tr>\n",
       "      <th>2</th>\n",
       "      <td>6</td>\n",
       "      <td>2</td>\n",
       "    </tr>\n",
       "    <tr>\n",
       "      <th>3</th>\n",
       "      <td>8</td>\n",
       "      <td>1</td>\n",
       "    </tr>\n",
       "    <tr>\n",
       "      <th>4</th>\n",
       "      <td>10</td>\n",
       "      <td>2</td>\n",
       "    </tr>\n",
       "  </tbody>\n",
       "</table>\n",
       "</div>"
      ],
      "text/plain": [
       "   x_coordinate  y_coordinate\n",
       "0             1             7\n",
       "1             1             6\n",
       "2             6             2\n",
       "3             8             1\n",
       "4            10             2"
      ]
     },
     "execution_count": 115,
     "metadata": {},
     "output_type": "execute_result"
    }
   ],
   "source": [
    "df_data"
   ]
  },
  {
   "cell_type": "code",
   "execution_count": 116,
   "id": "bff56d97-5263-4f63-9693-5d2ade28e61b",
   "metadata": {},
   "outputs": [
    {
     "data": {
      "text/html": [
       "<div>\n",
       "<style scoped>\n",
       "    .dataframe tbody tr th:only-of-type {\n",
       "        vertical-align: middle;\n",
       "    }\n",
       "\n",
       "    .dataframe tbody tr th {\n",
       "        vertical-align: top;\n",
       "    }\n",
       "\n",
       "    .dataframe thead th {\n",
       "        text-align: right;\n",
       "    }\n",
       "</style>\n",
       "<table border=\"1\" class=\"dataframe\">\n",
       "  <thead>\n",
       "    <tr style=\"text-align: right;\">\n",
       "      <th></th>\n",
       "      <th>0</th>\n",
       "      <th>1</th>\n",
       "    </tr>\n",
       "  </thead>\n",
       "  <tbody>\n",
       "    <tr>\n",
       "      <th>0</th>\n",
       "      <td>0.00000</td>\n",
       "      <td>0.707107</td>\n",
       "    </tr>\n",
       "    <tr>\n",
       "      <th>1</th>\n",
       "      <td>0.00000</td>\n",
       "      <td>0.707107</td>\n",
       "    </tr>\n",
       "    <tr>\n",
       "      <th>2</th>\n",
       "      <td>-0.57735</td>\n",
       "      <td>0.000000</td>\n",
       "    </tr>\n",
       "    <tr>\n",
       "      <th>3</th>\n",
       "      <td>-0.57735</td>\n",
       "      <td>0.000000</td>\n",
       "    </tr>\n",
       "    <tr>\n",
       "      <th>4</th>\n",
       "      <td>-0.57735</td>\n",
       "      <td>0.000000</td>\n",
       "    </tr>\n",
       "  </tbody>\n",
       "</table>\n",
       "</div>"
      ],
      "text/plain": [
       "         0         1\n",
       "0  0.00000  0.707107\n",
       "1  0.00000  0.707107\n",
       "2 -0.57735  0.000000\n",
       "3 -0.57735  0.000000\n",
       "4 -0.57735  0.000000"
      ]
     },
     "execution_count": 116,
     "metadata": {},
     "output_type": "execute_result"
    }
   ],
   "source": [
    "cluster_df"
   ]
  },
  {
   "cell_type": "code",
   "execution_count": 117,
   "id": "870d981e-8706-4676-b3ed-accfb9447e31",
   "metadata": {},
   "outputs": [
    {
     "name": "stdout",
     "output_type": "stream",
     "text": [
      "All Cohesion: [0.5, 0.5, 2.0786893258332633, 1.4907119849998598, 2.0786893258332633]\n",
      "All Separation: [7.0710678118654755, 6.4031242374328485, 6.4031242374328485, 8.602325267042627, 9.848857801796104]\n",
      "All Silhouette: [0.9292893218813453, 0.921913119055697, 0.6753632681869288, 0.8267082516966546, 0.7889410764511008]\n",
      "Average Silhouette Coefficient: 0.8284430074543453\n"
     ]
    }
   ],
   "source": [
    "all_cohesion, all_separation, all_silhouette, avg_silhouette = silhouette_coefficient(df_data, clusters)\n",
    "print(\"All Cohesion:\", all_cohesion)\n",
    "print(\"All Separation:\", all_separation)\n",
    "print(\"All Silhouette:\", all_silhouette)\n",
    "print(\"Average Silhouette Coefficient:\", avg_silhouette)"
   ]
  },
  {
   "cell_type": "markdown",
   "id": "77290a8f-e9f1-454f-bb13-e714cc5ca9a0",
   "metadata": {},
   "source": [
    "#### Silhouette Using Sklearn"
   ]
  },
  {
   "cell_type": "code",
   "execution_count": 93,
   "id": "1fd8d4e2-f957-4752-a649-98630d48b520",
   "metadata": {},
   "outputs": [
    {
     "name": "stdout",
     "output_type": "stream",
     "text": [
      "Overall silhouette score: 0.15432537584277442\n",
      "All silhouette score: [ 0.41154361  0.40915974  0.23616796 -0.74906472  0.46382029]\n"
     ]
    },
    {
     "data": {
      "image/png": "[encoded data removed]",
      "text/plain": [
       "<Figure size 400x300 with 1 Axes>"
      ]
     },
     "metadata": {},
     "output_type": "display_data"
    }
   ],
   "source": [
    "# Calculate silhouette score\n",
    "silhouette_avg = silhouette_score(df_data, clusters)\n",
    "print(f\"Overall silhouette score: {silhouette_avg}\")\n",
    "\n",
    "# Calculate silhouette score for each data point\n",
    "sample_silhouette_values = silhouette_samples(df_data, clusters)\n",
    "print(f\"All silhouette score: {sample_silhouette_values}\")\n",
    "\n",
    "k = 2\n",
    "# Plot silhouette values for each data point\n",
    "y_lower = 10  # for plotting purposes\n",
    "for i in range(k):\n",
    "    # Aggregate the silhouette scores for samples belonging to cluster i and sort them\n",
    "    ith_cluster_silhouette_values = sample_silhouette_values[clusters == i]\n",
    "    ith_cluster_silhouette_values.sort()\n",
    "\n",
    "    size_cluster_i = ith_cluster_silhouette_values.shape[0]\n",
    "    y_upper = y_lower + size_cluster_i\n",
    "\n",
    "    color = plt.cm.nipy_spectral(float(i) / k)\n",
    "    plt.fill_betweenx(np.arange(y_lower, y_upper), 0, ith_cluster_silhouette_values, facecolor=color, edgecolor=color, alpha=0.7)\n",
    "\n",
    "    # Label the silhouette plots with their cluster numbers at the middle\n",
    "    plt.text(-0.05, y_lower + 0.5 * size_cluster_i, str(i))\n",
    "\n",
    "    # Compute the new y_lower for next plot\n",
    "    y_lower = y_upper + 10  # 10 for the 0 samples\n",
    "\n",
    "plt.title(\"Silhouette plot for each cluster\")\n",
    "plt.xlabel(\"Silhouette coefficient values\")\n",
    "plt.ylabel(\"Cluster label\")\n",
    "\n",
    "# The vertical line for average silhouette score of all the values\n",
    "plt.axvline(x=silhouette_avg, color=\"red\", linestyle=\"--\")\n",
    "\n",
    "plt.show()"
   ]
  },
  {
   "cell_type": "markdown",
   "id": "783ebfd5-3cc8-4a7c-88a5-5b65c36f7b21",
   "metadata": {},
   "source": [
    "#### Custom Adjusted Rand Index Breakdown"
   ]
  },
  {
   "cell_type": "code",
   "execution_count": 118,
   "id": "eef5816a-a121-47ea-9376-2fb9b5909e0d",
   "metadata": {},
   "outputs": [],
   "source": [
    "def calculate_contingency_matrix(true_labels, predicted_labels):\n",
    "    \"\"\"\n",
    "    Calculate the contingency matrix for two sets of labels.\n",
    "\n",
    "    Parameters:\n",
    "    - true_labels: true cluster labels for each data point\n",
    "    - predicted_labels: predicted cluster labels for each data point\n",
    "\n",
    "    Returns:\n",
    "    - contingency_matrix: contingency matrix\n",
    "    \"\"\"\n",
    "    unique_true_labels = np.unique(true_labels)\n",
    "    unique_predicted_labels = np.unique(predicted_labels)\n",
    "\n",
    "    contingency_matrix = np.zeros((len(unique_true_labels), len(unique_predicted_labels)))\n",
    "\n",
    "    for i in range(len(true_labels)):\n",
    "        true_label_index = np.where(unique_true_labels == true_labels[i])[0][0]\n",
    "        predicted_label_index = np.where(unique_predicted_labels == predicted_labels[i])[0][0]\n",
    "\n",
    "        contingency_matrix[true_label_index, predicted_label_index] += 1\n",
    "\n",
    "    return contingency_matrix\n",
    "\n",
    "\n",
    "def calculate_adjusted_rand_index(true_labels, predicted_labels):\n",
    "    \"\"\"\n",
    "    Calculate Adjusted Rand Index (ARI) for clustering evaluation.\n",
    "\n",
    "    Parameters:\n",
    "    - true_labels: true cluster labels for each data point\n",
    "    - predicted_labels: predicted cluster labels for each data point\n",
    "\n",
    "    Returns:\n",
    "    - adjusted_rand_index: Adjusted Rand Index value\n",
    "    \"\"\"\n",
    "    contingency_matrix = calculate_contingency_matrix(true_labels, predicted_labels)\n",
    "\n",
    "    a = np.sum(np.square(contingency_matrix).sum(axis=1))\n",
    "    b = np.sum(np.square(contingency_matrix).sum(axis=0))\n",
    "    c = np.square(contingency_matrix).sum()\n",
    "    d = np.sum(np.square(contingency_matrix))\n",
    "\n",
    "    n = len(true_labels)\n",
    "\n",
    "    expected_index = (a * b) / (n * (n - 1) / 2)\n",
    "    max_index = (c + d) / 2 - expected_index\n",
    "\n",
    "    adjusted_rand_index = (c - expected_index) / max_index\n",
    "\n",
    "    return adjusted_rand_index"
   ]
  },
  {
   "cell_type": "code",
   "execution_count": 120,
   "id": "d4f1594f-c6c8-4789-b235-239472643431",
   "metadata": {},
   "outputs": [
    {
     "data": {
      "text/plain": [
       "1.0"
      ]
     },
     "execution_count": 120,
     "metadata": {},
     "output_type": "execute_result"
    }
   ],
   "source": [
    "ari = calculate_adjusted_rand_index(labels, clusters)\n",
    "ari"
   ]
  },
  {
   "cell_type": "code",
   "execution_count": null,
   "id": "509ee793-f120-47e0-aab7-b118d3450d32",
   "metadata": {},
   "outputs": [],
   "source": []
  },
  {
   "cell_type": "code",
   "execution_count": null,
   "id": "c7463dcf-9740-4678-9605-9a7853058270",
   "metadata": {},
   "outputs": [],
   "source": []
  },
  {
   "cell_type": "code",
   "execution_count": null,
   "id": "ecb1fd4f-9e77-4368-9975-ff268bea9a4b",
   "metadata": {},
   "outputs": [],
   "source": []
  },
  {
   "cell_type": "markdown",
   "id": "4fe99010-9097-4a2e-975d-9a60680cb2c0",
   "metadata": {},
   "source": [
    "# Experimental Function"
   ]
  },
  {
   "cell_type": "code",
   "execution_count": 78,
   "id": "7def117a-ebca-46c5-a1dd-d997f3339464",
   "metadata": {},
   "outputs": [],
   "source": [
    "def spectral_clustering(dataframe, labels, similarity_graph, laplacian, number_of_clusters):\n",
    "\n",
    "    # Pairwise distances\n",
    "    dimension = dataframe.shape[0]\n",
    "    dist_ = pdist(dataframe)\n",
    "    dist_mat = np.zeros([dimension, dimension])\n",
    "    dist = iter(dist_)\n",
    "    for i in tqdm(range(dimension)):\n",
    "        for j in range(i+1, dimension):  \n",
    "            d = next(dist)\n",
    "            dist_mat[i,j] = d\n",
    "            dist_mat[j,i] = d\n",
    "\n",
    "\n",
    "    if similarity_graph == \"full\":\n",
    "\n",
    "        #calculate local sigma\n",
    "        sigmas = np.zeros(dimension)\n",
    "        for i in tqdm(range(len(dist_mat))):\n",
    "            sigmas[i] = sorted(dist_mat[i])[2]\n",
    "\n",
    "        # Adjaceny matrix with optimal sigma\n",
    "        adjacency_matrix = np.zeros([dimension, dimension])\n",
    "        dist = iter(dist_)\n",
    "        for i in tqdm(range(dimension)):\n",
    "            for j in range(i+1, dimension):  \n",
    "                d = np.exp(-1*next(dist)**2/(sigmas[i]*sigmas[j]))\n",
    "                adjacency_matrix[i,j] = d\n",
    "                adjacency_matrix[j,i] = d\n",
    "\n",
    "    \n",
    "    elif similarity_graph == \"eps\":\n",
    "\n",
    "        # Adjaceny matrix with epsilon threshold\n",
    "        epsilon = 5.00\n",
    "        adjacency_matrix = np.zeros([dimension, dimension])\n",
    "        dist = iter(dist_)\n",
    "        \n",
    "        for i in tqdm(range(dimension)):\n",
    "            for j in range(i+1, dimension):\n",
    "                if next(dist) < epsilon:\n",
    "                    d = 1\n",
    "                else:\n",
    "                    d = 0\n",
    "                adjacency_matrix[i,j] = d\n",
    "                adjacency_matrix[j,i] = d\n",
    "\n",
    "\n",
    "    elif similarity_graph == \"knn\":\n",
    "\n",
    "        # Adjaceny matrix with k-neighbours\n",
    "        k = 2\n",
    "        adjacency_matrix = np.zeros([dimension, dimension])\n",
    "        \n",
    "        for i in tqdm(range(dimension)):\n",
    "            # Sort distances for node i and get indices of the k nearest neighbors\n",
    "            sorted_indices = np.argsort(dist_mat[i])\n",
    "            k_nearest_indices = sorted_indices[1:k+1]  # Exclude the node itself\n",
    "        \n",
    "            # Update the adjacency matrix\n",
    "            adjacency_matrix[i, k_nearest_indices] = 1\n",
    "\n",
    "\n",
    "    else:\n",
    "\n",
    "        # Adjaceny matrix with mutual k-neighbours\n",
    "        k = 2\n",
    "        adjacency_matrix = np.zeros([dimension, dimension])\n",
    "        \n",
    "        for i in tqdm(range(dimension)):\n",
    "            # Sort distances for node i and get indices of the k nearest neighbors\n",
    "            sorted_indices = np.argsort(dist_mat[i])\n",
    "            k_nearest_indices = sorted_indices[1:k+1]  # Exclude the node itself\n",
    "        \n",
    "            for neighbor in k_nearest_indices:\n",
    "                # Check if node i is also among the k-nearest neighbors of the current neighbor\n",
    "                neighbor_sorted_indices = np.argsort(dist_mat[neighbor])\n",
    "                if i in neighbor_sorted_indices[1:k+1]:\n",
    "                    # Connect nodes if they are mutual k-nearest neighbors\n",
    "                    adjacency_matrix[i, neighbor] = 1\n",
    "                    adjacency_matrix[neighbor, i] = 1\n",
    "\n",
    "\n",
    "    \n",
    "    # Calculate degree matrix\n",
    "    degree_matrix = np.sum(adjacency_matrix, axis=0) * np.eye(dimension)\n",
    "    \n",
    "\n",
    "    if laplacian == \"sym\":\n",
    "\n",
    "        # Normalized Symmetric laplacian matrix\n",
    "        d_half = linalg.fractional_matrix_power(degree_matrix, -0.5)\n",
    "        laplacian_matrix_normalized = np.matmul(np.matmul(d_half, adjacency_matrix), d_half)\n",
    "\n",
    "    if laplacian == \"rw\":\n",
    "\n",
    "        # Normalized Random Walk laplacian matrix\n",
    "        d_inverse = linalg.fractional_matrix_power(degree_matrix, -1)\n",
    "        laplacian_matrix_normalized = np.matmul(d_inverse, adjacency_matrix)\n",
    "\n",
    "\n",
    "    # Calculating eigenvalues and eigenvectors\n",
    "    e, v = np.linalg.eigh(laplacian_matrix_normalized)\n",
    "\n",
    "    # Eigen features for k\n",
    "    k = number_of_clusters\n",
    "    X = v[:, -1*k:]\n",
    "\n",
    "    # Kmeans\n",
    "    clustering = KMeans(n_clusters = number_of_clusters)\n",
    "    clustering.fit(X)\n",
    "    \n",
    "    cluster_labels = clustering.labels_\n",
    "    \n",
    "    return silhouette_score(dataframe, cluster_labels), adjusted_rand_score(labels, cluster_labels)"
   ]
  },
  {
   "cell_type": "code",
   "execution_count": 85,
   "id": "9d226895-1a36-4c84-8078-4b4dcc93fb8e",
   "metadata": {},
   "outputs": [
    {
     "name": "stderr",
     "output_type": "stream",
     "text": [
      "100%|████████████████████████████████████████████████████████████████████████████████████████████| 5/5 [00:00<?, ?it/s]\n",
      "100%|████████████████████████████████████████████████████████████████████████████████████████████| 5/5 [00:00<?, ?it/s]\n",
      "C:\\Users\\mondal\\AppData\\Local\\Programs\\Python\\Python311\\Lib\\site-packages\\sklearn\\cluster\\_kmeans.py:1412: FutureWarning: The default value of `n_init` will change from 10 to 'auto' in 1.4. Set the value of `n_init` explicitly to suppress the warning\n",
      "  super()._check_params_vs_input(X, default_n_init=10)\n",
      "100%|████████████████████████████████████████████████████████████████████████████████████████████| 5/5 [00:00<?, ?it/s]\n",
      "100%|████████████████████████████████████████████████████████████████████████████████████████████| 5/5 [00:00<?, ?it/s]\n",
      "C:\\Users\\mondal\\AppData\\Local\\Programs\\Python\\Python311\\Lib\\site-packages\\sklearn\\cluster\\_kmeans.py:1412: FutureWarning: The default value of `n_init` will change from 10 to 'auto' in 1.4. Set the value of `n_init` explicitly to suppress the warning\n",
      "  super()._check_params_vs_input(X, default_n_init=10)\n",
      "100%|████████████████████████████████████████████████████████████████████████████████████████████| 5/5 [00:00<?, ?it/s]\n",
      "C:\\Users\\mondal\\AppData\\Local\\Programs\\Python\\Python311\\Lib\\site-packages\\sklearn\\cluster\\_kmeans.py:1412: FutureWarning: The default value of `n_init` will change from 10 to 'auto' in 1.4. Set the value of `n_init` explicitly to suppress the warning\n",
      "  super()._check_params_vs_input(X, default_n_init=10)\n",
      "100%|████████████████████████████████████████████████████████████████████████████████████████████| 5/5 [00:00<?, ?it/s]\n",
      "C:\\Users\\mondal\\AppData\\Local\\Programs\\Python\\Python311\\Lib\\site-packages\\sklearn\\cluster\\_kmeans.py:1412: FutureWarning: The default value of `n_init` will change from 10 to 'auto' in 1.4. Set the value of `n_init` explicitly to suppress the warning\n",
      "  super()._check_params_vs_input(X, default_n_init=10)\n",
      "C:\\Users\\mondal\\AppData\\Local\\Programs\\Python\\Python311\\Lib\\site-packages\\sklearn\\cluster\\_kmeans.py:1412: FutureWarning: The default value of `n_init` will change from 10 to 'auto' in 1.4. Set the value of `n_init` explicitly to suppress the warning\n",
      "  super()._check_params_vs_input(X, default_n_init=10)\n",
      "C:\\Users\\mondal\\AppData\\Local\\Programs\\Python\\Python311\\Lib\\site-packages\\sklearn\\cluster\\_kmeans.py:1412: FutureWarning: The default value of `n_init` will change from 10 to 'auto' in 1.4. Set the value of `n_init` explicitly to suppress the warning\n",
      "  super()._check_params_vs_input(X, default_n_init=10)\n",
      "C:\\Users\\mondal\\AppData\\Local\\Programs\\Python\\Python311\\Lib\\site-packages\\sklearn\\cluster\\_kmeans.py:1412: FutureWarning: The default value of `n_init` will change from 10 to 'auto' in 1.4. Set the value of `n_init` explicitly to suppress the warning\n",
      "  super()._check_params_vs_input(X, default_n_init=10)\n",
      "C:\\Users\\mondal\\AppData\\Local\\Programs\\Python\\Python311\\Lib\\site-packages\\sklearn\\cluster\\_kmeans.py:1412: FutureWarning: The default value of `n_init` will change from 10 to 'auto' in 1.4. Set the value of `n_init` explicitly to suppress the warning\n",
      "  super()._check_params_vs_input(X, default_n_init=10)\n"
     ]
    }
   ],
   "source": [
    "similarity_graphs = [\"full\", \"eps\", \"knn\", \"mknn\"]\n",
    "laplacian_methods = [\"sym\", \"rw\"]\n",
    "\n",
    "silhouette_scores = []\n",
    "adjusted_rand_scores = []\n",
    "sim_graph = []\n",
    "laplacian = []\n",
    "\n",
    "for graph in similarity_graphs:\n",
    "\n",
    "    for laplace in laplacian_methods:\n",
    "\n",
    "        sim_graph.append(graph)\n",
    "        laplacian.append(laplace)\n",
    "\n",
    "        si, ar = spectral_clustering(df_data, labels, graph, laplace, 2)\n",
    "\n",
    "        silhouette_scores.append(si)\n",
    "        adjusted_rand_scores.append(ar)"
   ]
  },
  {
   "cell_type": "code",
   "execution_count": 87,
   "id": "631c5838-2043-4887-9c36-f8c54debfb5c",
   "metadata": {},
   "outputs": [],
   "source": [
    "experiment_d0 = pd.DataFrame(list(zip(sim_graph,laplacian,silhouette_scores,adjusted_rand_scores)), \n",
    "             columns= [\"graph\", \"laplacian\", \"silhouette\", \"adjusted_rand\"])\n",
    "\n",
    "experiment_d0[\"graph_laplacian\"] = experiment_d0[\"graph\"] + \"_\" + experiment_d0[\"laplacian\"]"
   ]
  },
  {
   "cell_type": "code",
   "execution_count": 92,
   "id": "25680540-3cb3-4098-8f52-3364deb7affc",
   "metadata": {},
   "outputs": [
    {
     "data": {
      "text/html": [
       "<div>\n",
       "<style scoped>\n",
       "    .dataframe tbody tr th:only-of-type {\n",
       "        vertical-align: middle;\n",
       "    }\n",
       "\n",
       "    .dataframe tbody tr th {\n",
       "        vertical-align: top;\n",
       "    }\n",
       "\n",
       "    .dataframe thead th {\n",
       "        text-align: right;\n",
       "    }\n",
       "</style>\n",
       "<table border=\"1\" class=\"dataframe\">\n",
       "  <thead>\n",
       "    <tr style=\"text-align: right;\">\n",
       "      <th></th>\n",
       "      <th>graph</th>\n",
       "      <th>laplacian</th>\n",
       "      <th>silhouette</th>\n",
       "      <th>adjusted_rand</th>\n",
       "      <th>graph_laplacian</th>\n",
       "    </tr>\n",
       "  </thead>\n",
       "  <tbody>\n",
       "    <tr>\n",
       "      <th>0</th>\n",
       "      <td>full</td>\n",
       "      <td>sym</td>\n",
       "      <td>0.748628</td>\n",
       "      <td>1.0</td>\n",
       "      <td>full_sym</td>\n",
       "    </tr>\n",
       "    <tr>\n",
       "      <th>1</th>\n",
       "      <td>full</td>\n",
       "      <td>rw</td>\n",
       "      <td>0.748628</td>\n",
       "      <td>1.0</td>\n",
       "      <td>full_rw</td>\n",
       "    </tr>\n",
       "    <tr>\n",
       "      <th>2</th>\n",
       "      <td>eps</td>\n",
       "      <td>sym</td>\n",
       "      <td>0.748628</td>\n",
       "      <td>1.0</td>\n",
       "      <td>eps_sym</td>\n",
       "    </tr>\n",
       "    <tr>\n",
       "      <th>3</th>\n",
       "      <td>eps</td>\n",
       "      <td>rw</td>\n",
       "      <td>0.748628</td>\n",
       "      <td>1.0</td>\n",
       "      <td>eps_rw</td>\n",
       "    </tr>\n",
       "    <tr>\n",
       "      <th>4</th>\n",
       "      <td>knn</td>\n",
       "      <td>sym</td>\n",
       "      <td>0.748628</td>\n",
       "      <td>1.0</td>\n",
       "      <td>knn_sym</td>\n",
       "    </tr>\n",
       "    <tr>\n",
       "      <th>5</th>\n",
       "      <td>knn</td>\n",
       "      <td>rw</td>\n",
       "      <td>0.748628</td>\n",
       "      <td>1.0</td>\n",
       "      <td>knn_rw</td>\n",
       "    </tr>\n",
       "    <tr>\n",
       "      <th>6</th>\n",
       "      <td>mknn</td>\n",
       "      <td>sym</td>\n",
       "      <td>0.748628</td>\n",
       "      <td>1.0</td>\n",
       "      <td>mknn_sym</td>\n",
       "    </tr>\n",
       "    <tr>\n",
       "      <th>7</th>\n",
       "      <td>mknn</td>\n",
       "      <td>rw</td>\n",
       "      <td>0.748628</td>\n",
       "      <td>1.0</td>\n",
       "      <td>mknn_rw</td>\n",
       "    </tr>\n",
       "  </tbody>\n",
       "</table>\n",
       "</div>"
      ],
      "text/plain": [
       "  graph laplacian  silhouette  adjusted_rand graph_laplacian\n",
       "0  full       sym    0.748628            1.0        full_sym\n",
       "1  full        rw    0.748628            1.0         full_rw\n",
       "2   eps       sym    0.748628            1.0         eps_sym\n",
       "3   eps        rw    0.748628            1.0          eps_rw\n",
       "4   knn       sym    0.748628            1.0         knn_sym\n",
       "5   knn        rw    0.748628            1.0          knn_rw\n",
       "6  mknn       sym    0.748628            1.0        mknn_sym\n",
       "7  mknn        rw    0.748628            1.0         mknn_rw"
      ]
     },
     "execution_count": 92,
     "metadata": {},
     "output_type": "execute_result"
    }
   ],
   "source": [
    "experiment_d0"
   ]
  },
  {
   "cell_type": "code",
   "execution_count": 91,
   "id": "cb42c0f9-6e1c-4466-9849-eddb354d7c71",
   "metadata": {},
   "outputs": [
    {
     "data": {
      "image/png": "[encoded data removed]",
      "text/plain": [
       "<Figure size 800x400 with 2 Axes>"
      ]
     },
     "metadata": {},
     "output_type": "display_data"
    }
   ],
   "source": [
    "# Create a figure and axis\n",
    "fig, ax = plt.subplots(figsize=(8, 4))\n",
    "\n",
    "# Plot time on the first y-axis\n",
    "ax.plot(experiment_d0['graph_laplacian'], experiment_d0['silhouette'], marker='o', color='b', label='Time (seconds)')\n",
    "\n",
    "# Create a second y-axis\n",
    "ax2 = ax.twinx()\n",
    "\n",
    "# Plot memory on the second y-axis\n",
    "ax2.plot(experiment_d0['graph_laplacian'], experiment_d0['adjusted_rand'], marker='x', color='r', label='Memory (KB)')\n",
    "\n",
    "# Set labels and legends\n",
    "ax.set_xlabel('graph_laplacian')\n",
    "ax.set_ylabel('silhouette', color='b')\n",
    "ax2.set_ylabel('adjusted_rand', color='r')\n",
    "\n",
    "ax.set_ylim(-0.1, 1.1)\n",
    "ax2.set_ylim(-0.1, 1.1)  # Adjust the multiplier as needed\n",
    "\n",
    "\n",
    "# Add legends\n",
    "# ax.legend(loc='upper left')\n",
    "# ax2.legend(loc='upper right')\n",
    "\n",
    "# Show the plot\n",
    "plt.title('experiment_d0')\n",
    "plt.show()"
   ]
  },
  {
   "cell_type": "code",
   "execution_count": null,
   "id": "766947db-16fe-4f6d-940b-fde7c727df89",
   "metadata": {},
   "outputs": [],
   "source": []
  }
 ],
 "metadata": {
  "kernelspec": {
   "display_name": "Python 3 (ipykernel)",
   "language": "python",
   "name": "python3"
  },
  "language_info": {
   "codemirror_mode": {
    "name": "ipython",
    "version": 3
   },
   "file_extension": ".py",
   "mimetype": "text/x-python",
   "name": "python",
   "nbconvert_exporter": "python",
   "pygments_lexer": "ipython3",
   "version": "3.12.0"
  }
 },
 "nbformat": 4,
 "nbformat_minor": 5
}
