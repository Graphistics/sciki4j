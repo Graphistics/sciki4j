{
 "cells": [
  {
   "cell_type": "code",
   "execution_count": 1,
   "id": "512ff4b7-b66d-43a0-bb63-eeb553501999",
   "metadata": {},
   "outputs": [],
   "source": [
    "import pandas as pd \n",
    "import numpy as np\n",
    "from scipy import linalg\n",
    "from scipy.spatial.distance import pdist, squareform\n",
    "# import networkx as nx\n",
    "# import sys\n",
    "import random\n",
    "\n",
    "from tqdm import tqdm\n",
    "from sklearn.preprocessing import StandardScaler, normalize, MinMaxScaler\n",
    "from sklearn.metrics import DistanceMetric\n",
    "from sklearn.metrics import pairwise_distances\n",
    "from sklearn.decomposition import PCA\n",
    "from sklearn.cluster import KMeans\n",
    "from sklearn.cluster import OPTICS\n",
    "from sklearn.cluster import AgglomerativeClustering\n",
    "from sklearn.cluster import SpectralClustering\n",
    "from sklearn.metrics import confusion_matrix\n",
    "from sklearn.metrics import silhouette_samples, silhouette_score\n",
    "from sklearn.metrics import adjusted_rand_score\n",
    "\n",
    "from matplotlib import rcParams, cycler, figure\n",
    "import matplotlib.pyplot as plt\n",
    "from adjustText import adjust_text\n",
    "import seaborn as sns"
   ]
  },
  {
   "cell_type": "code",
   "execution_count": 2,
   "id": "fef80906-6e58-4f21-a22c-104e22867025",
   "metadata": {},
   "outputs": [],
   "source": [
    "def norm_and_pca_from_df(df):\n",
    "    '''\n",
    "    Function processes the data using Principal component analysis(PCA)\n",
    "    Args:\n",
    "        df : Dataframe \n",
    "    Returns normalized dataframe and principal component of df\n",
    "    '''\n",
    "    \n",
    "    df_normalized = pd.DataFrame()\n",
    "    cols = list(df.columns)\n",
    "    df_normalized[cols] = pd.DataFrame(normalize(MinMaxScaler().fit_transform(df[cols])))\n",
    "    df_normalized.index = df.index\n",
    "    \n",
    "    df_pca = pd.DataFrame(PCA(n_components = 2).fit_transform(df_normalized))\n",
    "    df_pca.columns = ['P1', 'P2']\n",
    "    df_pca.index = df.index\n",
    "    \n",
    "    return df_normalized, df_pca"
   ]
  },
  {
   "cell_type": "code",
   "execution_count": 3,
   "id": "dc1693aa-4ca1-4f81-bb2e-321d54da63ed",
   "metadata": {},
   "outputs": [],
   "source": [
    "# Load and transform dataset 0\n",
    "df_csv = pd.read_csv(\"test.csv\")\n",
    "index_labels = df_csv[\"points\"]\n",
    "class_labels = df_csv[\"class\"]\n",
    "df_data = df_csv[[\"x_coordinate\",\"y_coordinate\"]]\n",
    "\n",
    "df_normalized = df_csv.copy()\n",
    "df_pca = df_csv.copy()\n",
    "\n",
    "df_normalized[[\"x_coordinate\",\"y_coordinate\"]], df_pca[[\"x_coordinate\",\"y_coordinate\"]] = norm_and_pca_from_df(df_data)"
   ]
  },
  {
   "cell_type": "code",
   "execution_count": 4,
   "id": "40462ca9-fb7a-4fcf-a6d5-f3ff00563a3a",
   "metadata": {},
   "outputs": [
    {
     "data": {
      "text/html": [
       "<div>\n",
       "<style scoped>\n",
       "    .dataframe tbody tr th:only-of-type {\n",
       "        vertical-align: middle;\n",
       "    }\n",
       "\n",
       "    .dataframe tbody tr th {\n",
       "        vertical-align: top;\n",
       "    }\n",
       "\n",
       "    .dataframe thead th {\n",
       "        text-align: right;\n",
       "    }\n",
       "</style>\n",
       "<table border=\"1\" class=\"dataframe\">\n",
       "  <thead>\n",
       "    <tr style=\"text-align: right;\">\n",
       "      <th></th>\n",
       "      <th>points</th>\n",
       "      <th>x_coordinate</th>\n",
       "      <th>y_coordinate</th>\n",
       "      <th>class</th>\n",
       "    </tr>\n",
       "  </thead>\n",
       "  <tbody>\n",
       "    <tr>\n",
       "      <th>0</th>\n",
       "      <td>p1</td>\n",
       "      <td>1</td>\n",
       "      <td>7</td>\n",
       "      <td>1</td>\n",
       "    </tr>\n",
       "    <tr>\n",
       "      <th>1</th>\n",
       "      <td>p2</td>\n",
       "      <td>1</td>\n",
       "      <td>6</td>\n",
       "      <td>1</td>\n",
       "    </tr>\n",
       "    <tr>\n",
       "      <th>2</th>\n",
       "      <td>p3</td>\n",
       "      <td>6</td>\n",
       "      <td>2</td>\n",
       "      <td>2</td>\n",
       "    </tr>\n",
       "    <tr>\n",
       "      <th>3</th>\n",
       "      <td>p4</td>\n",
       "      <td>8</td>\n",
       "      <td>1</td>\n",
       "      <td>2</td>\n",
       "    </tr>\n",
       "    <tr>\n",
       "      <th>4</th>\n",
       "      <td>p5</td>\n",
       "      <td>10</td>\n",
       "      <td>2</td>\n",
       "      <td>2</td>\n",
       "    </tr>\n",
       "  </tbody>\n",
       "</table>\n",
       "</div>"
      ],
      "text/plain": [
       "  points  x_coordinate  y_coordinate  class\n",
       "0     p1             1             7      1\n",
       "1     p2             1             6      1\n",
       "2     p3             6             2      2\n",
       "3     p4             8             1      2\n",
       "4     p5            10             2      2"
      ]
     },
     "execution_count": 4,
     "metadata": {},
     "output_type": "execute_result"
    }
   ],
   "source": [
    "df_csv"
   ]
  },
  {
   "cell_type": "code",
   "execution_count": 5,
   "id": "cb4554f7-d808-4553-83f2-f97a2104eddd",
   "metadata": {},
   "outputs": [
    {
     "data": {
      "text/html": [
       "<div>\n",
       "<style scoped>\n",
       "    .dataframe tbody tr th:only-of-type {\n",
       "        vertical-align: middle;\n",
       "    }\n",
       "\n",
       "    .dataframe tbody tr th {\n",
       "        vertical-align: top;\n",
       "    }\n",
       "\n",
       "    .dataframe thead th {\n",
       "        text-align: right;\n",
       "    }\n",
       "</style>\n",
       "<table border=\"1\" class=\"dataframe\">\n",
       "  <thead>\n",
       "    <tr style=\"text-align: right;\">\n",
       "      <th></th>\n",
       "      <th>x_coordinate</th>\n",
       "      <th>y_coordinate</th>\n",
       "    </tr>\n",
       "  </thead>\n",
       "  <tbody>\n",
       "    <tr>\n",
       "      <th>0</th>\n",
       "      <td>1</td>\n",
       "      <td>7</td>\n",
       "    </tr>\n",
       "    <tr>\n",
       "      <th>1</th>\n",
       "      <td>1</td>\n",
       "      <td>6</td>\n",
       "    </tr>\n",
       "    <tr>\n",
       "      <th>2</th>\n",
       "      <td>6</td>\n",
       "      <td>2</td>\n",
       "    </tr>\n",
       "    <tr>\n",
       "      <th>3</th>\n",
       "      <td>8</td>\n",
       "      <td>1</td>\n",
       "    </tr>\n",
       "    <tr>\n",
       "      <th>4</th>\n",
       "      <td>10</td>\n",
       "      <td>2</td>\n",
       "    </tr>\n",
       "  </tbody>\n",
       "</table>\n",
       "</div>"
      ],
      "text/plain": [
       "   x_coordinate  y_coordinate\n",
       "0             1             7\n",
       "1             1             6\n",
       "2             6             2\n",
       "3             8             1\n",
       "4            10             2"
      ]
     },
     "execution_count": 5,
     "metadata": {},
     "output_type": "execute_result"
    }
   ],
   "source": [
    "df_data"
   ]
  },
  {
   "cell_type": "code",
   "execution_count": 6,
   "id": "6decc604-3ad6-4def-989a-78ecc611e09a",
   "metadata": {},
   "outputs": [
    {
     "data": {
      "text/plain": [
       "<matplotlib.collections.PathCollection at 0x20db5705a10>"
      ]
     },
     "execution_count": 6,
     "metadata": {},
     "output_type": "execute_result"
    },
    {
     "data": {
      "image/png": "[encoded data removed]",
      "text/plain": [
       "<Figure size 400x300 with 1 Axes>"
      ]
     },
     "metadata": {},
     "output_type": "display_data"
    }
   ],
   "source": [
    "plt.rcParams[\"figure.figsize\"] = (4,3)\n",
    "plt.scatter(df_data['x_coordinate'], df_data['y_coordinate'])"
   ]
  },
  {
   "cell_type": "markdown",
   "id": "ccbef7ff-3d0d-488f-b839-823b691628fb",
   "metadata": {},
   "source": [
    "### Abhivanth --start--"
   ]
  },
  {
   "cell_type": "code",
   "execution_count": 7,
   "id": "63dee367-a565-4cfc-9757-ea7fc9483b61",
   "metadata": {},
   "outputs": [],
   "source": [
    "# Pairwise distances\n",
    "dimension = df_data.shape[0]\n",
    "dist_ = pdist(df_data)\n",
    "dist_mat = np.zeros([dimension, dimension])\n",
    "dist = iter(dist_)\n",
    "for i in range(dimension):\n",
    "    for j in range(i+1, dimension):  \n",
    "        d = next(dist)\n",
    "        dist_mat[i,j] = d\n",
    "        dist_mat[j,i] = d"
   ]
  },
  {
   "cell_type": "code",
   "execution_count": 8,
   "id": "5a53959c-5ebd-472f-8d3e-74b174c8ceec",
   "metadata": {},
   "outputs": [
    {
     "data": {
      "text/plain": [
       "array([[ 0.        ,  1.        ,  7.07106781,  9.21954446, 10.29563014],\n",
       "       [ 1.        ,  0.        ,  6.40312424,  8.60232527,  9.8488578 ],\n",
       "       [ 7.07106781,  6.40312424,  0.        ,  2.23606798,  4.        ],\n",
       "       [ 9.21954446,  8.60232527,  2.23606798,  0.        ,  2.23606798],\n",
       "       [10.29563014,  9.8488578 ,  4.        ,  2.23606798,  0.        ]])"
      ]
     },
     "execution_count": 8,
     "metadata": {},
     "output_type": "execute_result"
    }
   ],
   "source": [
    "dist_mat"
   ]
  },
  {
   "cell_type": "markdown",
   "id": "4eacdd21-5303-4b37-8e0c-10c6975430d3",
   "metadata": {},
   "source": [
    "#### Fully-connected (Self-tuning)"
   ]
  },
  {
   "cell_type": "code",
   "execution_count": 9,
   "id": "67ebd10a-12d6-4c4d-9d77-91a86e0fb6fa",
   "metadata": {},
   "outputs": [
    {
     "name": "stderr",
     "output_type": "stream",
     "text": [
      "100%|██████████████████████████████████████████████████████████████████████████████████| 5/5 [00:00<00:00, 8655.19it/s]\n"
     ]
    }
   ],
   "source": [
    "#calculate local sigma\n",
    "sigmas = np.zeros(dimension)\n",
    "for i in tqdm(range(len(dist_mat))):\n",
    "    sigmas[i] = sorted(dist_mat[i])[2]"
   ]
  },
  {
   "cell_type": "code",
   "execution_count": 10,
   "id": "20e42497-8669-45ce-a81f-314071fcc7cf",
   "metadata": {},
   "outputs": [
    {
     "data": {
      "text/plain": [
       "array([7.07106781, 6.40312424, 4.        , 2.23606798, 4.        ])"
      ]
     },
     "execution_count": 10,
     "metadata": {},
     "output_type": "execute_result"
    }
   ],
   "source": [
    "sigmas"
   ]
  },
  {
   "cell_type": "code",
   "execution_count": 11,
   "id": "2737c7c7-09c5-42f9-8cd1-03c81cde8e68",
   "metadata": {
    "scrolled": true
   },
   "outputs": [
    {
     "name": "stderr",
     "output_type": "stream",
     "text": [
      "100%|██████████████████████████████████████████████████████████████████████████████████| 5/5 [00:00<00:00, 5000.36it/s]\n"
     ]
    }
   ],
   "source": [
    "# Adjaceny matrix with optimal sigma\n",
    "adjacency_matrix = np.zeros([dimension, dimension])\n",
    "dist = iter(dist_)\n",
    "for i in tqdm(range(dimension)):\n",
    "    for j in range(i+1, dimension):  \n",
    "        d = np.exp(-1*next(dist)**2/(sigmas[i]*sigmas[j]))\n",
    "        adjacency_matrix[i,j] = d\n",
    "        adjacency_matrix[j,i] = d"
   ]
  },
  {
   "cell_type": "code",
   "execution_count": 12,
   "id": "5d17022f-54a7-4c5f-b28f-6f8f04c1bfe6",
   "metadata": {},
   "outputs": [
    {
     "data": {
      "text/plain": [
       "array([[0.        , 0.97815581, 0.17071378, 0.00462688, 0.0235727 ],\n",
       "       [0.97815581, 0.        , 0.20173889, 0.00569376, 0.02265865],\n",
       "       [0.17071378, 0.20173889, 0.        , 0.57177084, 0.36787944],\n",
       "       [0.00462688, 0.00569376, 0.57177084, 0.        , 0.57177084],\n",
       "       [0.0235727 , 0.02265865, 0.36787944, 0.57177084, 0.        ]])"
      ]
     },
     "execution_count": 12,
     "metadata": {},
     "output_type": "execute_result"
    }
   ],
   "source": [
    "adjacency_matrix"
   ]
  },
  {
   "cell_type": "markdown",
   "id": "e0c3195e-5b5f-4e43-b611-209eaecdac09",
   "metadata": {},
   "source": [
    "#### Epsilon-neighbourhood Graph"
   ]
  },
  {
   "cell_type": "code",
   "execution_count": 13,
   "id": "14feb77f-3c3c-4f03-a50c-6d13521c3dbb",
   "metadata": {},
   "outputs": [
    {
     "name": "stderr",
     "output_type": "stream",
     "text": [
      "100%|████████████████████████████████████████████████████████████████████████████████████████████| 5/5 [00:00<?, ?it/s]\n"
     ]
    }
   ],
   "source": [
    "# Adjaceny matrix with epsilon threshold\n",
    "epsilon = 5.00\n",
    "adjacency_matrix = np.zeros([dimension, dimension])\n",
    "dist = iter(dist_)\n",
    "\n",
    "for i in tqdm(range(dimension)):\n",
    "    for j in range(i+1, dimension):\n",
    "        if next(dist) < epsilon:\n",
    "            d = 1\n",
    "        else:\n",
    "            d = 0\n",
    "        adjacency_matrix[i,j] = d\n",
    "        adjacency_matrix[j,i] = d"
   ]
  },
  {
   "cell_type": "code",
   "execution_count": 14,
   "id": "b31c15ca-e3c0-484b-9963-98c25bdf9b95",
   "metadata": {},
   "outputs": [
    {
     "data": {
      "text/plain": [
       "array([[0., 1., 0., 0., 0.],\n",
       "       [1., 0., 0., 0., 0.],\n",
       "       [0., 0., 0., 1., 1.],\n",
       "       [0., 0., 1., 0., 1.],\n",
       "       [0., 0., 1., 1., 0.]])"
      ]
     },
     "execution_count": 14,
     "metadata": {},
     "output_type": "execute_result"
    }
   ],
   "source": [
    "adjacency_matrix"
   ]
  },
  {
   "cell_type": "markdown",
   "id": "87873b85-eebb-458c-9bf3-9323d57d43df",
   "metadata": {},
   "source": [
    "#### k-NN Graph "
   ]
  },
  {
   "cell_type": "code",
   "execution_count": 63,
   "id": "1158cccf-45c4-4f11-8c53-c88c59ebfe6d",
   "metadata": {},
   "outputs": [],
   "source": [
    "k = 2\n",
    "adjacency_matrix = np.zeros([dimension, dimension])\n",
    "\n",
    "for i in range(dimension):\n",
    "    # Sort distances for node i and get indices of the k nearest neighbors\n",
    "    sorted_indices = np.argsort(dist_mat[i])\n",
    "    k_nearest_indices = sorted_indices[1:k+1]  # Exclude the node itself\n",
    "\n",
    "    # Update the adjacency matrix\n",
    "    adjacency_matrix[i, k_nearest_indices] = 1"
   ]
  },
  {
   "cell_type": "code",
   "execution_count": 64,
   "id": "f8fa4095-aaea-496b-a685-4a67ca6740e3",
   "metadata": {},
   "outputs": [
    {
     "data": {
      "text/plain": [
       "array([[0., 1., 1., 0., 0.],\n",
       "       [1., 0., 1., 0., 0.],\n",
       "       [0., 0., 0., 1., 1.],\n",
       "       [0., 0., 1., 0., 1.],\n",
       "       [0., 0., 1., 1., 0.]])"
      ]
     },
     "execution_count": 64,
     "metadata": {},
     "output_type": "execute_result"
    }
   ],
   "source": [
    "adjacency_matrix"
   ]
  },
  {
   "cell_type": "markdown",
   "id": "980ada84-aff8-40d9-a108-24ac2a893e63",
   "metadata": {},
   "source": [
    "#### Mutual k-NN Graph"
   ]
  },
  {
   "cell_type": "code",
   "execution_count": 65,
   "id": "a8902390-652e-4373-a3d3-f887578a83f6",
   "metadata": {},
   "outputs": [],
   "source": [
    "k = 2\n",
    "adjacency_matrix = np.zeros([dimension, dimension])\n",
    "\n",
    "for i in range(dimension):\n",
    "    # Sort distances for node i and get indices of the k nearest neighbors\n",
    "    sorted_indices = np.argsort(dist_mat[i])\n",
    "    k_nearest_indices = sorted_indices[1:k+1]  # Exclude the node itself\n",
    "\n",
    "    for neighbor in k_nearest_indices:\n",
    "        # Check if node i is also among the k-nearest neighbors of the current neighbor\n",
    "        neighbor_sorted_indices = np.argsort(dist_mat[neighbor])\n",
    "        if i in neighbor_sorted_indices[1:k+1]:\n",
    "            # Connect nodes if they are mutual k-nearest neighbors\n",
    "            adjacency_matrix[i, neighbor] = 1\n",
    "            adjacency_matrix[neighbor, i] = 1"
   ]
  },
  {
   "cell_type": "code",
   "execution_count": 66,
   "id": "e36889b3-bb9c-495e-9aba-c08669434dd8",
   "metadata": {},
   "outputs": [
    {
     "data": {
      "text/plain": [
       "array([[0., 1., 0., 0., 0.],\n",
       "       [1., 0., 0., 0., 0.],\n",
       "       [0., 0., 0., 1., 1.],\n",
       "       [0., 0., 1., 0., 1.],\n",
       "       [0., 0., 1., 1., 0.]])"
      ]
     },
     "execution_count": 66,
     "metadata": {},
     "output_type": "execute_result"
    }
   ],
   "source": [
    "adjacency_matrix"
   ]
  },
  {
   "cell_type": "code",
   "execution_count": null,
   "id": "2ebe42f8-2f86-4058-b58c-bb1c1bf0ec93",
   "metadata": {},
   "outputs": [],
   "source": []
  },
  {
   "cell_type": "markdown",
   "id": "b6a51d85-8c7d-4bf8-85ba-1d69ad37d3ab",
   "metadata": {},
   "source": [
    "### Abhivanth --end--"
   ]
  },
  {
   "cell_type": "markdown",
   "id": "500edffb-9227-43ed-bef9-db085004bcb9",
   "metadata": {},
   "source": [
    "### Evelina --start--"
   ]
  },
  {
   "cell_type": "code",
   "execution_count": null,
   "id": "3c2bae55-726f-4f72-8b8f-8892f2a2e521",
   "metadata": {},
   "outputs": [],
   "source": [
    "# Calculate degree matrix\n",
    "degree_matrix = np.sum(adjacency_matrix, axis=0) * np.eye(dimension)"
   ]
  },
  {
   "cell_type": "code",
   "execution_count": null,
   "id": "ed546453-9441-40e2-850e-9e05bb416566",
   "metadata": {},
   "outputs": [],
   "source": [
    "degree_matrix"
   ]
  },
  {
   "cell_type": "markdown",
   "id": "4ad61c34-7a31-48a8-a2e2-55a2edc52f65",
   "metadata": {},
   "source": [
    "#### Normalized Symmetric Laplacian"
   ]
  },
  {
   "cell_type": "code",
   "execution_count": null,
   "id": "1cb2ae1f-124f-4859-adcf-02b8b6783a52",
   "metadata": {},
   "outputs": [],
   "source": [
    "# Normalized Symmetric laplacian matrix\n",
    "d_half = linalg.fractional_matrix_power(degree_matrix, -0.5)\n",
    "laplacian_matrix_normalized = np.matmul(np.matmul(d_half, adjacency_matrix), d_half)"
   ]
  },
  {
   "cell_type": "code",
   "execution_count": null,
   "id": "9430a8f4-9375-4910-884e-c5a0b6edd948",
   "metadata": {},
   "outputs": [],
   "source": [
    "laplacian_matrix_normalized"
   ]
  },
  {
   "cell_type": "markdown",
   "id": "334c7d9e-d5a9-43c8-889d-df19b13c4fa5",
   "metadata": {},
   "source": [
    "#### Normalized Random Walk Laplacian"
   ]
  },
  {
   "cell_type": "code",
   "execution_count": null,
   "id": "d8309b34-0fee-4877-b026-c460685a4848",
   "metadata": {},
   "outputs": [],
   "source": [
    "# Normalized Random Walk laplacian matrix\n",
    "d_inverse = linalg.fractional_matrix_power(degree_matrix, -1)\n",
    "laplacian_matrix_normalized = np.matmul(d_inverse, adjacency_matrix)"
   ]
  },
  {
   "cell_type": "code",
   "execution_count": null,
   "id": "b44b1db4-9619-4e11-b766-b1087e577958",
   "metadata": {},
   "outputs": [],
   "source": [
    "laplacian_matrix_normalized"
   ]
  },
  {
   "cell_type": "code",
   "execution_count": null,
   "id": "bc410a50-200d-43c7-92c7-a5cc11c29d21",
   "metadata": {},
   "outputs": [],
   "source": [
    "# Calculating eigenvalues and eigenvectors no. of clusters k\n",
    "\n",
    "k = 2\n",
    "\n",
    "e, v = np.linalg.eigh(laplacian_matrix_normalized)\n",
    "X = v[:, -1*k:]\n",
    "# row_sums = X.sum(axis=1)\n",
    "# Y = X / row_sums[:, np.newaxis]"
   ]
  },
  {
   "cell_type": "code",
   "execution_count": null,
   "id": "b646de56-40a2-40bb-be28-0e2f1200fa24",
   "metadata": {},
   "outputs": [],
   "source": [
    "e"
   ]
  },
  {
   "cell_type": "code",
   "execution_count": null,
   "id": "22835bff-faaa-4a10-a7c2-f2004c684314",
   "metadata": {
    "scrolled": true
   },
   "outputs": [],
   "source": [
    "v"
   ]
  },
  {
   "cell_type": "code",
   "execution_count": null,
   "id": "c05f53c8-804a-4047-9f31-9793a684ffaf",
   "metadata": {
    "scrolled": true
   },
   "outputs": [],
   "source": [
    "X"
   ]
  },
  {
   "cell_type": "code",
   "execution_count": null,
   "id": "7fef1231-e883-4425-ac26-481a2739b42d",
   "metadata": {},
   "outputs": [],
   "source": [
    "plt.rcParams[\"figure.figsize\"] = (4,3)\n",
    "plt.scatter(range(len(e)), e);\n",
    "plt.xticks(range(0,len(e)));"
   ]
  },
  {
   "cell_type": "markdown",
   "id": "8016356c-8993-4323-a0d2-3578a17f6268",
   "metadata": {},
   "source": [
    "### Evelina --end--"
   ]
  },
  {
   "cell_type": "code",
   "execution_count": null,
   "id": "f7292a61-bd34-48cb-b76b-7e7942218e35",
   "metadata": {},
   "outputs": [],
   "source": []
  }
 ],
 "metadata": {
  "kernelspec": {
   "display_name": "Python 3 (ipykernel)",
   "language": "python",
   "name": "python3"
  },
  "language_info": {
   "codemirror_mode": {
    "name": "ipython",
    "version": 3
   },
   "file_extension": ".py",
   "mimetype": "text/x-python",
   "name": "python",
   "nbconvert_exporter": "python",
   "pygments_lexer": "ipython3",
   "version": "3.11.3"
  }
 },
 "nbformat": 4,
 "nbformat_minor": 5
}
