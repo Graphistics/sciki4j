{
 "cells": [
  {
   "cell_type": "code",
   "execution_count": 1,
   "id": "22259c2b-2871-430c-bc2d-37fce32324e1",
   "metadata": {},
   "outputs": [],
   "source": [
    "# %pip install pandas networkx numpy os torch torch_geometric node2vec scipy matplotlib"
   ]
  },
  {
   "cell_type": "code",
   "execution_count": 2,
   "id": "05ba8c9c-545e-4a9d-abd0-84d6af08d9ec",
   "metadata": {},
   "outputs": [],
   "source": [
    "import pandas as pd\n",
    "import networkx as nx\n",
    "import numpy as np\n",
    "import os.path as osp\n",
    "# import torch\n",
    "from torch_geometric.datasets import Planetoid\n",
    "from node2vec import Node2Vec\n",
    "\n",
    "from scipy.spatial.distance import pdist\n",
    "from scipy import linalg\n",
    "\n",
    "import matplotlib.pyplot as plt"
   ]
  },
  {
   "cell_type": "markdown",
   "id": "8512f9a6-a139-477d-8e16-62a8aac37475",
   "metadata": {},
   "source": [
    "## Data Import"
   ]
  },
  {
   "cell_type": "code",
   "execution_count": 3,
   "id": "4dd6cb48-6308-4653-806e-6bebe0fbb65a",
   "metadata": {},
   "outputs": [],
   "source": [
    "dataset = 'Cora'\n",
    "path = osp.join('.', 'data', dataset)\n",
    "dataset = Planetoid(path, dataset)  # dowload or load the Cora dataset\n",
    "data = dataset[0]"
   ]
  },
  {
   "cell_type": "code",
   "execution_count": 4,
   "id": "96ffbb42-a7af-4001-b896-ce5bb43ae252",
   "metadata": {},
   "outputs": [
    {
     "data": {
      "text/plain": [
       "<bound method BaseData.node_attrs of Data(x=[2708, 1433], edge_index=[2, 10556], y=[2708], train_mask=[2708], val_mask=[2708], test_mask=[2708])>"
      ]
     },
     "execution_count": 4,
     "metadata": {},
     "output_type": "execute_result"
    }
   ],
   "source": [
    "data.node_attrs"
   ]
  },
  {
   "cell_type": "markdown",
   "id": "4bbc4329-ab98-42b7-a00f-5c1405115ae6",
   "metadata": {},
   "source": [
    "## Generate Networkx Graph"
   ]
  },
  {
   "cell_type": "code",
   "execution_count": 5,
   "id": "7fcc8308-f045-4be8-8bbc-3f29f3a4d77e",
   "metadata": {},
   "outputs": [],
   "source": [
    "# Create a NetworkX graph from the PyTorch Geometric dataset\n",
    "G = nx.Graph()\n",
    "for i, j in data.edge_index.t().tolist():\n",
    "    G.add_edge(i, j)"
   ]
  },
  {
   "cell_type": "markdown",
   "id": "e15975f3-16ea-46cf-992d-08d849e09707",
   "metadata": {},
   "source": [
    "## Generate Vector Embeddings using Node2vec"
   ]
  },
  {
   "cell_type": "code",
   "execution_count": 6,
   "id": "7bc8551e-6ad9-4745-bd84-2c114f22e501",
   "metadata": {},
   "outputs": [
    {
     "data": {
      "application/vnd.jupyter.widget-view+json": {
       "model_id": "b4a234e383cf491db2c139708972ac4a",
       "version_major": 2,
       "version_minor": 0
      },
      "text/plain": [
       "Computing transition probabilities:   0%|          | 0/2708 [00:00<?, ?it/s]"
      ]
     },
     "metadata": {},
     "output_type": "display_data"
    }
   ],
   "source": [
    "# Create an instance of the Node2Vec model\n",
    "node2vec = Node2Vec(G, dimensions=128, walk_length=30, num_walks=200, workers=4)\n",
    "\n",
    "# Fit the model to the random walks\n",
    "model = node2vec.fit(window=10, min_count=1, batch_words=4)\n",
    "\n",
    "# Get embeddings for each paper node\n",
    "paper_embeddings = {str(node): model.wv[str(node)] for node in range(data.num_nodes)}"
   ]
  },
  {
   "cell_type": "code",
   "execution_count": 8,
   "id": "39e192b7-d8a8-4034-9b35-cd7e6a6f94e4",
   "metadata": {},
   "outputs": [
    {
     "data": {
      "text/plain": [
       "128"
      ]
     },
     "execution_count": 8,
     "metadata": {},
     "output_type": "execute_result"
    }
   ],
   "source": [
    "len(list(paper_embeddings.values())[1])"
   ]
  },
  {
   "cell_type": "markdown",
   "id": "36a16dc1-6fa0-47ae-b8df-a750d3796940",
   "metadata": {},
   "source": [
    "## Proximity Between Vector Embeddings"
   ]
  },
  {
   "cell_type": "code",
   "execution_count": 9,
   "id": "7c56c306-29c4-458d-9a02-21d9d5ec885f",
   "metadata": {},
   "outputs": [],
   "source": [
    "vec_df = pd.DataFrame(paper_embeddings)\n",
    "vec_df = vec_df.T"
   ]
  },
  {
   "cell_type": "code",
   "execution_count": 10,
   "id": "be94cd74-a0e1-4380-ae41-142f19e03156",
   "metadata": {},
   "outputs": [
    {
     "data": {
      "text/html": [
       "<div>\n",
       "<style scoped>\n",
       "    .dataframe tbody tr th:only-of-type {\n",
       "        vertical-align: middle;\n",
       "    }\n",
       "\n",
       "    .dataframe tbody tr th {\n",
       "        vertical-align: top;\n",
       "    }\n",
       "\n",
       "    .dataframe thead th {\n",
       "        text-align: right;\n",
       "    }\n",
       "</style>\n",
       "<table border=\"1\" class=\"dataframe\">\n",
       "  <thead>\n",
       "    <tr style=\"text-align: right;\">\n",
       "      <th></th>\n",
       "      <th>0</th>\n",
       "      <th>1</th>\n",
       "      <th>2</th>\n",
       "      <th>3</th>\n",
       "      <th>4</th>\n",
       "      <th>5</th>\n",
       "      <th>6</th>\n",
       "      <th>7</th>\n",
       "      <th>8</th>\n",
       "      <th>9</th>\n",
       "      <th>...</th>\n",
       "      <th>118</th>\n",
       "      <th>119</th>\n",
       "      <th>120</th>\n",
       "      <th>121</th>\n",
       "      <th>122</th>\n",
       "      <th>123</th>\n",
       "      <th>124</th>\n",
       "      <th>125</th>\n",
       "      <th>126</th>\n",
       "      <th>127</th>\n",
       "    </tr>\n",
       "  </thead>\n",
       "  <tbody>\n",
       "    <tr>\n",
       "      <th>0</th>\n",
       "      <td>-0.077769</td>\n",
       "      <td>0.236704</td>\n",
       "      <td>0.064671</td>\n",
       "      <td>-0.263464</td>\n",
       "      <td>-0.082558</td>\n",
       "      <td>-0.140774</td>\n",
       "      <td>0.084701</td>\n",
       "      <td>0.190177</td>\n",
       "      <td>0.062964</td>\n",
       "      <td>0.190074</td>\n",
       "      <td>...</td>\n",
       "      <td>-0.125814</td>\n",
       "      <td>0.286736</td>\n",
       "      <td>0.344979</td>\n",
       "      <td>-0.302014</td>\n",
       "      <td>0.046241</td>\n",
       "      <td>0.212311</td>\n",
       "      <td>-0.591915</td>\n",
       "      <td>0.195987</td>\n",
       "      <td>-0.804964</td>\n",
       "      <td>-0.410228</td>\n",
       "    </tr>\n",
       "    <tr>\n",
       "      <th>1</th>\n",
       "      <td>-0.467793</td>\n",
       "      <td>0.281748</td>\n",
       "      <td>0.552697</td>\n",
       "      <td>0.454733</td>\n",
       "      <td>0.591621</td>\n",
       "      <td>-0.189358</td>\n",
       "      <td>-0.181961</td>\n",
       "      <td>0.056450</td>\n",
       "      <td>-0.312305</td>\n",
       "      <td>0.215746</td>\n",
       "      <td>...</td>\n",
       "      <td>0.132198</td>\n",
       "      <td>0.315504</td>\n",
       "      <td>0.004474</td>\n",
       "      <td>-0.497878</td>\n",
       "      <td>-0.834289</td>\n",
       "      <td>-0.015181</td>\n",
       "      <td>-0.410300</td>\n",
       "      <td>-0.388667</td>\n",
       "      <td>-0.320374</td>\n",
       "      <td>-0.737702</td>\n",
       "    </tr>\n",
       "    <tr>\n",
       "      <th>2</th>\n",
       "      <td>-0.279440</td>\n",
       "      <td>-0.024468</td>\n",
       "      <td>0.479396</td>\n",
       "      <td>0.241130</td>\n",
       "      <td>0.579024</td>\n",
       "      <td>-0.025062</td>\n",
       "      <td>0.033053</td>\n",
       "      <td>0.099407</td>\n",
       "      <td>-0.129933</td>\n",
       "      <td>-0.036946</td>\n",
       "      <td>...</td>\n",
       "      <td>0.065318</td>\n",
       "      <td>0.124606</td>\n",
       "      <td>-0.036084</td>\n",
       "      <td>-0.270287</td>\n",
       "      <td>-0.209992</td>\n",
       "      <td>0.117132</td>\n",
       "      <td>-0.255100</td>\n",
       "      <td>-0.310485</td>\n",
       "      <td>-0.103983</td>\n",
       "      <td>-0.510650</td>\n",
       "    </tr>\n",
       "    <tr>\n",
       "      <th>3</th>\n",
       "      <td>-0.508314</td>\n",
       "      <td>0.564944</td>\n",
       "      <td>0.068488</td>\n",
       "      <td>-0.398234</td>\n",
       "      <td>0.055599</td>\n",
       "      <td>-0.556242</td>\n",
       "      <td>-0.211953</td>\n",
       "      <td>0.200815</td>\n",
       "      <td>0.295404</td>\n",
       "      <td>0.673404</td>\n",
       "      <td>...</td>\n",
       "      <td>1.041917</td>\n",
       "      <td>-1.115387</td>\n",
       "      <td>-0.103097</td>\n",
       "      <td>-0.270923</td>\n",
       "      <td>0.460429</td>\n",
       "      <td>0.003617</td>\n",
       "      <td>-0.491058</td>\n",
       "      <td>0.599199</td>\n",
       "      <td>0.175022</td>\n",
       "      <td>-0.954014</td>\n",
       "    </tr>\n",
       "    <tr>\n",
       "      <th>4</th>\n",
       "      <td>-0.403625</td>\n",
       "      <td>-0.036202</td>\n",
       "      <td>-0.264535</td>\n",
       "      <td>-0.062133</td>\n",
       "      <td>0.359478</td>\n",
       "      <td>0.005810</td>\n",
       "      <td>0.084046</td>\n",
       "      <td>0.002409</td>\n",
       "      <td>0.231728</td>\n",
       "      <td>0.555691</td>\n",
       "      <td>...</td>\n",
       "      <td>-0.652470</td>\n",
       "      <td>-0.279824</td>\n",
       "      <td>-0.477373</td>\n",
       "      <td>-0.407446</td>\n",
       "      <td>-0.000903</td>\n",
       "      <td>0.155919</td>\n",
       "      <td>0.690353</td>\n",
       "      <td>0.923121</td>\n",
       "      <td>-0.805374</td>\n",
       "      <td>-0.284457</td>\n",
       "    </tr>\n",
       "    <tr>\n",
       "      <th>...</th>\n",
       "      <td>...</td>\n",
       "      <td>...</td>\n",
       "      <td>...</td>\n",
       "      <td>...</td>\n",
       "      <td>...</td>\n",
       "      <td>...</td>\n",
       "      <td>...</td>\n",
       "      <td>...</td>\n",
       "      <td>...</td>\n",
       "      <td>...</td>\n",
       "      <td>...</td>\n",
       "      <td>...</td>\n",
       "      <td>...</td>\n",
       "      <td>...</td>\n",
       "      <td>...</td>\n",
       "      <td>...</td>\n",
       "      <td>...</td>\n",
       "      <td>...</td>\n",
       "      <td>...</td>\n",
       "      <td>...</td>\n",
       "      <td>...</td>\n",
       "    </tr>\n",
       "    <tr>\n",
       "      <th>2703</th>\n",
       "      <td>-0.364300</td>\n",
       "      <td>0.092713</td>\n",
       "      <td>0.064545</td>\n",
       "      <td>-0.284245</td>\n",
       "      <td>0.743611</td>\n",
       "      <td>0.106637</td>\n",
       "      <td>0.033660</td>\n",
       "      <td>0.352792</td>\n",
       "      <td>-0.104682</td>\n",
       "      <td>0.318777</td>\n",
       "      <td>...</td>\n",
       "      <td>0.265878</td>\n",
       "      <td>0.013315</td>\n",
       "      <td>-0.131863</td>\n",
       "      <td>-0.525839</td>\n",
       "      <td>-0.079871</td>\n",
       "      <td>-0.001970</td>\n",
       "      <td>0.060939</td>\n",
       "      <td>0.130234</td>\n",
       "      <td>-0.346551</td>\n",
       "      <td>-0.343271</td>\n",
       "    </tr>\n",
       "    <tr>\n",
       "      <th>2704</th>\n",
       "      <td>-0.528363</td>\n",
       "      <td>0.031556</td>\n",
       "      <td>0.201024</td>\n",
       "      <td>-0.188551</td>\n",
       "      <td>1.279812</td>\n",
       "      <td>-0.311632</td>\n",
       "      <td>0.411313</td>\n",
       "      <td>0.203920</td>\n",
       "      <td>0.017622</td>\n",
       "      <td>1.360356</td>\n",
       "      <td>...</td>\n",
       "      <td>0.504239</td>\n",
       "      <td>0.074917</td>\n",
       "      <td>0.201922</td>\n",
       "      <td>-0.227525</td>\n",
       "      <td>-1.002662</td>\n",
       "      <td>0.051023</td>\n",
       "      <td>0.065017</td>\n",
       "      <td>0.114165</td>\n",
       "      <td>0.077925</td>\n",
       "      <td>-0.750785</td>\n",
       "    </tr>\n",
       "    <tr>\n",
       "      <th>2705</th>\n",
       "      <td>-1.312979</td>\n",
       "      <td>-0.077811</td>\n",
       "      <td>0.006763</td>\n",
       "      <td>0.093945</td>\n",
       "      <td>0.413037</td>\n",
       "      <td>-0.060710</td>\n",
       "      <td>-0.187744</td>\n",
       "      <td>-0.452263</td>\n",
       "      <td>-0.130972</td>\n",
       "      <td>-0.245573</td>\n",
       "      <td>...</td>\n",
       "      <td>-0.038115</td>\n",
       "      <td>0.493976</td>\n",
       "      <td>0.155922</td>\n",
       "      <td>0.295417</td>\n",
       "      <td>-0.343341</td>\n",
       "      <td>-0.238324</td>\n",
       "      <td>0.119737</td>\n",
       "      <td>-0.184396</td>\n",
       "      <td>-0.189299</td>\n",
       "      <td>-0.311372</td>\n",
       "    </tr>\n",
       "    <tr>\n",
       "      <th>2706</th>\n",
       "      <td>-0.434766</td>\n",
       "      <td>-0.506532</td>\n",
       "      <td>0.460523</td>\n",
       "      <td>-0.296975</td>\n",
       "      <td>0.174480</td>\n",
       "      <td>0.462239</td>\n",
       "      <td>-0.146198</td>\n",
       "      <td>-0.296322</td>\n",
       "      <td>0.396681</td>\n",
       "      <td>0.344033</td>\n",
       "      <td>...</td>\n",
       "      <td>0.114458</td>\n",
       "      <td>0.134418</td>\n",
       "      <td>-0.086635</td>\n",
       "      <td>-0.030928</td>\n",
       "      <td>0.321525</td>\n",
       "      <td>0.477931</td>\n",
       "      <td>-0.128001</td>\n",
       "      <td>0.417263</td>\n",
       "      <td>-0.575216</td>\n",
       "      <td>-0.443046</td>\n",
       "    </tr>\n",
       "    <tr>\n",
       "      <th>2707</th>\n",
       "      <td>-0.481984</td>\n",
       "      <td>-0.461443</td>\n",
       "      <td>0.324122</td>\n",
       "      <td>-0.260845</td>\n",
       "      <td>0.356352</td>\n",
       "      <td>0.338516</td>\n",
       "      <td>-0.017280</td>\n",
       "      <td>-0.413698</td>\n",
       "      <td>0.597635</td>\n",
       "      <td>0.435074</td>\n",
       "      <td>...</td>\n",
       "      <td>0.147695</td>\n",
       "      <td>0.027148</td>\n",
       "      <td>-0.238429</td>\n",
       "      <td>0.097475</td>\n",
       "      <td>0.127378</td>\n",
       "      <td>0.516743</td>\n",
       "      <td>-0.114978</td>\n",
       "      <td>0.254116</td>\n",
       "      <td>-0.576972</td>\n",
       "      <td>-0.581826</td>\n",
       "    </tr>\n",
       "  </tbody>\n",
       "</table>\n",
       "<p>2708 rows × 128 columns</p>\n",
       "</div>"
      ],
      "text/plain": [
       "           0         1         2         3         4         5         6    \\\n",
       "0    -0.077769  0.236704  0.064671 -0.263464 -0.082558 -0.140774  0.084701   \n",
       "1    -0.467793  0.281748  0.552697  0.454733  0.591621 -0.189358 -0.181961   \n",
       "2    -0.279440 -0.024468  0.479396  0.241130  0.579024 -0.025062  0.033053   \n",
       "3    -0.508314  0.564944  0.068488 -0.398234  0.055599 -0.556242 -0.211953   \n",
       "4    -0.403625 -0.036202 -0.264535 -0.062133  0.359478  0.005810  0.084046   \n",
       "...        ...       ...       ...       ...       ...       ...       ...   \n",
       "2703 -0.364300  0.092713  0.064545 -0.284245  0.743611  0.106637  0.033660   \n",
       "2704 -0.528363  0.031556  0.201024 -0.188551  1.279812 -0.311632  0.411313   \n",
       "2705 -1.312979 -0.077811  0.006763  0.093945  0.413037 -0.060710 -0.187744   \n",
       "2706 -0.434766 -0.506532  0.460523 -0.296975  0.174480  0.462239 -0.146198   \n",
       "2707 -0.481984 -0.461443  0.324122 -0.260845  0.356352  0.338516 -0.017280   \n",
       "\n",
       "           7         8         9    ...       118       119       120  \\\n",
       "0     0.190177  0.062964  0.190074  ... -0.125814  0.286736  0.344979   \n",
       "1     0.056450 -0.312305  0.215746  ...  0.132198  0.315504  0.004474   \n",
       "2     0.099407 -0.129933 -0.036946  ...  0.065318  0.124606 -0.036084   \n",
       "3     0.200815  0.295404  0.673404  ...  1.041917 -1.115387 -0.103097   \n",
       "4     0.002409  0.231728  0.555691  ... -0.652470 -0.279824 -0.477373   \n",
       "...        ...       ...       ...  ...       ...       ...       ...   \n",
       "2703  0.352792 -0.104682  0.318777  ...  0.265878  0.013315 -0.131863   \n",
       "2704  0.203920  0.017622  1.360356  ...  0.504239  0.074917  0.201922   \n",
       "2705 -0.452263 -0.130972 -0.245573  ... -0.038115  0.493976  0.155922   \n",
       "2706 -0.296322  0.396681  0.344033  ...  0.114458  0.134418 -0.086635   \n",
       "2707 -0.413698  0.597635  0.435074  ...  0.147695  0.027148 -0.238429   \n",
       "\n",
       "           121       122       123       124       125       126       127  \n",
       "0    -0.302014  0.046241  0.212311 -0.591915  0.195987 -0.804964 -0.410228  \n",
       "1    -0.497878 -0.834289 -0.015181 -0.410300 -0.388667 -0.320374 -0.737702  \n",
       "2    -0.270287 -0.209992  0.117132 -0.255100 -0.310485 -0.103983 -0.510650  \n",
       "3    -0.270923  0.460429  0.003617 -0.491058  0.599199  0.175022 -0.954014  \n",
       "4    -0.407446 -0.000903  0.155919  0.690353  0.923121 -0.805374 -0.284457  \n",
       "...        ...       ...       ...       ...       ...       ...       ...  \n",
       "2703 -0.525839 -0.079871 -0.001970  0.060939  0.130234 -0.346551 -0.343271  \n",
       "2704 -0.227525 -1.002662  0.051023  0.065017  0.114165  0.077925 -0.750785  \n",
       "2705  0.295417 -0.343341 -0.238324  0.119737 -0.184396 -0.189299 -0.311372  \n",
       "2706 -0.030928  0.321525  0.477931 -0.128001  0.417263 -0.575216 -0.443046  \n",
       "2707  0.097475  0.127378  0.516743 -0.114978  0.254116 -0.576972 -0.581826  \n",
       "\n",
       "[2708 rows x 128 columns]"
      ]
     },
     "execution_count": 10,
     "metadata": {},
     "output_type": "execute_result"
    }
   ],
   "source": [
    "vec_df"
   ]
  },
  {
   "cell_type": "markdown",
   "id": "ca2f87fb-ff85-4ab5-b922-10c138537361",
   "metadata": {},
   "source": [
    "#### Distance Matrix"
   ]
  },
  {
   "cell_type": "code",
   "execution_count": 11,
   "id": "77f65ddc-ab54-4e3d-b36a-5e0feee6825f",
   "metadata": {},
   "outputs": [],
   "source": [
    "# Pairwise distances\n",
    "dimension = vec_df.shape[0]\n",
    "dist_ = pdist(vec_df)\n",
    "dist_mat = np.zeros([dimension, dimension])\n",
    "dist = iter(dist_)\n",
    "for i in range(dimension):\n",
    "    for j in range(i+1, dimension):  \n",
    "        d = next(dist)\n",
    "        dist_mat[i,j] = d\n",
    "        dist_mat[j,i] = d"
   ]
  },
  {
   "cell_type": "code",
   "execution_count": 12,
   "id": "809f71dd-ee17-4397-a56c-6c69d6cf245b",
   "metadata": {},
   "outputs": [
    {
     "data": {
      "text/plain": [
       "2708"
      ]
     },
     "execution_count": 12,
     "metadata": {},
     "output_type": "execute_result"
    }
   ],
   "source": [
    "len(dist_mat)"
   ]
  },
  {
   "cell_type": "markdown",
   "id": "2d433d33-18cc-4085-bac2-365c34ae97b8",
   "metadata": {},
   "source": [
    "#### Adjacency/ Similarity Matrix (Self-Tuning Spectral Clustering Algorithm)"
   ]
  },
  {
   "cell_type": "code",
   "execution_count": 13,
   "id": "7089377c-adba-427e-8a61-b0545ba47a01",
   "metadata": {},
   "outputs": [],
   "source": [
    "#calculate local sigma\n",
    "sigmas = np.zeros(dimension)\n",
    "for i in range(len(dist_mat)):\n",
    "    sigmas[i] = sorted(dist_mat[i])[7]"
   ]
  },
  {
   "cell_type": "code",
   "execution_count": 14,
   "id": "0bd07e3b-7d0b-4f88-bd8c-95df381097e2",
   "metadata": {},
   "outputs": [
    {
     "data": {
      "text/plain": [
       "array([2.62623029, 3.49871635, 2.79062702, ..., 4.94800866, 2.63129159,\n",
       "       2.51180269])"
      ]
     },
     "execution_count": 14,
     "metadata": {},
     "output_type": "execute_result"
    }
   ],
   "source": [
    "sigmas"
   ]
  },
  {
   "cell_type": "code",
   "execution_count": 15,
   "id": "1ac19c40-fbc6-41af-b57a-c1231225c67f",
   "metadata": {},
   "outputs": [],
   "source": [
    "# Adjaceny matrix with optimal sigma\n",
    "adjacency_matrix = np.zeros([dimension, dimension])\n",
    "dist = iter(dist_)\n",
    "for i in range(dimension):\n",
    "    for j in range(i+1, dimension):  \n",
    "        d = np.exp(-1*next(dist)**2/(sigmas[i]*sigmas[j]))\n",
    "        adjacency_matrix[i,j] = d\n",
    "        adjacency_matrix[j,i] = d"
   ]
  },
  {
   "cell_type": "code",
   "execution_count": 16,
   "id": "cd4f4e71-f23f-4265-aa61-d9bb151e8343",
   "metadata": {},
   "outputs": [
    {
     "data": {
      "text/plain": [
       "array([[0.        , 0.09349494, 0.07793689, ..., 0.03148447, 0.09057445,\n",
       "        0.08649216],\n",
       "       [0.09349494, 0.        , 0.64486406, ..., 0.09370965, 0.08922483,\n",
       "        0.08501289],\n",
       "       [0.07793689, 0.64486406, 0.        , ..., 0.06913959, 0.09268616,\n",
       "        0.08534518],\n",
       "       ...,\n",
       "       [0.03148447, 0.09370965, 0.06913959, ..., 0.        , 0.04374736,\n",
       "        0.03767747],\n",
       "       [0.09057445, 0.08922483, 0.09268616, ..., 0.04374736, 0.        ,\n",
       "        0.78091478],\n",
       "       [0.08649216, 0.08501289, 0.08534518, ..., 0.03767747, 0.78091478,\n",
       "        0.        ]])"
      ]
     },
     "execution_count": 16,
     "metadata": {},
     "output_type": "execute_result"
    }
   ],
   "source": [
    "adjacency_matrix"
   ]
  },
  {
   "cell_type": "markdown",
   "id": "38a2985e-a296-4067-8665-fc48544169ba",
   "metadata": {},
   "source": [
    "## Eigen Decomposition"
   ]
  },
  {
   "cell_type": "code",
   "execution_count": 17,
   "id": "69b3b482-f567-4f95-a4bd-93828a996068",
   "metadata": {},
   "outputs": [],
   "source": [
    "# Calculate degree matrix\n",
    "degree_matrix = np.sum(adjacency_matrix, axis=0) * np.eye(dimension)"
   ]
  },
  {
   "cell_type": "code",
   "execution_count": 18,
   "id": "944d7bb8-581e-486a-8bba-36c000d46bdb",
   "metadata": {},
   "outputs": [
    {
     "data": {
      "text/plain": [
       "array([[104.84645748,   0.        ,   0.        , ...,   0.        ,\n",
       "          0.        ,   0.        ],\n",
       "       [  0.        , 154.32485003,   0.        , ...,   0.        ,\n",
       "          0.        ,   0.        ],\n",
       "       [  0.        ,   0.        , 125.51669925, ...,   0.        ,\n",
       "          0.        ,   0.        ],\n",
       "       ...,\n",
       "       [  0.        ,   0.        ,   0.        , ..., 137.51623606,\n",
       "          0.        ,   0.        ],\n",
       "       [  0.        ,   0.        ,   0.        , ...,   0.        ,\n",
       "         93.95139072,   0.        ],\n",
       "       [  0.        ,   0.        ,   0.        , ...,   0.        ,\n",
       "          0.        ,  93.48649809]])"
      ]
     },
     "execution_count": 18,
     "metadata": {},
     "output_type": "execute_result"
    }
   ],
   "source": [
    "degree_matrix"
   ]
  },
  {
   "cell_type": "code",
   "execution_count": 19,
   "id": "a612309f-f421-464c-97a1-9cdedcb59012",
   "metadata": {},
   "outputs": [],
   "source": [
    "# Normalized laplacian matrix\n",
    "d_half = linalg.fractional_matrix_power(degree_matrix, -0.5)\n",
    "laplacian_matrix_normalized = np.matmul(np.matmul(d_half, adjacency_matrix), d_half)"
   ]
  },
  {
   "cell_type": "code",
   "execution_count": 20,
   "id": "78db8961-1608-4570-8f57-771c3fda647f",
   "metadata": {},
   "outputs": [
    {
     "data": {
      "text/plain": [
       "array([[0.        , 0.00073501, 0.00067938, ..., 0.00026221, 0.00091259,\n",
       "        0.00087363],\n",
       "       [0.00073501, 0.        , 0.0046334 , ..., 0.00064326, 0.000741  ,\n",
       "        0.00070777],\n",
       "       [0.00067938, 0.0046334 , 0.        , ..., 0.00052626, 0.00085352,\n",
       "        0.00078787],\n",
       "       ...,\n",
       "       [0.00026221, 0.00064326, 0.00052626, ..., 0.        , 0.00038488,\n",
       "        0.0003323 ],\n",
       "       [0.00091259, 0.000741  , 0.00085352, ..., 0.00038488, 0.        ,\n",
       "        0.00833254],\n",
       "       [0.00087363, 0.00070777, 0.00078787, ..., 0.0003323 , 0.00833254,\n",
       "        0.        ]])"
      ]
     },
     "execution_count": 20,
     "metadata": {},
     "output_type": "execute_result"
    }
   ],
   "source": [
    "laplacian_matrix_normalized"
   ]
  },
  {
   "cell_type": "code",
   "execution_count": 21,
   "id": "093bc977-2d1c-41d9-b70f-5cf747402bef",
   "metadata": {},
   "outputs": [],
   "source": [
    "# Calculating eigenvalues and eigenvectors no. of clusters k\n",
    "\n",
    "# k = 2\n",
    "\n",
    "e, v = np.linalg.eigh(laplacian_matrix_normalized)\n",
    "# row_sums = X.sum(axis=1)\n",
    "# Y = X / row_sums[:, np.newaxis]"
   ]
  },
  {
   "cell_type": "code",
   "execution_count": 22,
   "id": "a3d39433-6134-463a-8d33-b1d1210c2633",
   "metadata": {},
   "outputs": [
    {
     "data": {
      "text/plain": [
       "array([-0.24231353, -0.21069533, -0.19591784, ...,  0.97144761,\n",
       "        0.99824783,  1.        ])"
      ]
     },
     "execution_count": 22,
     "metadata": {},
     "output_type": "execute_result"
    }
   ],
   "source": [
    "# Eigenvalues\n",
    "e"
   ]
  },
  {
   "cell_type": "code",
   "execution_count": 23,
   "id": "d86d9c95-85be-4aa4-a9e4-8ad4dab607ff",
   "metadata": {},
   "outputs": [
    {
     "data": {
      "text/plain": [
       "array([[ 5.66563975e-07, -4.12829665e-06,  2.40634440e-06, ...,\n",
       "        -2.67069036e-04,  7.87666034e-04, -2.06925099e-02],\n",
       "       [-6.70080536e-07,  5.53752808e-06,  2.32810665e-07, ...,\n",
       "        -3.12262605e-04,  9.54017454e-04, -2.51046530e-02],\n",
       "       [ 3.09057361e-07, -1.11038409e-06,  1.63059871e-06, ...,\n",
       "        -2.89423723e-04,  8.61664891e-04, -2.26405538e-02],\n",
       "       ...,\n",
       "       [-3.44029774e-05,  2.14667905e-04, -1.25723215e-04, ...,\n",
       "        -1.21148466e-04,  8.88190157e-04, -2.36980865e-02],\n",
       "       [ 7.88669528e-07, -6.08460904e-06,  2.79123470e-06, ...,\n",
       "        -2.52178174e-04,  7.45470022e-04, -1.95879009e-02],\n",
       "       [ 5.29212262e-07, -3.96381585e-06,  1.60871086e-06, ...,\n",
       "        -2.52385368e-04,  7.43808015e-04, -1.95393781e-02]])"
      ]
     },
     "execution_count": 23,
     "metadata": {},
     "output_type": "execute_result"
    }
   ],
   "source": [
    "# Eigenvectors\n",
    "v"
   ]
  },
  {
   "cell_type": "code",
   "execution_count": 24,
   "id": "81a0d248-489a-4b4b-8892-0f8223cdaa4f",
   "metadata": {},
   "outputs": [
    {
     "data": {
      "image/png": "[encoded data removed]",
      "text/plain": [
       "<Figure size 400x300 with 1 Axes>"
      ]
     },
     "metadata": {},
     "output_type": "display_data"
    }
   ],
   "source": [
    "# Plotting the eigenvalues\n",
    "plt.rcParams[\"figure.figsize\"] = (4,3)\n",
    "plt.scatter(range(len(e)), e);\n",
    "plt.xticks(range(0,len(e)));"
   ]
  },
  {
   "cell_type": "code",
   "execution_count": 25,
   "id": "873019fe-cd92-4c9c-af64-28feb2d12132",
   "metadata": {},
   "outputs": [],
   "source": [
    "# Gaps in eigenvalues\n",
    "gaps = np.diff(e)\n",
    "eigen_gap_df = pd.DataFrame({'Index': range(len(e) - 1), 'Gap': gaps})\n",
    "eigen_gap_df.sort_values(by='Gap', ascending=False, inplace=True)"
   ]
  },
  {
   "cell_type": "code",
   "execution_count": 26,
   "id": "3165b1d4-af21-47db-9269-1d009369c990",
   "metadata": {},
   "outputs": [
    {
     "data": {
      "text/html": [
       "<div>\n",
       "<style scoped>\n",
       "    .dataframe tbody tr th:only-of-type {\n",
       "        vertical-align: middle;\n",
       "    }\n",
       "\n",
       "    .dataframe tbody tr th {\n",
       "        vertical-align: top;\n",
       "    }\n",
       "\n",
       "    .dataframe thead th {\n",
       "        text-align: right;\n",
       "    }\n",
       "</style>\n",
       "<table border=\"1\" class=\"dataframe\">\n",
       "  <thead>\n",
       "    <tr style=\"text-align: right;\">\n",
       "      <th></th>\n",
       "      <th>Index</th>\n",
       "      <th>Gap</th>\n",
       "    </tr>\n",
       "  </thead>\n",
       "  <tbody>\n",
       "    <tr>\n",
       "      <th>2704</th>\n",
       "      <td>2704</td>\n",
       "      <td>3.918217e-01</td>\n",
       "    </tr>\n",
       "    <tr>\n",
       "      <th>2701</th>\n",
       "      <td>2701</td>\n",
       "      <td>1.210177e-01</td>\n",
       "    </tr>\n",
       "    <tr>\n",
       "      <th>2703</th>\n",
       "      <td>2703</td>\n",
       "      <td>6.077478e-02</td>\n",
       "    </tr>\n",
       "    <tr>\n",
       "      <th>2694</th>\n",
       "      <td>2694</td>\n",
       "      <td>4.015015e-02</td>\n",
       "    </tr>\n",
       "    <tr>\n",
       "      <th>0</th>\n",
       "      <td>0</td>\n",
       "      <td>3.161819e-02</td>\n",
       "    </tr>\n",
       "    <tr>\n",
       "      <th>...</th>\n",
       "      <td>...</td>\n",
       "      <td>...</td>\n",
       "    </tr>\n",
       "    <tr>\n",
       "      <th>1704</th>\n",
       "      <td>1704</td>\n",
       "      <td>2.233622e-07</td>\n",
       "    </tr>\n",
       "    <tr>\n",
       "      <th>1031</th>\n",
       "      <td>1031</td>\n",
       "      <td>1.726841e-07</td>\n",
       "    </tr>\n",
       "    <tr>\n",
       "      <th>969</th>\n",
       "      <td>969</td>\n",
       "      <td>1.608088e-07</td>\n",
       "    </tr>\n",
       "    <tr>\n",
       "      <th>1289</th>\n",
       "      <td>1289</td>\n",
       "      <td>1.262306e-07</td>\n",
       "    </tr>\n",
       "    <tr>\n",
       "      <th>1068</th>\n",
       "      <td>1068</td>\n",
       "      <td>9.509806e-08</td>\n",
       "    </tr>\n",
       "  </tbody>\n",
       "</table>\n",
       "<p>2707 rows × 2 columns</p>\n",
       "</div>"
      ],
      "text/plain": [
       "      Index           Gap\n",
       "2704   2704  3.918217e-01\n",
       "2701   2701  1.210177e-01\n",
       "2703   2703  6.077478e-02\n",
       "2694   2694  4.015015e-02\n",
       "0         0  3.161819e-02\n",
       "...     ...           ...\n",
       "1704   1704  2.233622e-07\n",
       "1031   1031  1.726841e-07\n",
       "969     969  1.608088e-07\n",
       "1289   1289  1.262306e-07\n",
       "1068   1068  9.509806e-08\n",
       "\n",
       "[2707 rows x 2 columns]"
      ]
     },
     "execution_count": 26,
     "metadata": {},
     "output_type": "execute_result"
    }
   ],
   "source": [
    "eigen_gap_df"
   ]
  },
  {
   "cell_type": "code",
   "execution_count": 27,
   "id": "379c4e5e-fdda-4c07-87f7-955d7b84ceb0",
   "metadata": {},
   "outputs": [
    {
     "data": {
      "text/html": [
       "<div>\n",
       "<style scoped>\n",
       "    .dataframe tbody tr th:only-of-type {\n",
       "        vertical-align: middle;\n",
       "    }\n",
       "\n",
       "    .dataframe tbody tr th {\n",
       "        vertical-align: top;\n",
       "    }\n",
       "\n",
       "    .dataframe thead th {\n",
       "        text-align: right;\n",
       "    }\n",
       "</style>\n",
       "<table border=\"1\" class=\"dataframe\">\n",
       "  <thead>\n",
       "    <tr style=\"text-align: right;\">\n",
       "      <th></th>\n",
       "      <th>Index</th>\n",
       "      <th>Gap</th>\n",
       "    </tr>\n",
       "  </thead>\n",
       "  <tbody>\n",
       "    <tr>\n",
       "      <th>0</th>\n",
       "      <td>0</td>\n",
       "      <td>0.031618</td>\n",
       "    </tr>\n",
       "    <tr>\n",
       "      <th>3</th>\n",
       "      <td>3</td>\n",
       "      <td>0.021224</td>\n",
       "    </tr>\n",
       "    <tr>\n",
       "      <th>1</th>\n",
       "      <td>1</td>\n",
       "      <td>0.014777</td>\n",
       "    </tr>\n",
       "    <tr>\n",
       "      <th>8</th>\n",
       "      <td>8</td>\n",
       "      <td>0.010377</td>\n",
       "    </tr>\n",
       "    <tr>\n",
       "      <th>5</th>\n",
       "      <td>5</td>\n",
       "      <td>0.007633</td>\n",
       "    </tr>\n",
       "    <tr>\n",
       "      <th>2</th>\n",
       "      <td>2</td>\n",
       "      <td>0.006782</td>\n",
       "    </tr>\n",
       "    <tr>\n",
       "      <th>6</th>\n",
       "      <td>6</td>\n",
       "      <td>0.005522</td>\n",
       "    </tr>\n",
       "    <tr>\n",
       "      <th>7</th>\n",
       "      <td>7</td>\n",
       "      <td>0.001493</td>\n",
       "    </tr>\n",
       "    <tr>\n",
       "      <th>4</th>\n",
       "      <td>4</td>\n",
       "      <td>0.001188</td>\n",
       "    </tr>\n",
       "    <tr>\n",
       "      <th>9</th>\n",
       "      <td>9</td>\n",
       "      <td>0.000930</td>\n",
       "    </tr>\n",
       "  </tbody>\n",
       "</table>\n",
       "</div>"
      ],
      "text/plain": [
       "   Index       Gap\n",
       "0      0  0.031618\n",
       "3      3  0.021224\n",
       "1      1  0.014777\n",
       "8      8  0.010377\n",
       "5      5  0.007633\n",
       "2      2  0.006782\n",
       "6      6  0.005522\n",
       "7      7  0.001493\n",
       "4      4  0.001188\n",
       "9      9  0.000930"
      ]
     },
     "execution_count": 27,
     "metadata": {},
     "output_type": "execute_result"
    }
   ],
   "source": [
    "eigen_gap_df[eigen_gap_df['Index'] < 10]"
   ]
  },
  {
   "cell_type": "code",
   "execution_count": 29,
   "id": "f556984f-95bf-477f-a388-31c54d15a814",
   "metadata": {},
   "outputs": [],
   "source": [
    "# Eigen features for k\n",
    "k = 7\n",
    "X = v[:, -1*k:]"
   ]
  },
  {
   "cell_type": "code",
   "execution_count": null,
   "id": "06d822a4-d9f2-4925-bb94-fc2764c435f3",
   "metadata": {},
   "outputs": [],
   "source": []
  },
  {
   "cell_type": "code",
   "execution_count": null,
   "id": "202ae6e5-e691-42bc-988f-9eecbfccd828",
   "metadata": {},
   "outputs": [],
   "source": []
  },
  {
   "cell_type": "code",
   "execution_count": null,
   "id": "0b916a16-42d0-4ae0-b174-aa5e4961f6e6",
   "metadata": {},
   "outputs": [],
   "source": []
  }
 ],
 "metadata": {
  "kernelspec": {
   "display_name": "Python 3 (ipykernel)",
   "language": "python",
   "name": "python3"
  },
  "language_info": {
   "codemirror_mode": {
    "name": "ipython",
    "version": 3
   },
   "file_extension": ".py",
   "mimetype": "text/x-python",
   "name": "python",
   "nbconvert_exporter": "python",
   "pygments_lexer": "ipython3",
   "version": "3.11.3"
  }
 },
 "nbformat": 4,
 "nbformat_minor": 5
}
