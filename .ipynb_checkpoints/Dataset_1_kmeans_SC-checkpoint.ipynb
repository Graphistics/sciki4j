{
 "cells": [
  {
   "cell_type": "code",
   "execution_count": 2,
   "id": "512ff4b7-b66d-43a0-bb63-eeb553501999",
   "metadata": {},
   "outputs": [],
   "source": [
    "import pandas as pd \n",
    "import numpy as np\n",
    "from scipy import linalg\n",
    "from scipy.spatial.distance import pdist\n",
    "import networkx as nx\n",
    "import sys\n",
    "import random\n",
    "\n",
    "from sklearn.preprocessing import StandardScaler, normalize, MinMaxScaler\n",
    "from sklearn.metrics import DistanceMetric\n",
    "from sklearn.metrics import pairwise_distances\n",
    "from sklearn.decomposition import PCA\n",
    "from sklearn.cluster import KMeans\n",
    "from sklearn.cluster import OPTICS\n",
    "from sklearn.cluster import AgglomerativeClustering\n",
    "from sklearn.cluster import SpectralClustering\n",
    "from sklearn.metrics import confusion_matrix\n",
    "from sklearn.metrics import silhouette_samples, silhouette_score\n",
    "from sklearn.metrics import adjusted_rand_score\n",
    "\n",
    "import matplotlib.pyplot as plt\n",
    "from adjustText import adjust_text\n",
    "import seaborn as sns\n",
    "from matplotlib import rcParams, cycler"
   ]
  },
  {
   "cell_type": "code",
   "execution_count": 3,
   "id": "fef80906-6e58-4f21-a22c-104e22867025",
   "metadata": {},
   "outputs": [],
   "source": [
    "def norm_and_pca_from_df(df):\n",
    "    '''\n",
    "    Function processes the data using Principal component analysis(PCA)\n",
    "    Args:\n",
    "        df : Dataframe \n",
    "    Returns normalized dataframe and principal component of df\n",
    "    '''\n",
    "    \n",
    "    df_normalized = pd.DataFrame()\n",
    "    cols = list(df.columns)\n",
    "    df_normalized[cols] = pd.DataFrame(normalize(MinMaxScaler().fit_transform(df[cols])))\n",
    "    df_normalized.index = df.index\n",
    "    \n",
    "    df_pca = pd.DataFrame(PCA(n_components = 3).fit_transform(df_normalized))\n",
    "    df_pca.columns = ['P1', 'P2']\n",
    "    df_pca.index = df.index\n",
    "    \n",
    "    return df_normalized, df_pca"
   ]
  },
  {
   "cell_type": "code",
   "execution_count": null,
   "id": "dc1693aa-4ca1-4f81-bb2e-321d54da63ed",
   "metadata": {},
   "outputs": [],
   "source": [
    "# Load dataset 1\n",
    "df_csv_data = pd.read_csv(\"Iris _Mythica_Data_Set.csv\", index_col = 0)\n",
    "df_normalized, df_pca = norm_and_pca_from_df(df_csv_data)"
   ]
  }
 ],
 "metadata": {
  "kernelspec": {
   "display_name": "Python 3 (ipykernel)",
   "language": "python",
   "name": "python3"
  },
  "language_info": {
   "codemirror_mode": {
    "name": "ipython",
    "version": 3
   },
   "file_extension": ".py",
   "mimetype": "text/x-python",
   "name": "python",
   "nbconvert_exporter": "python",
   "pygments_lexer": "ipython3",
   "version": "3.11.3"
  }
 },
 "nbformat": 4,
 "nbformat_minor": 5
}
