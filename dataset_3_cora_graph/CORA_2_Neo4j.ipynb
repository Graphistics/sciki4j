{
 "cells": [
  {
   "cell_type": "code",
   "execution_count": 1,
   "id": "4496ed35-6d2c-4894-99a0-69a273e2b9eb",
   "metadata": {},
   "outputs": [],
   "source": [
    "from neo4j import GraphDatabase\n",
    "from torch_geometric.datasets import Planetoid"
   ]
  },
  {
   "cell_type": "code",
   "execution_count": 2,
   "id": "18dd906a-b6c8-4d9c-b60c-e7d8431f4b5c",
   "metadata": {},
   "outputs": [],
   "source": [
    "dataset = Planetoid(root='data', name='Cora')\n",
    "data = dataset[0]"
   ]
  },
  {
   "cell_type": "code",
   "execution_count": 3,
   "id": "e9ff5c86-4317-4dd4-b9f7-02a034801013",
   "metadata": {},
   "outputs": [],
   "source": [
    "\"First Create an empty database, within a project\"\n",
    "\n",
    "uri = \"bolt://localhost:7687\"\n",
    "username = \"neo4j\" # username for Neo4j, most probably is Neo4j, if you did not change while installing Neo4j Desktop\n",
    "password = \"cora1234\" # Password for database.\n",
    "\n",
    "driver = GraphDatabase.driver(uri, auth=(username, password))"
   ]
  },
  {
   "cell_type": "code",
   "execution_count": 5,
   "id": "c867044f-5654-4907-81e0-7b0595b24a1d",
   "metadata": {},
   "outputs": [],
   "source": [
    "with driver.session() as session:\n",
    "    for i in range(data.x.shape[0]):\n",
    "        session.run(\n",
    "            \"CREATE (n:Paper {id: $id, features: $features})\",\n",
    "            {\"id\": i, \"features\": data.x[i].tolist()}\n",
    "        )\n",
    "\n",
    "    for edge in data.edge_index.t().tolist():\n",
    "        session.run(\n",
    "            \"MATCH (source:Paper {id: $source_id}), (target:Paper {id: $target_id}) \"\n",
    "            \"CREATE (source)-[:CITES{value: 1}]->(target)\",\n",
    "            {\"source_id\": edge[0], \"target_id\": edge[1]}\n",
    "        )"
   ]
  },
  {
   "cell_type": "code",
   "execution_count": null,
   "id": "33113dbb-2cde-4f7a-b6d6-b05cddd641e1",
   "metadata": {},
   "outputs": [],
   "source": []
  }
 ],
 "metadata": {
  "kernelspec": {
   "display_name": "Python 3 (ipykernel)",
   "language": "python",
   "name": "python3"
  },
  "language_info": {
   "codemirror_mode": {
    "name": "ipython",
    "version": 3
   },
   "file_extension": ".py",
   "mimetype": "text/x-python",
   "name": "python",
   "nbconvert_exporter": "python",
   "pygments_lexer": "ipython3",
   "version": "3.11.3"
  }
 },
 "nbformat": 4,
 "nbformat_minor": 5
}
