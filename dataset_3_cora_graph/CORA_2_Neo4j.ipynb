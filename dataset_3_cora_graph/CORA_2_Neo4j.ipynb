{
 "cells": [
  {
   "cell_type": "code",
   "execution_count": 7,
   "id": "4496ed35-6d2c-4894-99a0-69a273e2b9eb",
   "metadata": {},
   "outputs": [],
   "source": [
    "from neo4j import GraphDatabase\n",
    "from torch_geometric.datasets import Planetoid"
   ]
  },
  {
   "cell_type": "code",
   "execution_count": 8,
   "id": "18dd906a-b6c8-4d9c-b60c-e7d8431f4b5c",
   "metadata": {},
   "outputs": [
    {
     "name": "stderr",
     "output_type": "stream",
     "text": [
      "Downloading https://github.com/kimiyoung/planetoid/raw/master/data/ind.cora.x\n",
      "Downloading https://github.com/kimiyoung/planetoid/raw/master/data/ind.cora.tx\n",
      "Downloading https://github.com/kimiyoung/planetoid/raw/master/data/ind.cora.allx\n",
      "Downloading https://github.com/kimiyoung/planetoid/raw/master/data/ind.cora.y\n",
      "Downloading https://github.com/kimiyoung/planetoid/raw/master/data/ind.cora.ty\n",
      "Downloading https://github.com/kimiyoung/planetoid/raw/master/data/ind.cora.ally\n",
      "Downloading https://github.com/kimiyoung/planetoid/raw/master/data/ind.cora.graph\n",
      "Downloading https://github.com/kimiyoung/planetoid/raw/master/data/ind.cora.test.index\n",
      "Processing...\n",
      "Done!\n"
     ]
    }
   ],
   "source": [
    "dataset = Planetoid(root='data', name='Cora')\n",
    "data = dataset[0]"
   ]
  },
  {
   "cell_type": "code",
   "execution_count": 4,
   "id": "e9ff5c86-4317-4dd4-b9f7-02a034801013",
   "metadata": {},
   "outputs": [],
   "source": [
    "\"First Create an empty database, within a project\"\n",
    "\n",
    "uri = \"bolt://localhost:7687\"\n",
    "username = \"neo4j\" # username for Neo4j, most probably is Neo4j, if you did not change while installing Neo4j Desktop\n",
    "password = \"cora1234\" # Password for database.\n",
    "\n",
    "driver = GraphDatabase.driver(uri, auth=(username, password))"
   ]
  },
  {
   "cell_type": "code",
   "execution_count": 9,
   "id": "c867044f-5654-4907-81e0-7b0595b24a1d",
   "metadata": {},
   "outputs": [],
   "source": [
    "with driver.session() as session:\n",
    "    for i in range(data.x.shape[0]):\n",
    "        session.run(\n",
    "            \"CREATE (n:Paper {id: $id, features: $features})\",\n",
    "            {\"id\": i, \"features\": data.x[i].tolist()}\n",
    "        )\n",
    "\n",
    "    for edge in data.edge_index.t().tolist():\n",
    "        session.run(\n",
    "            \"MATCH (source:Paper {id: $source_id}), (target:Paper {id: $target_id}) \"\n",
    "            \"CREATE (source)-[:CITES]->(target)\",\n",
    "            {\"source_id\": edge[0], \"target_id\": edge[1]}\n",
    "        )"
   ]
  }
 ],
 "metadata": {
  "kernelspec": {
   "display_name": "Python 3 (ipykernel)",
   "language": "python",
   "name": "python3"
  },
  "language_info": {
   "codemirror_mode": {
    "name": "ipython",
    "version": 3
   },
   "file_extension": ".py",
   "mimetype": "text/x-python",
   "name": "python",
   "nbconvert_exporter": "python",
   "pygments_lexer": "ipython3",
   "version": "3.11.3"
  }
 },
 "nbformat": 4,
 "nbformat_minor": 5
}
