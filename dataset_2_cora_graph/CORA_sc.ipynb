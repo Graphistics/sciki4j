{
 "cells": [
  {
   "cell_type": "code",
   "execution_count": 1,
   "id": "22259c2b-2871-430c-bc2d-37fce32324e1",
   "metadata": {},
   "outputs": [],
   "source": [
    "# %pip install pandas networkx numpy os torch torch_geometric node2vec scipy matplotlib"
   ]
  },
  {
   "cell_type": "code",
   "execution_count": 2,
   "id": "05ba8c9c-545e-4a9d-abd0-84d6af08d9ec",
   "metadata": {},
   "outputs": [],
   "source": [
    "import pandas as pd\n",
    "import networkx as nx\n",
    "import numpy as np\n",
    "import os.path as osp\n",
    "# import torch\n",
    "from torch_geometric.datasets import Planetoid\n",
    "from node2vec import Node2Vec\n",
    "\n",
    "from scipy.spatial.distance import pdist\n",
    "from scipy import linalg\n",
    "\n",
    "import matplotlib.pyplot as plt\n",
    "\n",
    "from sklearn.cluster import KMeans\n",
    "from sklearn.metrics import silhouette_score\n",
    "from sklearn.metrics import adjusted_rand_score\n",
    "from sklearn.cluster import SpectralClustering"
   ]
  },
  {
   "cell_type": "markdown",
   "id": "8512f9a6-a139-477d-8e16-62a8aac37475",
   "metadata": {},
   "source": [
    "## Data Import"
   ]
  },
  {
   "cell_type": "code",
   "execution_count": 3,
   "id": "4dd6cb48-6308-4653-806e-6bebe0fbb65a",
   "metadata": {},
   "outputs": [],
   "source": [
    "dataset = 'Cora'\n",
    "path = osp.join('.', 'data', dataset)\n",
    "dataset = Planetoid(path, dataset)  # dowload or load the Cora dataset\n",
    "data = dataset[0]"
   ]
  },
  {
   "cell_type": "code",
   "execution_count": 4,
   "id": "96ffbb42-a7af-4001-b896-ce5bb43ae252",
   "metadata": {},
   "outputs": [
    {
     "data": {
      "text/plain": [
       "<bound method BaseData.node_attrs of Data(x=[2708, 1433], edge_index=[2, 10556], y=[2708], train_mask=[2708], val_mask=[2708], test_mask=[2708])>"
      ]
     },
     "execution_count": 4,
     "metadata": {},
     "output_type": "execute_result"
    }
   ],
   "source": [
    "data.node_attrs"
   ]
  },
  {
   "cell_type": "code",
   "execution_count": 5,
   "id": "4016f7fd-652c-480e-bcf1-4da0a8b06583",
   "metadata": {},
   "outputs": [],
   "source": [
    "labels = data.y.tolist()"
   ]
  },
  {
   "cell_type": "code",
   "execution_count": 6,
   "id": "15789c72-5374-46fe-92f5-5da337d40676",
   "metadata": {},
   "outputs": [
    {
     "data": {
      "text/plain": [
       "{0, 1, 2, 3, 4, 5, 6}"
      ]
     },
     "execution_count": 6,
     "metadata": {},
     "output_type": "execute_result"
    }
   ],
   "source": [
    "set(labels)"
   ]
  },
  {
   "cell_type": "markdown",
   "id": "4bbc4329-ab98-42b7-a00f-5c1405115ae6",
   "metadata": {},
   "source": [
    "## Generate Networkx Graph"
   ]
  },
  {
   "cell_type": "code",
   "execution_count": 7,
   "id": "7fcc8308-f045-4be8-8bbc-3f29f3a4d77e",
   "metadata": {},
   "outputs": [],
   "source": [
    "# Create a NetworkX graph from the PyTorch Geometric dataset\n",
    "G = nx.Graph()\n",
    "for i, j in data.edge_index.t().tolist():\n",
    "    G.add_edge(i, j)"
   ]
  },
  {
   "cell_type": "code",
   "execution_count": 8,
   "id": "1ac19c40-fbc6-41af-b57a-c1231225c67f",
   "metadata": {},
   "outputs": [],
   "source": [
    "# Get the adjacency matrix\n",
    "adjacency_matrix = nx.to_numpy_matrix(G)\n",
    "\n",
    "# Convert the adjacency matrix to a NumPy array\n",
    "adjacency_matrix = np.array(adjacency_matrix)"
   ]
  },
  {
   "cell_type": "code",
   "execution_count": 9,
   "id": "cd4f4e71-f23f-4265-aa61-d9bb151e8343",
   "metadata": {},
   "outputs": [
    {
     "data": {
      "text/plain": [
       "array([[0., 1., 1., ..., 0., 0., 0.],\n",
       "       [1., 0., 0., ..., 0., 0., 0.],\n",
       "       [1., 0., 0., ..., 0., 0., 0.],\n",
       "       ...,\n",
       "       [0., 0., 0., ..., 0., 0., 0.],\n",
       "       [0., 0., 0., ..., 0., 0., 0.],\n",
       "       [0., 0., 0., ..., 0., 0., 0.]])"
      ]
     },
     "execution_count": 9,
     "metadata": {},
     "output_type": "execute_result"
    }
   ],
   "source": [
    "adjacency_matrix"
   ]
  },
  {
   "cell_type": "markdown",
   "id": "38a2985e-a296-4067-8665-fc48544169ba",
   "metadata": {},
   "source": [
    "## Eigen Decomposition"
   ]
  },
  {
   "cell_type": "code",
   "execution_count": 10,
   "id": "69b3b482-f567-4f95-a4bd-93828a996068",
   "metadata": {},
   "outputs": [],
   "source": [
    "# Calculate degree matrix\n",
    "\n",
    "dimension = len(adjacency_matrix)\n",
    "\n",
    "degree_matrix = np.sum(adjacency_matrix, axis=0) * np.eye(dimension)"
   ]
  },
  {
   "cell_type": "code",
   "execution_count": 11,
   "id": "944d7bb8-581e-486a-8bba-36c000d46bdb",
   "metadata": {},
   "outputs": [
    {
     "data": {
      "text/plain": [
       "array([[3., 0., 0., ..., 0., 0., 0.],\n",
       "       [0., 3., 0., ..., 0., 0., 0.],\n",
       "       [0., 0., 4., ..., 0., 0., 0.],\n",
       "       ...,\n",
       "       [0., 0., 0., ..., 1., 0., 0.],\n",
       "       [0., 0., 0., ..., 0., 1., 0.],\n",
       "       [0., 0., 0., ..., 0., 0., 1.]])"
      ]
     },
     "execution_count": 11,
     "metadata": {},
     "output_type": "execute_result"
    }
   ],
   "source": [
    "degree_matrix"
   ]
  },
  {
   "cell_type": "code",
   "execution_count": 12,
   "id": "a612309f-f421-464c-97a1-9cdedcb59012",
   "metadata": {},
   "outputs": [],
   "source": [
    "# Normalized laplacian matrix\n",
    "d_half = linalg.fractional_matrix_power(degree_matrix, -0.5)\n",
    "laplacian_matrix = np.matmul(np.matmul(d_half, adjacency_matrix), d_half)\n",
    "\n",
    "# Random walk Laplacian matrix\n",
    "# d_inverse = linalg.fractional_matrix_power(degree_matrix, -1)\n",
    "# laplacian_matrix = np.matmul(d_inverse, adjacency_matrix)"
   ]
  },
  {
   "cell_type": "code",
   "execution_count": 13,
   "id": "78db8961-1608-4570-8f57-771c3fda647f",
   "metadata": {},
   "outputs": [
    {
     "data": {
      "text/plain": [
       "array([[0.        , 0.33333333, 0.28867513, ..., 0.        , 0.        ,\n",
       "        0.        ],\n",
       "       [0.33333333, 0.        , 0.        , ..., 0.        , 0.        ,\n",
       "        0.        ],\n",
       "       [0.28867513, 0.        , 0.        , ..., 0.        , 0.        ,\n",
       "        0.        ],\n",
       "       ...,\n",
       "       [0.        , 0.        , 0.        , ..., 0.        , 0.        ,\n",
       "        0.        ],\n",
       "       [0.        , 0.        , 0.        , ..., 0.        , 0.        ,\n",
       "        0.        ],\n",
       "       [0.        , 0.        , 0.        , ..., 0.        , 0.        ,\n",
       "        0.        ]])"
      ]
     },
     "execution_count": 13,
     "metadata": {},
     "output_type": "execute_result"
    }
   ],
   "source": [
    "laplacian_matrix"
   ]
  },
  {
   "cell_type": "code",
   "execution_count": 14,
   "id": "093bc977-2d1c-41d9-b70f-5cf747402bef",
   "metadata": {},
   "outputs": [],
   "source": [
    "# Calculating eigenvalues and eigenvectors\n",
    "e, v = np.linalg.eigh(laplacian_matrix)"
   ]
  },
  {
   "cell_type": "code",
   "execution_count": 15,
   "id": "a3d39433-6134-463a-8d33-b1d1210c2633",
   "metadata": {},
   "outputs": [
    {
     "data": {
      "text/plain": [
       "array([-1., -1., -1., ...,  1.,  1.,  1.])"
      ]
     },
     "execution_count": 15,
     "metadata": {},
     "output_type": "execute_result"
    }
   ],
   "source": [
    "# Eigenvalues\n",
    "e"
   ]
  },
  {
   "cell_type": "code",
   "execution_count": 16,
   "id": "d86d9c95-85be-4aa4-a9e4-8ad4dab607ff",
   "metadata": {},
   "outputs": [
    {
     "data": {
      "text/plain": [
       "array([[ 0.00000000e+00,  0.00000000e+00,  0.00000000e+00, ...,\n",
       "         0.00000000e+00,  0.00000000e+00,  0.00000000e+00],\n",
       "       [ 7.92422518e-18, -4.16658393e-19, -1.74682967e-20, ...,\n",
       "        -4.54143753e-19, -3.12572452e-19,  1.04755407e-17],\n",
       "       [-2.05236896e-17, -6.54653435e-18,  5.57174181e-18, ...,\n",
       "        -3.54356631e-19, -4.36775085e-18,  1.17785657e-17],\n",
       "       ...,\n",
       "       [ 0.00000000e+00,  0.00000000e+00,  0.00000000e+00, ...,\n",
       "         0.00000000e+00,  0.00000000e+00,  0.00000000e+00],\n",
       "       [ 1.22541544e-18, -2.03372223e-17,  1.04525474e-17, ...,\n",
       "        -9.73068803e-18,  1.77137750e-18,  3.61847975e-17],\n",
       "       [ 6.53173569e-18,  4.56708304e-18,  2.83166168e-18, ...,\n",
       "        -7.62131129e-20, -1.46072949e-17, -3.70852200e-18]])"
      ]
     },
     "execution_count": 16,
     "metadata": {},
     "output_type": "execute_result"
    }
   ],
   "source": [
    "# Eigenvectors\n",
    "v"
   ]
  },
  {
   "cell_type": "code",
   "execution_count": 17,
   "id": "81a0d248-489a-4b4b-8892-0f8223cdaa4f",
   "metadata": {},
   "outputs": [
    {
     "data": {
      "image/png": "[encoded data removed]",
      "text/plain": [
       "<Figure size 2000x1000 with 1 Axes>"
      ]
     },
     "metadata": {},
     "output_type": "display_data"
    }
   ],
   "source": [
    "# Plotting the eigenvalues\n",
    "plt.rcParams[\"figure.figsize\"] = (20,10)\n",
    "plt.scatter(range(len(e)), e);\n",
    "plt.xticks(range(0,len(e)));"
   ]
  },
  {
   "cell_type": "code",
   "execution_count": 18,
   "id": "873019fe-cd92-4c9c-af64-28feb2d12132",
   "metadata": {},
   "outputs": [],
   "source": [
    "# Gaps in eigenvalues\n",
    "gaps = np.diff(e)\n",
    "eigen_gap_df = pd.DataFrame({'Index': range(len(e) - 1), 'Gap': gaps})\n",
    "eigen_gap_df.sort_values(by='Gap', ascending=False, inplace=True)"
   ]
  },
  {
   "cell_type": "code",
   "execution_count": 19,
   "id": "3165b1d4-af21-47db-9269-1d009369c990",
   "metadata": {},
   "outputs": [
    {
     "data": {
      "text/html": [
       "<div>\n",
       "<style scoped>\n",
       "    .dataframe tbody tr th:only-of-type {\n",
       "        vertical-align: middle;\n",
       "    }\n",
       "\n",
       "    .dataframe tbody tr th {\n",
       "        vertical-align: top;\n",
       "    }\n",
       "\n",
       "    .dataframe thead th {\n",
       "        text-align: right;\n",
       "    }\n",
       "</style>\n",
       "<table border=\"1\" class=\"dataframe\">\n",
       "  <thead>\n",
       "    <tr style=\"text-align: right;\">\n",
       "      <th></th>\n",
       "      <th>Index</th>\n",
       "      <th>Gap</th>\n",
       "    </tr>\n",
       "  </thead>\n",
       "  <tbody>\n",
       "    <tr>\n",
       "      <th>61</th>\n",
       "      <td>61</td>\n",
       "      <td>0.029234</td>\n",
       "    </tr>\n",
       "    <tr>\n",
       "      <th>67</th>\n",
       "      <td>67</td>\n",
       "      <td>0.019980</td>\n",
       "    </tr>\n",
       "    <tr>\n",
       "      <th>63</th>\n",
       "      <td>63</td>\n",
       "      <td>0.012755</td>\n",
       "    </tr>\n",
       "    <tr>\n",
       "      <th>86</th>\n",
       "      <td>86</td>\n",
       "      <td>0.009814</td>\n",
       "    </tr>\n",
       "    <tr>\n",
       "      <th>2626</th>\n",
       "      <td>2626</td>\n",
       "      <td>0.008880</td>\n",
       "    </tr>\n",
       "    <tr>\n",
       "      <th>...</th>\n",
       "      <td>...</td>\n",
       "      <td>...</td>\n",
       "    </tr>\n",
       "    <tr>\n",
       "      <th>46</th>\n",
       "      <td>46</td>\n",
       "      <td>0.000000</td>\n",
       "    </tr>\n",
       "    <tr>\n",
       "      <th>45</th>\n",
       "      <td>45</td>\n",
       "      <td>0.000000</td>\n",
       "    </tr>\n",
       "    <tr>\n",
       "      <th>44</th>\n",
       "      <td>44</td>\n",
       "      <td>0.000000</td>\n",
       "    </tr>\n",
       "    <tr>\n",
       "      <th>42</th>\n",
       "      <td>42</td>\n",
       "      <td>0.000000</td>\n",
       "    </tr>\n",
       "    <tr>\n",
       "      <th>0</th>\n",
       "      <td>0</td>\n",
       "      <td>0.000000</td>\n",
       "    </tr>\n",
       "  </tbody>\n",
       "</table>\n",
       "<p>2707 rows × 2 columns</p>\n",
       "</div>"
      ],
      "text/plain": [
       "      Index       Gap\n",
       "61       61  0.029234\n",
       "67       67  0.019980\n",
       "63       63  0.012755\n",
       "86       86  0.009814\n",
       "2626   2626  0.008880\n",
       "...     ...       ...\n",
       "46       46  0.000000\n",
       "45       45  0.000000\n",
       "44       44  0.000000\n",
       "42       42  0.000000\n",
       "0         0  0.000000\n",
       "\n",
       "[2707 rows x 2 columns]"
      ]
     },
     "execution_count": 19,
     "metadata": {},
     "output_type": "execute_result"
    }
   ],
   "source": [
    "eigen_gap_df"
   ]
  },
  {
   "cell_type": "code",
   "execution_count": 20,
   "id": "379c4e5e-fdda-4c07-87f7-955d7b84ceb0",
   "metadata": {},
   "outputs": [
    {
     "data": {
      "text/html": [
       "<div>\n",
       "<style scoped>\n",
       "    .dataframe tbody tr th:only-of-type {\n",
       "        vertical-align: middle;\n",
       "    }\n",
       "\n",
       "    .dataframe tbody tr th {\n",
       "        vertical-align: top;\n",
       "    }\n",
       "\n",
       "    .dataframe thead th {\n",
       "        text-align: right;\n",
       "    }\n",
       "</style>\n",
       "<table border=\"1\" class=\"dataframe\">\n",
       "  <thead>\n",
       "    <tr style=\"text-align: right;\">\n",
       "      <th></th>\n",
       "      <th>Index</th>\n",
       "      <th>Gap</th>\n",
       "    </tr>\n",
       "  </thead>\n",
       "  <tbody>\n",
       "    <tr>\n",
       "      <th>2</th>\n",
       "      <td>2</td>\n",
       "      <td>4.440892e-16</td>\n",
       "    </tr>\n",
       "    <tr>\n",
       "      <th>9</th>\n",
       "      <td>9</td>\n",
       "      <td>2.220446e-16</td>\n",
       "    </tr>\n",
       "    <tr>\n",
       "      <th>3</th>\n",
       "      <td>3</td>\n",
       "      <td>2.220446e-16</td>\n",
       "    </tr>\n",
       "    <tr>\n",
       "      <th>7</th>\n",
       "      <td>7</td>\n",
       "      <td>0.000000e+00</td>\n",
       "    </tr>\n",
       "    <tr>\n",
       "      <th>6</th>\n",
       "      <td>6</td>\n",
       "      <td>0.000000e+00</td>\n",
       "    </tr>\n",
       "    <tr>\n",
       "      <th>5</th>\n",
       "      <td>5</td>\n",
       "      <td>0.000000e+00</td>\n",
       "    </tr>\n",
       "    <tr>\n",
       "      <th>4</th>\n",
       "      <td>4</td>\n",
       "      <td>0.000000e+00</td>\n",
       "    </tr>\n",
       "    <tr>\n",
       "      <th>8</th>\n",
       "      <td>8</td>\n",
       "      <td>0.000000e+00</td>\n",
       "    </tr>\n",
       "    <tr>\n",
       "      <th>1</th>\n",
       "      <td>1</td>\n",
       "      <td>0.000000e+00</td>\n",
       "    </tr>\n",
       "    <tr>\n",
       "      <th>0</th>\n",
       "      <td>0</td>\n",
       "      <td>0.000000e+00</td>\n",
       "    </tr>\n",
       "  </tbody>\n",
       "</table>\n",
       "</div>"
      ],
      "text/plain": [
       "   Index           Gap\n",
       "2      2  4.440892e-16\n",
       "9      9  2.220446e-16\n",
       "3      3  2.220446e-16\n",
       "7      7  0.000000e+00\n",
       "6      6  0.000000e+00\n",
       "5      5  0.000000e+00\n",
       "4      4  0.000000e+00\n",
       "8      8  0.000000e+00\n",
       "1      1  0.000000e+00\n",
       "0      0  0.000000e+00"
      ]
     },
     "execution_count": 20,
     "metadata": {},
     "output_type": "execute_result"
    }
   ],
   "source": [
    "eigen_gap_df[eigen_gap_df['Index'] < 10]"
   ]
  },
  {
   "cell_type": "code",
   "execution_count": 21,
   "id": "f556984f-95bf-477f-a388-31c54d15a814",
   "metadata": {},
   "outputs": [],
   "source": [
    "# Eigen features for k\n",
    "k = 7\n",
    "X = v[:, -1*k:]\n",
    "# Y = X / row_sums[:, np.newaxis]"
   ]
  },
  {
   "cell_type": "markdown",
   "id": "b4d12349-9aa1-47bb-93f8-77e6443b51b1",
   "metadata": {},
   "source": [
    "## Clustering"
   ]
  },
  {
   "cell_type": "code",
   "execution_count": 22,
   "id": "06d822a4-d9f2-4925-bb94-fc2764c435f3",
   "metadata": {},
   "outputs": [
    {
     "data": {
      "text/html": [
       "<div>\n",
       "<style scoped>\n",
       "    .dataframe tbody tr th:only-of-type {\n",
       "        vertical-align: middle;\n",
       "    }\n",
       "\n",
       "    .dataframe tbody tr th {\n",
       "        vertical-align: top;\n",
       "    }\n",
       "\n",
       "    .dataframe thead th {\n",
       "        text-align: right;\n",
       "    }\n",
       "</style>\n",
       "<table border=\"1\" class=\"dataframe\">\n",
       "  <thead>\n",
       "    <tr style=\"text-align: right;\">\n",
       "      <th></th>\n",
       "      <th>0</th>\n",
       "      <th>1</th>\n",
       "      <th>2</th>\n",
       "      <th>3</th>\n",
       "      <th>4</th>\n",
       "      <th>5</th>\n",
       "      <th>6</th>\n",
       "    </tr>\n",
       "  </thead>\n",
       "  <tbody>\n",
       "    <tr>\n",
       "      <th>0</th>\n",
       "      <td>0.000000e+00</td>\n",
       "      <td>0.000000e+00</td>\n",
       "      <td>0.000000e+00</td>\n",
       "      <td>0.000000e+00</td>\n",
       "      <td>0.000000e+00</td>\n",
       "      <td>0.000000e+00</td>\n",
       "      <td>0.000000e+00</td>\n",
       "    </tr>\n",
       "    <tr>\n",
       "      <th>1</th>\n",
       "      <td>-2.133764e-33</td>\n",
       "      <td>1.417362e-17</td>\n",
       "      <td>6.533112e-34</td>\n",
       "      <td>9.144130e-18</td>\n",
       "      <td>-4.541438e-19</td>\n",
       "      <td>-3.125725e-19</td>\n",
       "      <td>1.047554e-17</td>\n",
       "    </tr>\n",
       "    <tr>\n",
       "      <th>2</th>\n",
       "      <td>3.535851e-33</td>\n",
       "      <td>2.310745e-17</td>\n",
       "      <td>1.232811e-33</td>\n",
       "      <td>6.517973e-18</td>\n",
       "      <td>-3.543566e-19</td>\n",
       "      <td>-4.367751e-18</td>\n",
       "      <td>1.177857e-17</td>\n",
       "    </tr>\n",
       "    <tr>\n",
       "      <th>3</th>\n",
       "      <td>-9.502600e-34</td>\n",
       "      <td>-3.418953e-17</td>\n",
       "      <td>-1.723524e-33</td>\n",
       "      <td>-1.556441e-17</td>\n",
       "      <td>7.607631e-19</td>\n",
       "      <td>4.098308e-18</td>\n",
       "      <td>-2.067043e-17</td>\n",
       "    </tr>\n",
       "    <tr>\n",
       "      <th>4</th>\n",
       "      <td>6.334050e-33</td>\n",
       "      <td>-5.628194e-18</td>\n",
       "      <td>5.593034e-34</td>\n",
       "      <td>3.575664e-18</td>\n",
       "      <td>-1.562567e-18</td>\n",
       "      <td>2.470737e-18</td>\n",
       "      <td>-4.925657e-17</td>\n",
       "    </tr>\n",
       "    <tr>\n",
       "      <th>...</th>\n",
       "      <td>...</td>\n",
       "      <td>...</td>\n",
       "      <td>...</td>\n",
       "      <td>...</td>\n",
       "      <td>...</td>\n",
       "      <td>...</td>\n",
       "      <td>...</td>\n",
       "    </tr>\n",
       "    <tr>\n",
       "      <th>2703</th>\n",
       "      <td>9.858354e-33</td>\n",
       "      <td>-3.472412e-18</td>\n",
       "      <td>2.016509e-32</td>\n",
       "      <td>8.914852e-17</td>\n",
       "      <td>-8.971336e-18</td>\n",
       "      <td>-1.104160e-18</td>\n",
       "      <td>1.626136e-16</td>\n",
       "    </tr>\n",
       "    <tr>\n",
       "      <th>2704</th>\n",
       "      <td>0.000000e+00</td>\n",
       "      <td>0.000000e+00</td>\n",
       "      <td>0.000000e+00</td>\n",
       "      <td>0.000000e+00</td>\n",
       "      <td>0.000000e+00</td>\n",
       "      <td>0.000000e+00</td>\n",
       "      <td>0.000000e+00</td>\n",
       "    </tr>\n",
       "    <tr>\n",
       "      <th>2705</th>\n",
       "      <td>0.000000e+00</td>\n",
       "      <td>0.000000e+00</td>\n",
       "      <td>0.000000e+00</td>\n",
       "      <td>0.000000e+00</td>\n",
       "      <td>0.000000e+00</td>\n",
       "      <td>0.000000e+00</td>\n",
       "      <td>0.000000e+00</td>\n",
       "    </tr>\n",
       "    <tr>\n",
       "      <th>2706</th>\n",
       "      <td>-2.208751e-18</td>\n",
       "      <td>-2.666571e-17</td>\n",
       "      <td>3.017150e-18</td>\n",
       "      <td>-5.028665e-17</td>\n",
       "      <td>-9.730688e-18</td>\n",
       "      <td>1.771378e-18</td>\n",
       "      <td>3.618480e-17</td>\n",
       "    </tr>\n",
       "    <tr>\n",
       "      <th>2707</th>\n",
       "      <td>7.326466e-18</td>\n",
       "      <td>-2.373810e-19</td>\n",
       "      <td>1.360471e-17</td>\n",
       "      <td>1.011696e-16</td>\n",
       "      <td>-7.621311e-20</td>\n",
       "      <td>-1.460729e-17</td>\n",
       "      <td>-3.708522e-18</td>\n",
       "    </tr>\n",
       "  </tbody>\n",
       "</table>\n",
       "<p>2708 rows × 7 columns</p>\n",
       "</div>"
      ],
      "text/plain": [
       "                 0             1             2             3             4  \\\n",
       "0     0.000000e+00  0.000000e+00  0.000000e+00  0.000000e+00  0.000000e+00   \n",
       "1    -2.133764e-33  1.417362e-17  6.533112e-34  9.144130e-18 -4.541438e-19   \n",
       "2     3.535851e-33  2.310745e-17  1.232811e-33  6.517973e-18 -3.543566e-19   \n",
       "3    -9.502600e-34 -3.418953e-17 -1.723524e-33 -1.556441e-17  7.607631e-19   \n",
       "4     6.334050e-33 -5.628194e-18  5.593034e-34  3.575664e-18 -1.562567e-18   \n",
       "...            ...           ...           ...           ...           ...   \n",
       "2703  9.858354e-33 -3.472412e-18  2.016509e-32  8.914852e-17 -8.971336e-18   \n",
       "2704  0.000000e+00  0.000000e+00  0.000000e+00  0.000000e+00  0.000000e+00   \n",
       "2705  0.000000e+00  0.000000e+00  0.000000e+00  0.000000e+00  0.000000e+00   \n",
       "2706 -2.208751e-18 -2.666571e-17  3.017150e-18 -5.028665e-17 -9.730688e-18   \n",
       "2707  7.326466e-18 -2.373810e-19  1.360471e-17  1.011696e-16 -7.621311e-20   \n",
       "\n",
       "                 5             6  \n",
       "0     0.000000e+00  0.000000e+00  \n",
       "1    -3.125725e-19  1.047554e-17  \n",
       "2    -4.367751e-18  1.177857e-17  \n",
       "3     4.098308e-18 -2.067043e-17  \n",
       "4     2.470737e-18 -4.925657e-17  \n",
       "...            ...           ...  \n",
       "2703 -1.104160e-18  1.626136e-16  \n",
       "2704  0.000000e+00  0.000000e+00  \n",
       "2705  0.000000e+00  0.000000e+00  \n",
       "2706  1.771378e-18  3.618480e-17  \n",
       "2707 -1.460729e-17 -3.708522e-18  \n",
       "\n",
       "[2708 rows x 7 columns]"
      ]
     },
     "execution_count": 22,
     "metadata": {},
     "output_type": "execute_result"
    }
   ],
   "source": [
    "cluster_df = pd.DataFrame(X)\n",
    "cluster_df"
   ]
  },
  {
   "cell_type": "code",
   "execution_count": 28,
   "id": "0b916a16-42d0-4ae0-b174-aa5e4961f6e6",
   "metadata": {},
   "outputs": [
    {
     "name": "stdout",
     "output_type": "stream",
     "text": [
      "0.972430808217798 -0.00020896767058245847\n"
     ]
    },
    {
     "name": "stderr",
     "output_type": "stream",
     "text": [
      "C:\\Users\\mondal\\AppData\\Local\\Programs\\Python\\Python311\\Lib\\site-packages\\sklearn\\cluster\\_kmeans.py:1412: FutureWarning: The default value of `n_init` will change from 10 to 'auto' in 1.4. Set the value of `n_init` explicitly to suppress the warning\n",
      "  super()._check_params_vs_input(X, default_n_init=10)\n"
     ]
    }
   ],
   "source": [
    "clustering = KMeans(n_clusters = 7)\n",
    "clustering.fit(cluster_df)\n",
    "\n",
    "cluster_labels = clustering.labels_\n",
    "print(silhouette_score(cluster_df, cluster_labels),adjusted_rand_score(labels, cluster_labels))"
   ]
  },
  {
   "cell_type": "code",
   "execution_count": null,
   "id": "2b9a431a-c265-434a-86ea-6a6c61e93f34",
   "metadata": {},
   "outputs": [],
   "source": []
  },
  {
   "cell_type": "code",
   "execution_count": null,
   "id": "3f7f5529-c276-406a-bea1-dbb28d651886",
   "metadata": {},
   "outputs": [],
   "source": []
  },
  {
   "cell_type": "code",
   "execution_count": null,
   "id": "aff0319a-1591-4a18-8ab8-f262ff6c3f78",
   "metadata": {},
   "outputs": [],
   "source": []
  },
  {
   "cell_type": "code",
   "execution_count": null,
   "id": "8255a24a-f25b-4f70-90b2-01f62e4b4a50",
   "metadata": {},
   "outputs": [],
   "source": []
  }
 ],
 "metadata": {
  "kernelspec": {
   "display_name": "Python 3 (ipykernel)",
   "language": "python",
   "name": "python3"
  },
  "language_info": {
   "codemirror_mode": {
    "name": "ipython",
    "version": 3
   },
   "file_extension": ".py",
   "mimetype": "text/x-python",
   "name": "python",
   "nbconvert_exporter": "python",
   "pygments_lexer": "ipython3",
   "version": "3.11.3"
  }
 },
 "nbformat": 4,
 "nbformat_minor": 5
}
