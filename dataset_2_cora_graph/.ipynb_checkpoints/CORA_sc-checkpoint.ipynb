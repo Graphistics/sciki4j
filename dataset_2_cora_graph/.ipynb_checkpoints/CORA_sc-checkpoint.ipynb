{
 "cells": [
  {
   "cell_type": "code",
   "execution_count": 1,
   "id": "22259c2b-2871-430c-bc2d-37fce32324e1",
   "metadata": {},
   "outputs": [],
   "source": [
    "# %pip install pandas networkx numpy os torch torch_geometric node2vec scipy matplotlib"
   ]
  },
  {
   "cell_type": "code",
   "execution_count": 8,
   "id": "05ba8c9c-545e-4a9d-abd0-84d6af08d9ec",
   "metadata": {},
   "outputs": [],
   "source": [
    "import pandas as pd\n",
    "import networkx as nx\n",
    "import numpy as np\n",
    "import os.path as osp\n",
    "\n",
    "# import torch\n",
    "from torch_geometric.datasets import Planetoid\n",
    "from node2vec import Node2Vec\n",
    "from torch_geometric.utils import to_dense_adj\n",
    "\n",
    "from scipy.spatial.distance import pdist\n",
    "from scipy import linalg\n",
    "\n",
    "import matplotlib.pyplot as plt\n",
    "\n",
    "from sklearn.cluster import KMeans\n",
    "from sklearn.metrics import silhouette_score\n",
    "from sklearn.metrics import adjusted_rand_score\n",
    "from sklearn.cluster import SpectralClustering"
   ]
  },
  {
   "cell_type": "markdown",
   "id": "8512f9a6-a139-477d-8e16-62a8aac37475",
   "metadata": {},
   "source": [
    "## Data Import"
   ]
  },
  {
   "cell_type": "code",
   "execution_count": 2,
   "id": "4dd6cb48-6308-4653-806e-6bebe0fbb65a",
   "metadata": {},
   "outputs": [
    {
     "name": "stderr",
     "output_type": "stream",
     "text": [
      "Downloading https://github.com/kimiyoung/planetoid/raw/master/data/ind.cora.x\n",
      "Downloading https://github.com/kimiyoung/planetoid/raw/master/data/ind.cora.tx\n",
      "Downloading https://github.com/kimiyoung/planetoid/raw/master/data/ind.cora.allx\n",
      "Downloading https://github.com/kimiyoung/planetoid/raw/master/data/ind.cora.y\n",
      "Downloading https://github.com/kimiyoung/planetoid/raw/master/data/ind.cora.ty\n",
      "Downloading https://github.com/kimiyoung/planetoid/raw/master/data/ind.cora.ally\n",
      "Downloading https://github.com/kimiyoung/planetoid/raw/master/data/ind.cora.graph\n",
      "Downloading https://github.com/kimiyoung/planetoid/raw/master/data/ind.cora.test.index\n",
      "Processing...\n",
      "Done!\n"
     ]
    }
   ],
   "source": [
    "dataset = 'Cora'\n",
    "path = osp.join('.', 'data', dataset)\n",
    "dataset = Planetoid(path, dataset)  # dowload or load the Cora dataset\n",
    "data = dataset[0]"
   ]
  },
  {
   "cell_type": "code",
   "execution_count": 3,
   "id": "96ffbb42-a7af-4001-b896-ce5bb43ae252",
   "metadata": {},
   "outputs": [
    {
     "data": {
      "text/plain": [
       "<bound method BaseData.node_attrs of Data(x=[2708, 1433], edge_index=[2, 10556], y=[2708], train_mask=[2708], val_mask=[2708], test_mask=[2708])>"
      ]
     },
     "execution_count": 3,
     "metadata": {},
     "output_type": "execute_result"
    }
   ],
   "source": [
    "data.node_attrs"
   ]
  },
  {
   "cell_type": "code",
   "execution_count": 4,
   "id": "4016f7fd-652c-480e-bcf1-4da0a8b06583",
   "metadata": {},
   "outputs": [],
   "source": [
    "labels = data.y.tolist()"
   ]
  },
  {
   "cell_type": "code",
   "execution_count": 5,
   "id": "15789c72-5374-46fe-92f5-5da337d40676",
   "metadata": {},
   "outputs": [
    {
     "data": {
      "text/plain": [
       "{0, 1, 2, 3, 4, 5, 6}"
      ]
     },
     "execution_count": 5,
     "metadata": {},
     "output_type": "execute_result"
    }
   ],
   "source": [
    "set(labels)"
   ]
  },
  {
   "cell_type": "markdown",
   "id": "83ef83cd-8df2-4f7d-8ba2-302be7482bad",
   "metadata": {},
   "source": [
    "# Experiments"
   ]
  },
  {
   "cell_type": "code",
   "execution_count": 30,
   "id": "5863a972-9c34-4dfb-a136-d75c5d33b508",
   "metadata": {},
   "outputs": [],
   "source": [
    "def spectral_clustering_on_graph(torch_data, labels, laplacian, number_of_clusters):\n",
    "\n",
    "    adjacency_matrix = to_dense_adj(torch_data.edge_index).squeeze()\n",
    "    # Convert the PyTorch tensor to a NumPy array\n",
    "    adjacency_matrix = adjacency_matrix.numpy()\n",
    "\n",
    "    dimension = len(adjacency_matrix)\n",
    "\n",
    "    # Calculate degree matrix\n",
    "    degree_matrix = np.sum(adjacency_matrix, axis=0) * np.eye(dimension)\n",
    "    \n",
    "\n",
    "    if laplacian == \"sym\":\n",
    "\n",
    "        # Normalized Symmetric laplacian matrix\n",
    "        d_half = linalg.fractional_matrix_power(degree_matrix, -0.5)\n",
    "        laplacian_matrix_normalized = np.matmul(np.matmul(d_half, adjacency_matrix), d_half)\n",
    "\n",
    "    if laplacian == \"rw\":\n",
    "\n",
    "        # Normalized Random Walk laplacian matrix\n",
    "        d_inverse = linalg.fractional_matrix_power(degree_matrix, -1)\n",
    "        laplacian_matrix_normalized = np.matmul(d_inverse, adjacency_matrix)\n",
    "\n",
    "\n",
    "    # Calculating eigenvalues and eigenvectors\n",
    "    e, v = np.linalg.eigh(laplacian_matrix_normalized)\n",
    "\n",
    "    # Eigen features for k\n",
    "    k = number_of_clusters\n",
    "    X = v[:, -1*k:]\n",
    "\n",
    "    # Kmeans\n",
    "    clustering = KMeans(n_clusters = number_of_clusters)\n",
    "    clustering.fit(X)\n",
    "    \n",
    "    cluster_labels = clustering.labels_\n",
    "    \n",
    "    return silhouette_score(adjacency_matrix, cluster_labels, metric = \"precomputed\"), adjusted_rand_score(labels, cluster_labels)"
   ]
  },
  {
   "cell_type": "code",
   "execution_count": 31,
   "id": "4475b74d-25fa-48d5-b60c-1dd458bdd164",
   "metadata": {},
   "outputs": [
    {
     "name": "stderr",
     "output_type": "stream",
     "text": [
      "C:\\Users\\mondal\\AppData\\Local\\Programs\\Python\\Python311\\Lib\\site-packages\\sklearn\\cluster\\_kmeans.py:1412: FutureWarning: The default value of `n_init` will change from 10 to 'auto' in 1.4. Set the value of `n_init` explicitly to suppress the warning\n",
      "  super()._check_params_vs_input(X, default_n_init=10)\n",
      "C:\\Users\\mondal\\AppData\\Local\\Programs\\Python\\Python311\\Lib\\site-packages\\sklearn\\cluster\\_kmeans.py:1412: FutureWarning: The default value of `n_init` will change from 10 to 'auto' in 1.4. Set the value of `n_init` explicitly to suppress the warning\n",
      "  super()._check_params_vs_input(X, default_n_init=10)\n"
     ]
    }
   ],
   "source": [
    "laplacian_methods = [\"sym\", \"rw\"]\n",
    "\n",
    "silhouette_scores = []\n",
    "adjusted_rand_scores = []\n",
    "laplacian = []\n",
    "\n",
    "\n",
    "for laplace in laplacian_methods:\n",
    "\n",
    "    laplacian.append(laplace)\n",
    "\n",
    "    si, ar = spectral_clustering_on_graph(data, labels, laplace, 7)\n",
    "\n",
    "    silhouette_scores.append(si)\n",
    "    adjusted_rand_scores.append(ar)"
   ]
  },
  {
   "cell_type": "code",
   "execution_count": 32,
   "id": "d7241348-3507-41e6-a7c8-43257e085bd3",
   "metadata": {},
   "outputs": [
    {
     "data": {
      "text/html": [
       "<div>\n",
       "<style scoped>\n",
       "    .dataframe tbody tr th:only-of-type {\n",
       "        vertical-align: middle;\n",
       "    }\n",
       "\n",
       "    .dataframe tbody tr th {\n",
       "        vertical-align: top;\n",
       "    }\n",
       "\n",
       "    .dataframe thead th {\n",
       "        text-align: right;\n",
       "    }\n",
       "</style>\n",
       "<table border=\"1\" class=\"dataframe\">\n",
       "  <thead>\n",
       "    <tr style=\"text-align: right;\">\n",
       "      <th></th>\n",
       "      <th>laplacian</th>\n",
       "      <th>silhouette</th>\n",
       "      <th>adjusted_rand</th>\n",
       "    </tr>\n",
       "  </thead>\n",
       "  <tbody>\n",
       "    <tr>\n",
       "      <th>0</th>\n",
       "      <td>sym</td>\n",
       "      <td>-0.999631</td>\n",
       "      <td>-0.006582</td>\n",
       "    </tr>\n",
       "    <tr>\n",
       "      <th>1</th>\n",
       "      <td>rw</td>\n",
       "      <td>-0.989291</td>\n",
       "      <td>0.009839</td>\n",
       "    </tr>\n",
       "  </tbody>\n",
       "</table>\n",
       "</div>"
      ],
      "text/plain": [
       "  laplacian  silhouette  adjusted_rand\n",
       "0       sym   -0.999631      -0.006582\n",
       "1        rw   -0.989291       0.009839"
      ]
     },
     "execution_count": 32,
     "metadata": {},
     "output_type": "execute_result"
    }
   ],
   "source": [
    "experiment_cora = pd.DataFrame(list(zip(laplacian,silhouette_scores,adjusted_rand_scores)), \n",
    "             columns= [\"laplacian\", \"silhouette\", \"adjusted_rand\"])\n",
    "\n",
    "experiment_cora"
   ]
  },
  {
   "cell_type": "code",
   "execution_count": 36,
   "id": "effdc001-f506-4216-969a-d10c57a32562",
   "metadata": {},
   "outputs": [
    {
     "data": {
      "image/png": "[encoded data removed]",
      "text/plain": [
       "<Figure size 800x400 with 2 Axes>"
      ]
     },
     "metadata": {},
     "output_type": "display_data"
    }
   ],
   "source": [
    "# Create a figure and axis\n",
    "fig, ax = plt.subplots(figsize=(8, 4))\n",
    "\n",
    "# Plot time on the first y-axis\n",
    "ax.plot(experiment_cora['laplacian'], experiment_cora['silhouette'], marker='o', color='b', label='Time (seconds)')\n",
    "\n",
    "# Create a second y-axis\n",
    "ax2 = ax.twinx()\n",
    "\n",
    "# Plot memory on the second y-axis\n",
    "ax2.plot(experiment_cora['laplacian'], experiment_cora['adjusted_rand'], marker='x', color='r', label='Memory (KB)')\n",
    "\n",
    "# Set labels and legends\n",
    "ax.set_xlabel('laplacian')\n",
    "ax.set_ylabel('silhouette', color='b')\n",
    "ax2.set_ylabel('adjusted_rand', color='r')\n",
    "\n",
    "ax.set_ylim(-1.1, 1)\n",
    "ax2.set_ylim(-1.1, 1)  # Adjust the multiplier as needed\n",
    "\n",
    "\n",
    "# Add legends\n",
    "# ax.legend(loc='upper left')\n",
    "# ax2.legend(loc='upper right')\n",
    "\n",
    "# Show the plot\n",
    "plt.title('experiment_cora')\n",
    "plt.show()"
   ]
  },
  {
   "cell_type": "markdown",
   "id": "64029acd-34ce-4b4a-bec9-65bbaddb573d",
   "metadata": {},
   "source": [
    "# Breakdown"
   ]
  },
  {
   "cell_type": "markdown",
   "id": "4bbc4329-ab98-42b7-a00f-5c1405115ae6",
   "metadata": {},
   "source": [
    "## Generate Adjacency matrix"
   ]
  },
  {
   "cell_type": "code",
   "execution_count": 12,
   "id": "1ac19c40-fbc6-41af-b57a-c1231225c67f",
   "metadata": {},
   "outputs": [],
   "source": [
    "adjacency_matrix = to_dense_adj(data.edge_index).squeeze()\n",
    "# Convert the PyTorch tensor to a NumPy array\n",
    "adjacency_matrix = adjacency_matrix.numpy()"
   ]
  },
  {
   "cell_type": "code",
   "execution_count": 13,
   "id": "cd4f4e71-f23f-4265-aa61-d9bb151e8343",
   "metadata": {},
   "outputs": [
    {
     "data": {
      "text/plain": [
       "array([[0., 0., 0., ..., 0., 0., 0.],\n",
       "       [0., 0., 1., ..., 0., 0., 0.],\n",
       "       [0., 1., 0., ..., 0., 0., 0.],\n",
       "       ...,\n",
       "       [0., 0., 0., ..., 0., 0., 0.],\n",
       "       [0., 0., 0., ..., 0., 0., 1.],\n",
       "       [0., 0., 0., ..., 0., 1., 0.]], dtype=float32)"
      ]
     },
     "execution_count": 13,
     "metadata": {},
     "output_type": "execute_result"
    }
   ],
   "source": [
    "adjacency_matrix"
   ]
  },
  {
   "cell_type": "markdown",
   "id": "38a2985e-a296-4067-8665-fc48544169ba",
   "metadata": {},
   "source": [
    "## Eigen Decomposition"
   ]
  },
  {
   "cell_type": "code",
   "execution_count": 14,
   "id": "69b3b482-f567-4f95-a4bd-93828a996068",
   "metadata": {},
   "outputs": [],
   "source": [
    "# Calculate degree matrix\n",
    "\n",
    "dimension = len(adjacency_matrix)\n",
    "\n",
    "degree_matrix = np.sum(adjacency_matrix, axis=0) * np.eye(dimension)"
   ]
  },
  {
   "cell_type": "code",
   "execution_count": 15,
   "id": "944d7bb8-581e-486a-8bba-36c000d46bdb",
   "metadata": {},
   "outputs": [
    {
     "data": {
      "text/plain": [
       "array([[3., 0., 0., ..., 0., 0., 0.],\n",
       "       [0., 3., 0., ..., 0., 0., 0.],\n",
       "       [0., 0., 5., ..., 0., 0., 0.],\n",
       "       ...,\n",
       "       [0., 0., 0., ..., 1., 0., 0.],\n",
       "       [0., 0., 0., ..., 0., 4., 0.],\n",
       "       [0., 0., 0., ..., 0., 0., 4.]])"
      ]
     },
     "execution_count": 15,
     "metadata": {},
     "output_type": "execute_result"
    }
   ],
   "source": [
    "degree_matrix"
   ]
  },
  {
   "cell_type": "code",
   "execution_count": 16,
   "id": "a612309f-f421-464c-97a1-9cdedcb59012",
   "metadata": {},
   "outputs": [],
   "source": [
    "# Normalized laplacian matrix\n",
    "d_half = linalg.fractional_matrix_power(degree_matrix, -0.5)\n",
    "laplacian_matrix = np.matmul(np.matmul(d_half, adjacency_matrix), d_half)\n",
    "\n",
    "# Random walk Laplacian matrix\n",
    "# d_inverse = linalg.fractional_matrix_power(degree_matrix, -1)\n",
    "# laplacian_matrix = np.matmul(d_inverse, adjacency_matrix)"
   ]
  },
  {
   "cell_type": "code",
   "execution_count": 17,
   "id": "78db8961-1608-4570-8f57-771c3fda647f",
   "metadata": {},
   "outputs": [
    {
     "data": {
      "text/plain": [
       "array([[0.        , 0.        , 0.        , ..., 0.        , 0.        ,\n",
       "        0.        ],\n",
       "       [0.        , 0.        , 0.25819889, ..., 0.        , 0.        ,\n",
       "        0.        ],\n",
       "       [0.        , 0.25819889, 0.        , ..., 0.        , 0.        ,\n",
       "        0.        ],\n",
       "       ...,\n",
       "       [0.        , 0.        , 0.        , ..., 0.        , 0.        ,\n",
       "        0.        ],\n",
       "       [0.        , 0.        , 0.        , ..., 0.        , 0.        ,\n",
       "        0.25      ],\n",
       "       [0.        , 0.        , 0.        , ..., 0.        , 0.25      ,\n",
       "        0.        ]])"
      ]
     },
     "execution_count": 17,
     "metadata": {},
     "output_type": "execute_result"
    }
   ],
   "source": [
    "laplacian_matrix"
   ]
  },
  {
   "cell_type": "code",
   "execution_count": 18,
   "id": "093bc977-2d1c-41d9-b70f-5cf747402bef",
   "metadata": {},
   "outputs": [],
   "source": [
    "# Calculating eigenvalues and eigenvectors\n",
    "e, v = np.linalg.eigh(laplacian_matrix)"
   ]
  },
  {
   "cell_type": "code",
   "execution_count": 19,
   "id": "a3d39433-6134-463a-8d33-b1d1210c2633",
   "metadata": {},
   "outputs": [
    {
     "data": {
      "text/plain": [
       "array([-1., -1., -1., ...,  1.,  1.,  1.])"
      ]
     },
     "execution_count": 19,
     "metadata": {},
     "output_type": "execute_result"
    }
   ],
   "source": [
    "# Eigenvalues\n",
    "e"
   ]
  },
  {
   "cell_type": "code",
   "execution_count": 20,
   "id": "d86d9c95-85be-4aa4-a9e4-8ad4dab607ff",
   "metadata": {},
   "outputs": [
    {
     "data": {
      "text/plain": [
       "array([[ 0.00000000e+00,  0.00000000e+00, -0.00000000e+00, ...,\n",
       "         0.00000000e+00,  0.00000000e+00,  0.00000000e+00],\n",
       "       [-1.45347832e-17, -2.51333929e-17, -6.86975536e-17, ...,\n",
       "        -8.12611802e-18,  1.58679826e-17,  2.69104273e-18],\n",
       "       [ 9.18449118e-18, -9.50974192e-18,  1.41847777e-17, ...,\n",
       "         3.55278110e-17, -2.25530472e-17, -6.18393658e-18],\n",
       "       ...,\n",
       "       [-2.19416017e-01,  1.23543662e-03, -1.67230457e-01, ...,\n",
       "         1.01358826e-01, -8.04528638e-02,  1.77770555e-01],\n",
       "       [ 4.04407410e-17,  1.07336015e-17, -3.11166024e-17, ...,\n",
       "        -1.04083409e-17,  6.50521303e-18, -8.23993651e-18],\n",
       "       [ 2.16840434e-18, -1.49077799e-17,  1.82145965e-17, ...,\n",
       "         4.29344060e-17,  1.08420217e-18, -4.33680869e-18]])"
      ]
     },
     "execution_count": 20,
     "metadata": {},
     "output_type": "execute_result"
    }
   ],
   "source": [
    "# Eigenvectors\n",
    "v"
   ]
  },
  {
   "cell_type": "code",
   "execution_count": 17,
   "id": "81a0d248-489a-4b4b-8892-0f8223cdaa4f",
   "metadata": {},
   "outputs": [
    {
     "data": {
      "image/png": "[encoded data removed]",
      "text/plain": [
       "<Figure size 2000x1000 with 1 Axes>"
      ]
     },
     "metadata": {},
     "output_type": "display_data"
    }
   ],
   "source": [
    "# Plotting the eigenvalues\n",
    "plt.rcParams[\"figure.figsize\"] = (20,10)\n",
    "plt.scatter(range(len(e)), e);\n",
    "plt.xticks(range(0,len(e)));"
   ]
  },
  {
   "cell_type": "code",
   "execution_count": 18,
   "id": "873019fe-cd92-4c9c-af64-28feb2d12132",
   "metadata": {},
   "outputs": [],
   "source": [
    "# Gaps in eigenvalues\n",
    "gaps = np.diff(e)\n",
    "eigen_gap_df = pd.DataFrame({'Index': range(len(e) - 1), 'Gap': gaps})\n",
    "eigen_gap_df.sort_values(by='Gap', ascending=False, inplace=True)"
   ]
  },
  {
   "cell_type": "code",
   "execution_count": 19,
   "id": "3165b1d4-af21-47db-9269-1d009369c990",
   "metadata": {},
   "outputs": [
    {
     "data": {
      "text/html": [
       "<div>\n",
       "<style scoped>\n",
       "    .dataframe tbody tr th:only-of-type {\n",
       "        vertical-align: middle;\n",
       "    }\n",
       "\n",
       "    .dataframe tbody tr th {\n",
       "        vertical-align: top;\n",
       "    }\n",
       "\n",
       "    .dataframe thead th {\n",
       "        text-align: right;\n",
       "    }\n",
       "</style>\n",
       "<table border=\"1\" class=\"dataframe\">\n",
       "  <thead>\n",
       "    <tr style=\"text-align: right;\">\n",
       "      <th></th>\n",
       "      <th>Index</th>\n",
       "      <th>Gap</th>\n",
       "    </tr>\n",
       "  </thead>\n",
       "  <tbody>\n",
       "    <tr>\n",
       "      <th>61</th>\n",
       "      <td>61</td>\n",
       "      <td>0.029234</td>\n",
       "    </tr>\n",
       "    <tr>\n",
       "      <th>67</th>\n",
       "      <td>67</td>\n",
       "      <td>0.019980</td>\n",
       "    </tr>\n",
       "    <tr>\n",
       "      <th>63</th>\n",
       "      <td>63</td>\n",
       "      <td>0.012755</td>\n",
       "    </tr>\n",
       "    <tr>\n",
       "      <th>86</th>\n",
       "      <td>86</td>\n",
       "      <td>0.009814</td>\n",
       "    </tr>\n",
       "    <tr>\n",
       "      <th>2626</th>\n",
       "      <td>2626</td>\n",
       "      <td>0.008880</td>\n",
       "    </tr>\n",
       "    <tr>\n",
       "      <th>...</th>\n",
       "      <td>...</td>\n",
       "      <td>...</td>\n",
       "    </tr>\n",
       "    <tr>\n",
       "      <th>46</th>\n",
       "      <td>46</td>\n",
       "      <td>0.000000</td>\n",
       "    </tr>\n",
       "    <tr>\n",
       "      <th>45</th>\n",
       "      <td>45</td>\n",
       "      <td>0.000000</td>\n",
       "    </tr>\n",
       "    <tr>\n",
       "      <th>44</th>\n",
       "      <td>44</td>\n",
       "      <td>0.000000</td>\n",
       "    </tr>\n",
       "    <tr>\n",
       "      <th>42</th>\n",
       "      <td>42</td>\n",
       "      <td>0.000000</td>\n",
       "    </tr>\n",
       "    <tr>\n",
       "      <th>0</th>\n",
       "      <td>0</td>\n",
       "      <td>0.000000</td>\n",
       "    </tr>\n",
       "  </tbody>\n",
       "</table>\n",
       "<p>2707 rows × 2 columns</p>\n",
       "</div>"
      ],
      "text/plain": [
       "      Index       Gap\n",
       "61       61  0.029234\n",
       "67       67  0.019980\n",
       "63       63  0.012755\n",
       "86       86  0.009814\n",
       "2626   2626  0.008880\n",
       "...     ...       ...\n",
       "46       46  0.000000\n",
       "45       45  0.000000\n",
       "44       44  0.000000\n",
       "42       42  0.000000\n",
       "0         0  0.000000\n",
       "\n",
       "[2707 rows x 2 columns]"
      ]
     },
     "execution_count": 19,
     "metadata": {},
     "output_type": "execute_result"
    }
   ],
   "source": [
    "eigen_gap_df"
   ]
  },
  {
   "cell_type": "code",
   "execution_count": 20,
   "id": "379c4e5e-fdda-4c07-87f7-955d7b84ceb0",
   "metadata": {},
   "outputs": [
    {
     "data": {
      "text/html": [
       "<div>\n",
       "<style scoped>\n",
       "    .dataframe tbody tr th:only-of-type {\n",
       "        vertical-align: middle;\n",
       "    }\n",
       "\n",
       "    .dataframe tbody tr th {\n",
       "        vertical-align: top;\n",
       "    }\n",
       "\n",
       "    .dataframe thead th {\n",
       "        text-align: right;\n",
       "    }\n",
       "</style>\n",
       "<table border=\"1\" class=\"dataframe\">\n",
       "  <thead>\n",
       "    <tr style=\"text-align: right;\">\n",
       "      <th></th>\n",
       "      <th>Index</th>\n",
       "      <th>Gap</th>\n",
       "    </tr>\n",
       "  </thead>\n",
       "  <tbody>\n",
       "    <tr>\n",
       "      <th>2</th>\n",
       "      <td>2</td>\n",
       "      <td>4.440892e-16</td>\n",
       "    </tr>\n",
       "    <tr>\n",
       "      <th>9</th>\n",
       "      <td>9</td>\n",
       "      <td>2.220446e-16</td>\n",
       "    </tr>\n",
       "    <tr>\n",
       "      <th>3</th>\n",
       "      <td>3</td>\n",
       "      <td>2.220446e-16</td>\n",
       "    </tr>\n",
       "    <tr>\n",
       "      <th>7</th>\n",
       "      <td>7</td>\n",
       "      <td>0.000000e+00</td>\n",
       "    </tr>\n",
       "    <tr>\n",
       "      <th>6</th>\n",
       "      <td>6</td>\n",
       "      <td>0.000000e+00</td>\n",
       "    </tr>\n",
       "    <tr>\n",
       "      <th>5</th>\n",
       "      <td>5</td>\n",
       "      <td>0.000000e+00</td>\n",
       "    </tr>\n",
       "    <tr>\n",
       "      <th>4</th>\n",
       "      <td>4</td>\n",
       "      <td>0.000000e+00</td>\n",
       "    </tr>\n",
       "    <tr>\n",
       "      <th>8</th>\n",
       "      <td>8</td>\n",
       "      <td>0.000000e+00</td>\n",
       "    </tr>\n",
       "    <tr>\n",
       "      <th>1</th>\n",
       "      <td>1</td>\n",
       "      <td>0.000000e+00</td>\n",
       "    </tr>\n",
       "    <tr>\n",
       "      <th>0</th>\n",
       "      <td>0</td>\n",
       "      <td>0.000000e+00</td>\n",
       "    </tr>\n",
       "  </tbody>\n",
       "</table>\n",
       "</div>"
      ],
      "text/plain": [
       "   Index           Gap\n",
       "2      2  4.440892e-16\n",
       "9      9  2.220446e-16\n",
       "3      3  2.220446e-16\n",
       "7      7  0.000000e+00\n",
       "6      6  0.000000e+00\n",
       "5      5  0.000000e+00\n",
       "4      4  0.000000e+00\n",
       "8      8  0.000000e+00\n",
       "1      1  0.000000e+00\n",
       "0      0  0.000000e+00"
      ]
     },
     "execution_count": 20,
     "metadata": {},
     "output_type": "execute_result"
    }
   ],
   "source": [
    "eigen_gap_df[eigen_gap_df['Index'] < 10]"
   ]
  },
  {
   "cell_type": "code",
   "execution_count": 21,
   "id": "f556984f-95bf-477f-a388-31c54d15a814",
   "metadata": {},
   "outputs": [],
   "source": [
    "# Eigen features for k\n",
    "k = 7\n",
    "X = v[:, -1*k:]\n",
    "# Y = X / row_sums[:, np.newaxis]"
   ]
  },
  {
   "cell_type": "markdown",
   "id": "b4d12349-9aa1-47bb-93f8-77e6443b51b1",
   "metadata": {},
   "source": [
    "## Clustering"
   ]
  },
  {
   "cell_type": "code",
   "execution_count": 22,
   "id": "06d822a4-d9f2-4925-bb94-fc2764c435f3",
   "metadata": {},
   "outputs": [
    {
     "data": {
      "text/html": [
       "<div>\n",
       "<style scoped>\n",
       "    .dataframe tbody tr th:only-of-type {\n",
       "        vertical-align: middle;\n",
       "    }\n",
       "\n",
       "    .dataframe tbody tr th {\n",
       "        vertical-align: top;\n",
       "    }\n",
       "\n",
       "    .dataframe thead th {\n",
       "        text-align: right;\n",
       "    }\n",
       "</style>\n",
       "<table border=\"1\" class=\"dataframe\">\n",
       "  <thead>\n",
       "    <tr style=\"text-align: right;\">\n",
       "      <th></th>\n",
       "      <th>0</th>\n",
       "      <th>1</th>\n",
       "      <th>2</th>\n",
       "      <th>3</th>\n",
       "      <th>4</th>\n",
       "      <th>5</th>\n",
       "      <th>6</th>\n",
       "    </tr>\n",
       "  </thead>\n",
       "  <tbody>\n",
       "    <tr>\n",
       "      <th>0</th>\n",
       "      <td>0.000000e+00</td>\n",
       "      <td>0.000000e+00</td>\n",
       "      <td>0.000000e+00</td>\n",
       "      <td>0.000000e+00</td>\n",
       "      <td>0.000000e+00</td>\n",
       "      <td>0.000000e+00</td>\n",
       "      <td>0.000000e+00</td>\n",
       "    </tr>\n",
       "    <tr>\n",
       "      <th>1</th>\n",
       "      <td>8.543253e-33</td>\n",
       "      <td>-3.178568e-17</td>\n",
       "      <td>-3.948818e-18</td>\n",
       "      <td>-1.239229e-17</td>\n",
       "      <td>-8.126118e-18</td>\n",
       "      <td>1.586798e-17</td>\n",
       "      <td>2.691043e-18</td>\n",
       "    </tr>\n",
       "    <tr>\n",
       "      <th>2</th>\n",
       "      <td>-2.747049e-33</td>\n",
       "      <td>-9.846838e-17</td>\n",
       "      <td>-4.004536e-18</td>\n",
       "      <td>2.293163e-17</td>\n",
       "      <td>3.552781e-17</td>\n",
       "      <td>-2.255305e-17</td>\n",
       "      <td>-6.183937e-18</td>\n",
       "    </tr>\n",
       "    <tr>\n",
       "      <th>3</th>\n",
       "      <td>5.495624e-33</td>\n",
       "      <td>2.196214e-01</td>\n",
       "      <td>-6.015592e-02</td>\n",
       "      <td>-2.942518e-03</td>\n",
       "      <td>-8.280855e-02</td>\n",
       "      <td>-9.085141e-03</td>\n",
       "      <td>-9.022321e-02</td>\n",
       "    </tr>\n",
       "    <tr>\n",
       "      <th>4</th>\n",
       "      <td>-4.663296e-32</td>\n",
       "      <td>-1.369275e-16</td>\n",
       "      <td>4.379059e-17</td>\n",
       "      <td>-2.591236e-17</td>\n",
       "      <td>1.150044e-17</td>\n",
       "      <td>-1.566590e-18</td>\n",
       "      <td>4.736666e-17</td>\n",
       "    </tr>\n",
       "    <tr>\n",
       "      <th>...</th>\n",
       "      <td>...</td>\n",
       "      <td>...</td>\n",
       "      <td>...</td>\n",
       "      <td>...</td>\n",
       "      <td>...</td>\n",
       "      <td>...</td>\n",
       "      <td>...</td>\n",
       "    </tr>\n",
       "    <tr>\n",
       "      <th>2703</th>\n",
       "      <td>7.694827e-33</td>\n",
       "      <td>0.000000e+00</td>\n",
       "      <td>1.312259e-01</td>\n",
       "      <td>1.466994e-02</td>\n",
       "      <td>-3.196753e-02</td>\n",
       "      <td>-1.009005e-01</td>\n",
       "      <td>8.059722e-02</td>\n",
       "    </tr>\n",
       "    <tr>\n",
       "      <th>2704</th>\n",
       "      <td>-9.270165e-34</td>\n",
       "      <td>-7.837769e-02</td>\n",
       "      <td>-7.753428e-02</td>\n",
       "      <td>1.548812e-01</td>\n",
       "      <td>-1.270582e-01</td>\n",
       "      <td>-5.046505e-02</td>\n",
       "      <td>1.152331e-01</td>\n",
       "    </tr>\n",
       "    <tr>\n",
       "      <th>2705</th>\n",
       "      <td>1.451173e-32</td>\n",
       "      <td>8.072420e-02</td>\n",
       "      <td>7.270303e-02</td>\n",
       "      <td>-1.170156e-01</td>\n",
       "      <td>1.013588e-01</td>\n",
       "      <td>-8.045286e-02</td>\n",
       "      <td>1.777706e-01</td>\n",
       "    </tr>\n",
       "    <tr>\n",
       "      <th>2706</th>\n",
       "      <td>1.954819e-32</td>\n",
       "      <td>9.584347e-17</td>\n",
       "      <td>-3.686287e-17</td>\n",
       "      <td>-7.155734e-18</td>\n",
       "      <td>-1.040834e-17</td>\n",
       "      <td>6.505213e-18</td>\n",
       "      <td>-8.239937e-18</td>\n",
       "    </tr>\n",
       "    <tr>\n",
       "      <th>2707</th>\n",
       "      <td>1.275929e-32</td>\n",
       "      <td>7.546047e-17</td>\n",
       "      <td>-3.686287e-18</td>\n",
       "      <td>3.079134e-17</td>\n",
       "      <td>4.293441e-17</td>\n",
       "      <td>1.084202e-18</td>\n",
       "      <td>-4.336809e-18</td>\n",
       "    </tr>\n",
       "  </tbody>\n",
       "</table>\n",
       "<p>2708 rows × 7 columns</p>\n",
       "</div>"
      ],
      "text/plain": [
       "                 0             1             2             3             4  \\\n",
       "0     0.000000e+00  0.000000e+00  0.000000e+00  0.000000e+00  0.000000e+00   \n",
       "1     8.543253e-33 -3.178568e-17 -3.948818e-18 -1.239229e-17 -8.126118e-18   \n",
       "2    -2.747049e-33 -9.846838e-17 -4.004536e-18  2.293163e-17  3.552781e-17   \n",
       "3     5.495624e-33  2.196214e-01 -6.015592e-02 -2.942518e-03 -8.280855e-02   \n",
       "4    -4.663296e-32 -1.369275e-16  4.379059e-17 -2.591236e-17  1.150044e-17   \n",
       "...            ...           ...           ...           ...           ...   \n",
       "2703  7.694827e-33  0.000000e+00  1.312259e-01  1.466994e-02 -3.196753e-02   \n",
       "2704 -9.270165e-34 -7.837769e-02 -7.753428e-02  1.548812e-01 -1.270582e-01   \n",
       "2705  1.451173e-32  8.072420e-02  7.270303e-02 -1.170156e-01  1.013588e-01   \n",
       "2706  1.954819e-32  9.584347e-17 -3.686287e-17 -7.155734e-18 -1.040834e-17   \n",
       "2707  1.275929e-32  7.546047e-17 -3.686287e-18  3.079134e-17  4.293441e-17   \n",
       "\n",
       "                 5             6  \n",
       "0     0.000000e+00  0.000000e+00  \n",
       "1     1.586798e-17  2.691043e-18  \n",
       "2    -2.255305e-17 -6.183937e-18  \n",
       "3    -9.085141e-03 -9.022321e-02  \n",
       "4    -1.566590e-18  4.736666e-17  \n",
       "...            ...           ...  \n",
       "2703 -1.009005e-01  8.059722e-02  \n",
       "2704 -5.046505e-02  1.152331e-01  \n",
       "2705 -8.045286e-02  1.777706e-01  \n",
       "2706  6.505213e-18 -8.239937e-18  \n",
       "2707  1.084202e-18 -4.336809e-18  \n",
       "\n",
       "[2708 rows x 7 columns]"
      ]
     },
     "execution_count": 22,
     "metadata": {},
     "output_type": "execute_result"
    }
   ],
   "source": [
    "cluster_df = pd.DataFrame(X)\n",
    "cluster_df"
   ]
  },
  {
   "cell_type": "code",
   "execution_count": 28,
   "id": "0b916a16-42d0-4ae0-b174-aa5e4961f6e6",
   "metadata": {},
   "outputs": [
    {
     "name": "stdout",
     "output_type": "stream",
     "text": [
      "0.972430808217798 -0.00020896767058245847\n"
     ]
    },
    {
     "name": "stderr",
     "output_type": "stream",
     "text": [
      "C:\\Users\\mondal\\AppData\\Local\\Programs\\Python\\Python311\\Lib\\site-packages\\sklearn\\cluster\\_kmeans.py:1412: FutureWarning: The default value of `n_init` will change from 10 to 'auto' in 1.4. Set the value of `n_init` explicitly to suppress the warning\n",
      "  super()._check_params_vs_input(X, default_n_init=10)\n"
     ]
    }
   ],
   "source": [
    "clustering = KMeans(n_clusters = 7)\n",
    "clustering.fit(cluster_df)\n",
    "\n",
    "cluster_labels = clustering.labels_\n",
    "print(silhouette_score(cluster_df, cluster_labels),adjusted_rand_score(labels, cluster_labels))"
   ]
  },
  {
   "cell_type": "code",
   "execution_count": null,
   "id": "2b9a431a-c265-434a-86ea-6a6c61e93f34",
   "metadata": {},
   "outputs": [],
   "source": []
  },
  {
   "cell_type": "code",
   "execution_count": 23,
   "id": "3f7f5529-c276-406a-bea1-dbb28d651886",
   "metadata": {},
   "outputs": [
    {
     "name": "stderr",
     "output_type": "stream",
     "text": [
      "C:\\Users\\mondal\\AppData\\Local\\Programs\\Python\\Python311\\Lib\\site-packages\\sklearn\\cluster\\_kmeans.py:1412: FutureWarning: The default value of `n_init` will change from 10 to 'auto' in 1.4. Set the value of `n_init` explicitly to suppress the warning\n",
      "  super()._check_params_vs_input(X, default_n_init=10)\n"
     ]
    },
    {
     "data": {
      "text/html": [
       "<style>#sk-container-id-1 {color: black;}#sk-container-id-1 pre{padding: 0;}#sk-container-id-1 div.sk-toggleable {background-color: white;}#sk-container-id-1 label.sk-toggleable__label {cursor: pointer;display: block;width: 100%;margin-bottom: 0;padding: 0.3em;box-sizing: border-box;text-align: center;}#sk-container-id-1 label.sk-toggleable__label-arrow:before {content: \"▸\";float: left;margin-right: 0.25em;color: #696969;}#sk-container-id-1 label.sk-toggleable__label-arrow:hover:before {color: black;}#sk-container-id-1 div.sk-estimator:hover label.sk-toggleable__label-arrow:before {color: black;}#sk-container-id-1 div.sk-toggleable__content {max-height: 0;max-width: 0;overflow: hidden;text-align: left;background-color: #f0f8ff;}#sk-container-id-1 div.sk-toggleable__content pre {margin: 0.2em;color: black;border-radius: 0.25em;background-color: #f0f8ff;}#sk-container-id-1 input.sk-toggleable__control:checked~div.sk-toggleable__content {max-height: 200px;max-width: 100%;overflow: auto;}#sk-container-id-1 input.sk-toggleable__control:checked~label.sk-toggleable__label-arrow:before {content: \"▾\";}#sk-container-id-1 div.sk-estimator input.sk-toggleable__control:checked~label.sk-toggleable__label {background-color: #d4ebff;}#sk-container-id-1 div.sk-label input.sk-toggleable__control:checked~label.sk-toggleable__label {background-color: #d4ebff;}#sk-container-id-1 input.sk-hidden--visually {border: 0;clip: rect(1px 1px 1px 1px);clip: rect(1px, 1px, 1px, 1px);height: 1px;margin: -1px;overflow: hidden;padding: 0;position: absolute;width: 1px;}#sk-container-id-1 div.sk-estimator {font-family: monospace;background-color: #f0f8ff;border: 1px dotted black;border-radius: 0.25em;box-sizing: border-box;margin-bottom: 0.5em;}#sk-container-id-1 div.sk-estimator:hover {background-color: #d4ebff;}#sk-container-id-1 div.sk-parallel-item::after {content: \"\";width: 100%;border-bottom: 1px solid gray;flex-grow: 1;}#sk-container-id-1 div.sk-label:hover label.sk-toggleable__label {background-color: #d4ebff;}#sk-container-id-1 div.sk-serial::before {content: \"\";position: absolute;border-left: 1px solid gray;box-sizing: border-box;top: 0;bottom: 0;left: 50%;z-index: 0;}#sk-container-id-1 div.sk-serial {display: flex;flex-direction: column;align-items: center;background-color: white;padding-right: 0.2em;padding-left: 0.2em;position: relative;}#sk-container-id-1 div.sk-item {position: relative;z-index: 1;}#sk-container-id-1 div.sk-parallel {display: flex;align-items: stretch;justify-content: center;background-color: white;position: relative;}#sk-container-id-1 div.sk-item::before, #sk-container-id-1 div.sk-parallel-item::before {content: \"\";position: absolute;border-left: 1px solid gray;box-sizing: border-box;top: 0;bottom: 0;left: 50%;z-index: -1;}#sk-container-id-1 div.sk-parallel-item {display: flex;flex-direction: column;z-index: 1;position: relative;background-color: white;}#sk-container-id-1 div.sk-parallel-item:first-child::after {align-self: flex-end;width: 50%;}#sk-container-id-1 div.sk-parallel-item:last-child::after {align-self: flex-start;width: 50%;}#sk-container-id-1 div.sk-parallel-item:only-child::after {width: 0;}#sk-container-id-1 div.sk-dashed-wrapped {border: 1px dashed gray;margin: 0 0.4em 0.5em 0.4em;box-sizing: border-box;padding-bottom: 0.4em;background-color: white;}#sk-container-id-1 div.sk-label label {font-family: monospace;font-weight: bold;display: inline-block;line-height: 1.2em;}#sk-container-id-1 div.sk-label-container {text-align: center;}#sk-container-id-1 div.sk-container {/* jupyter's `normalize.less` sets `[hidden] { display: none; }` but bootstrap.min.css set `[hidden] { display: none !important; }` so we also need the `!important` here to be able to override the default hidden behavior on the sphinx rendered scikit-learn.org. See: https://github.com/scikit-learn/scikit-learn/issues/21755 */display: inline-block !important;position: relative;}#sk-container-id-1 div.sk-text-repr-fallback {display: none;}</style><div id=\"sk-container-id-1\" class=\"sk-top-container\"><div class=\"sk-text-repr-fallback\"><pre>KMeans(n_clusters=7)</pre><b>In a Jupyter environment, please rerun this cell to show the HTML representation or trust the notebook. <br />On GitHub, the HTML representation is unable to render, please try loading this page with nbviewer.org.</b></div><div class=\"sk-container\" hidden><div class=\"sk-item\"><div class=\"sk-estimator sk-toggleable\"><input class=\"sk-toggleable__control sk-hidden--visually\" id=\"sk-estimator-id-1\" type=\"checkbox\" checked><label for=\"sk-estimator-id-1\" class=\"sk-toggleable__label sk-toggleable__label-arrow\">KMeans</label><div class=\"sk-toggleable__content\"><pre>KMeans(n_clusters=7)</pre></div></div></div></div></div>"
      ],
      "text/plain": [
       "KMeans(n_clusters=7)"
      ]
     },
     "execution_count": 23,
     "metadata": {},
     "output_type": "execute_result"
    }
   ],
   "source": [
    "clustering = KMeans(n_clusters = 7)\n",
    "clustering.fit(cluster_df)"
   ]
  },
  {
   "cell_type": "code",
   "execution_count": null,
   "id": "aff0319a-1591-4a18-8ab8-f262ff6c3f78",
   "metadata": {},
   "outputs": [],
   "source": []
  },
  {
   "cell_type": "code",
   "execution_count": 25,
   "id": "8255a24a-f25b-4f70-90b2-01f62e4b4a50",
   "metadata": {},
   "outputs": [
    {
     "data": {
      "text/plain": [
       "-0.9966765"
      ]
     },
     "execution_count": 25,
     "metadata": {},
     "output_type": "execute_result"
    }
   ],
   "source": [
    "cluster_labels = clustering.labels_\n",
    "silhouette_score(adjacency_matrix, cluster_labels, metric = \"precomputed\")"
   ]
  },
  {
   "cell_type": "code",
   "execution_count": 26,
   "id": "9c1798b9-68c9-4ab2-be75-e9f76df876ac",
   "metadata": {},
   "outputs": [
    {
     "data": {
      "text/plain": [
       "-0.001573381507592645"
      ]
     },
     "execution_count": 26,
     "metadata": {},
     "output_type": "execute_result"
    }
   ],
   "source": [
    "adjusted_rand_score(labels, cluster_labels)"
   ]
  },
  {
   "cell_type": "code",
   "execution_count": null,
   "id": "cbbe012f-96f2-4a0f-ba96-bcbe8dc43c1c",
   "metadata": {},
   "outputs": [],
   "source": []
  }
 ],
 "metadata": {
  "kernelspec": {
   "display_name": "Python 3 (ipykernel)",
   "language": "python",
   "name": "python3"
  },
  "language_info": {
   "codemirror_mode": {
    "name": "ipython",
    "version": 3
   },
   "file_extension": ".py",
   "mimetype": "text/x-python",
   "name": "python",
   "nbconvert_exporter": "python",
   "pygments_lexer": "ipython3",
   "version": "3.11.3"
  }
 },
 "nbformat": 4,
 "nbformat_minor": 5
}
