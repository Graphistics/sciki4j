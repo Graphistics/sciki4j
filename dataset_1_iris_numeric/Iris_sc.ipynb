{
 "cells": [
  {
   "cell_type": "code",
   "execution_count": 1,
   "id": "05ba8c9c-545e-4a9d-abd0-84d6af08d9ec",
   "metadata": {},
   "outputs": [],
   "source": [
    "import pandas as pd\n",
    "import numpy as np\n",
    "import os\n",
    "from tqdm import tqdm\n",
    "import math\n",
    "\n",
    "from scipy.spatial.distance import pdist\n",
    "from scipy import linalg\n",
    "\n",
    "import matplotlib.pyplot as plt\n",
    "\n",
    "from sklearn.cluster import KMeans\n",
    "from sklearn.metrics import silhouette_score\n",
    "from sklearn.metrics import adjusted_rand_score\n",
    "\n",
    "from sklearn.datasets import load_iris\n",
    "\n",
    "from time import time\n",
    "import psutil"
   ]
  },
  {
   "cell_type": "code",
   "execution_count": null,
   "id": "4dd6cb48-6308-4653-806e-6bebe0fbb65a",
   "metadata": {},
   "outputs": [],
   "source": [
    "iris = load_iris()\n",
    "data_df = pd.DataFrame(data= np.c_[iris['data'], iris['target']],\n",
    "                     columns= iris['feature_names'] + ['target'])\n",
    "\n",
    "data_df"
   ]
  },
  {
   "cell_type": "code",
   "execution_count": null,
   "id": "8846ae81-3196-4f6d-9748-1144e8ade72f",
   "metadata": {},
   "outputs": [],
   "source": [
    "# data_df.columns = [\"sepal_length\", \"sepal_width\", \"petal_length\", \"petal_width\", \"target\"]\n",
    "# data_df.to_csv(\"d1.csv\")"
   ]
  },
  {
   "cell_type": "markdown",
   "id": "b09f21c1-1dea-42b5-98df-790ebd833806",
   "metadata": {},
   "source": [
    "## Data Import"
   ]
  },
  {
   "cell_type": "code",
   "execution_count": 2,
   "id": "5b147842-8135-4f9c-bf76-78fecce740c0",
   "metadata": {},
   "outputs": [],
   "source": [
    "data = pd.read_csv(\"d1.csv\", index_col=0)"
   ]
  },
  {
   "cell_type": "code",
   "execution_count": 3,
   "id": "96ffbb42-a7af-4001-b896-ce5bb43ae252",
   "metadata": {},
   "outputs": [
    {
     "data": {
      "text/html": [
       "<div>\n",
       "<style scoped>\n",
       "    .dataframe tbody tr th:only-of-type {\n",
       "        vertical-align: middle;\n",
       "    }\n",
       "\n",
       "    .dataframe tbody tr th {\n",
       "        vertical-align: top;\n",
       "    }\n",
       "\n",
       "    .dataframe thead th {\n",
       "        text-align: right;\n",
       "    }\n",
       "</style>\n",
       "<table border=\"1\" class=\"dataframe\">\n",
       "  <thead>\n",
       "    <tr style=\"text-align: right;\">\n",
       "      <th></th>\n",
       "      <th>sepal_length</th>\n",
       "      <th>sepal_width</th>\n",
       "      <th>petal_length</th>\n",
       "      <th>petal_width</th>\n",
       "    </tr>\n",
       "    <tr>\n",
       "      <th>index</th>\n",
       "      <th></th>\n",
       "      <th></th>\n",
       "      <th></th>\n",
       "      <th></th>\n",
       "    </tr>\n",
       "  </thead>\n",
       "  <tbody>\n",
       "    <tr>\n",
       "      <th>0</th>\n",
       "      <td>5.1</td>\n",
       "      <td>3.5</td>\n",
       "      <td>1.4</td>\n",
       "      <td>0.2</td>\n",
       "    </tr>\n",
       "    <tr>\n",
       "      <th>1</th>\n",
       "      <td>4.9</td>\n",
       "      <td>3.0</td>\n",
       "      <td>1.4</td>\n",
       "      <td>0.2</td>\n",
       "    </tr>\n",
       "    <tr>\n",
       "      <th>2</th>\n",
       "      <td>4.7</td>\n",
       "      <td>3.2</td>\n",
       "      <td>1.3</td>\n",
       "      <td>0.2</td>\n",
       "    </tr>\n",
       "    <tr>\n",
       "      <th>3</th>\n",
       "      <td>4.6</td>\n",
       "      <td>3.1</td>\n",
       "      <td>1.5</td>\n",
       "      <td>0.2</td>\n",
       "    </tr>\n",
       "    <tr>\n",
       "      <th>4</th>\n",
       "      <td>5.0</td>\n",
       "      <td>3.6</td>\n",
       "      <td>1.4</td>\n",
       "      <td>0.2</td>\n",
       "    </tr>\n",
       "    <tr>\n",
       "      <th>...</th>\n",
       "      <td>...</td>\n",
       "      <td>...</td>\n",
       "      <td>...</td>\n",
       "      <td>...</td>\n",
       "    </tr>\n",
       "    <tr>\n",
       "      <th>145</th>\n",
       "      <td>6.7</td>\n",
       "      <td>3.0</td>\n",
       "      <td>5.2</td>\n",
       "      <td>2.3</td>\n",
       "    </tr>\n",
       "    <tr>\n",
       "      <th>146</th>\n",
       "      <td>6.3</td>\n",
       "      <td>2.5</td>\n",
       "      <td>5.0</td>\n",
       "      <td>1.9</td>\n",
       "    </tr>\n",
       "    <tr>\n",
       "      <th>147</th>\n",
       "      <td>6.5</td>\n",
       "      <td>3.0</td>\n",
       "      <td>5.2</td>\n",
       "      <td>2.0</td>\n",
       "    </tr>\n",
       "    <tr>\n",
       "      <th>148</th>\n",
       "      <td>6.2</td>\n",
       "      <td>3.4</td>\n",
       "      <td>5.4</td>\n",
       "      <td>2.3</td>\n",
       "    </tr>\n",
       "    <tr>\n",
       "      <th>149</th>\n",
       "      <td>5.9</td>\n",
       "      <td>3.0</td>\n",
       "      <td>5.1</td>\n",
       "      <td>1.8</td>\n",
       "    </tr>\n",
       "  </tbody>\n",
       "</table>\n",
       "<p>150 rows × 4 columns</p>\n",
       "</div>"
      ],
      "text/plain": [
       "       sepal_length  sepal_width  petal_length  petal_width\n",
       "index                                                      \n",
       "0               5.1          3.5           1.4          0.2\n",
       "1               4.9          3.0           1.4          0.2\n",
       "2               4.7          3.2           1.3          0.2\n",
       "3               4.6          3.1           1.5          0.2\n",
       "4               5.0          3.6           1.4          0.2\n",
       "...             ...          ...           ...          ...\n",
       "145             6.7          3.0           5.2          2.3\n",
       "146             6.3          2.5           5.0          1.9\n",
       "147             6.5          3.0           5.2          2.0\n",
       "148             6.2          3.4           5.4          2.3\n",
       "149             5.9          3.0           5.1          1.8\n",
       "\n",
       "[150 rows x 4 columns]"
      ]
     },
     "execution_count": 3,
     "metadata": {},
     "output_type": "execute_result"
    }
   ],
   "source": [
    "data_df = data.drop([\"target\"], axis=1)\n",
    "data_df"
   ]
  },
  {
   "cell_type": "code",
   "execution_count": 4,
   "id": "4016f7fd-652c-480e-bcf1-4da0a8b06583",
   "metadata": {
    "scrolled": true
   },
   "outputs": [
    {
     "data": {
      "text/plain": [
       "{0.0, 1.0, 2.0}"
      ]
     },
     "execution_count": 4,
     "metadata": {},
     "output_type": "execute_result"
    }
   ],
   "source": [
    "# data[\"target\"], class_mappings = pd.factorize(data[\"target\"])\n",
    "labels = data[\"target\"].tolist()\n",
    "set(labels)"
   ]
  },
  {
   "cell_type": "markdown",
   "id": "d5c9ae61-9446-4d96-90f7-78bd69451242",
   "metadata": {},
   "source": [
    "# Experiments"
   ]
  },
  {
   "cell_type": "code",
   "execution_count": 5,
   "id": "13366f92-6a5c-45aa-a350-14d7a3eec460",
   "metadata": {},
   "outputs": [],
   "source": [
    "def memory_usage():\n",
    "    process = psutil.Process()\n",
    "    memory_info = process.memory_info()\n",
    "    return memory_info.vms / 1024"
   ]
  },
  {
   "cell_type": "code",
   "execution_count": 6,
   "id": "85c57355-a058-4b44-8688-ba8016c68e01",
   "metadata": {},
   "outputs": [],
   "source": [
    "def spectral_clustering(dataframe, labels, similarity_graph, laplacian, number_of_clusters):\n",
    "\n",
    "    # Pairwise distances\n",
    "    dimension = dataframe.shape[0]\n",
    "    dist_ = pdist(dataframe)\n",
    "    dist_mat = np.zeros([dimension, dimension])\n",
    "    dist = iter(dist_)\n",
    "    for i in tqdm(range(dimension)):\n",
    "        for j in range(i+1, dimension):  \n",
    "            d = next(dist)\n",
    "            dist_mat[i,j] = d\n",
    "            dist_mat[j,i] = d\n",
    "\n",
    "\n",
    "    if similarity_graph == \"full\":\n",
    "\n",
    "        #calculate local sigma\n",
    "        sigmas = np.zeros(dimension)\n",
    "        for i in tqdm(range(len(dist_mat))):\n",
    "            sigmas[i] = sorted(dist_mat[i])[7]\n",
    "\n",
    "        # Adjaceny matrix with optimal sigma\n",
    "        adjacency_matrix = np.zeros([dimension, dimension])\n",
    "        dist = iter(dist_)\n",
    "        for i in tqdm(range(dimension)):\n",
    "            for j in range(i+1, dimension):  \n",
    "                d = np.exp(-1*next(dist)**2/(sigmas[i]*sigmas[j]))\n",
    "                adjacency_matrix[i,j] = d\n",
    "                adjacency_matrix[j,i] = d\n",
    "\n",
    "    \n",
    "    elif similarity_graph == \"eps\":\n",
    "\n",
    "        # Adjaceny matrix with epsilon threshold\n",
    "        epsilon = 1\n",
    "        adjacency_matrix = np.zeros([dimension, dimension])\n",
    "        dist = iter(dist_)\n",
    "        \n",
    "        for i in tqdm(range(dimension)):\n",
    "            for j in range(i+1, dimension):\n",
    "                if next(dist) < epsilon:\n",
    "                    d = 1\n",
    "                else:\n",
    "                    d = 0\n",
    "                adjacency_matrix[i,j] = d\n",
    "                adjacency_matrix[j,i] = d\n",
    "\n",
    "\n",
    "    elif similarity_graph == \"knn\":\n",
    "\n",
    "        # Adjaceny matrix with k-neighbours\n",
    "        k = 30\n",
    "        adjacency_matrix = np.zeros([dimension, dimension])\n",
    "        \n",
    "        for i in tqdm(range(dimension)):\n",
    "            # Sort distances for node i and get indices of the k nearest neighbors\n",
    "            sorted_indices = np.argsort(dist_mat[i])\n",
    "            k_nearest_indices = sorted_indices[1:k+1]  # Exclude the node itself\n",
    "        \n",
    "            # Update the adjacency matrix\n",
    "            adjacency_matrix[i, k_nearest_indices] = 1\n",
    "\n",
    "\n",
    "    else:\n",
    "\n",
    "        # Adjaceny matrix with mutual k-neighbours\n",
    "        k = 30\n",
    "        adjacency_matrix = np.zeros([dimension, dimension])\n",
    "        \n",
    "        for i in tqdm(range(dimension)):\n",
    "            # Sort distances for node i and get indices of the k nearest neighbors\n",
    "            sorted_indices = np.argsort(dist_mat[i])\n",
    "            k_nearest_indices = sorted_indices[1:k+1]  # Exclude the node itself\n",
    "        \n",
    "            for neighbor in k_nearest_indices:\n",
    "                # Check if node i is also among the k-nearest neighbors of the current neighbor\n",
    "                neighbor_sorted_indices = np.argsort(dist_mat[neighbor])\n",
    "                if i in neighbor_sorted_indices[1:k+1]:\n",
    "                    # Connect nodes if they are mutual k-nearest neighbors\n",
    "                    adjacency_matrix[i, neighbor] = 1\n",
    "                    adjacency_matrix[neighbor, i] = 1\n",
    "\n",
    "\n",
    "    \n",
    "    # Calculate degree matrix\n",
    "    degree_matrix = np.sum(adjacency_matrix, axis=0) * np.eye(dimension)\n",
    "    \n",
    "\n",
    "    if laplacian == \"sym\":\n",
    "\n",
    "        # Normalized Symmetric laplacian matrix\n",
    "        d_half = linalg.fractional_matrix_power(degree_matrix, -0.5)\n",
    "        laplacian_matrix_normalized = np.matmul(np.matmul(d_half, adjacency_matrix), d_half)\n",
    "\n",
    "    if laplacian == \"rw\":\n",
    "\n",
    "        # Normalized Random Walk laplacian matrix\n",
    "        d_inverse = linalg.fractional_matrix_power(degree_matrix, -1)\n",
    "        laplacian_matrix_normalized = np.matmul(d_inverse, adjacency_matrix)\n",
    "\n",
    "\n",
    "    # Calculating eigenvalues and eigenvectors\n",
    "    e, v = np.linalg.eigh(laplacian_matrix_normalized)\n",
    "\n",
    "    # Eigen features for k\n",
    "    k = number_of_clusters\n",
    "    X = v[:, -1*k:]\n",
    "\n",
    "    # Kmeans\n",
    "    clustering = KMeans(n_clusters = number_of_clusters)\n",
    "    clustering.fit(X)\n",
    "    \n",
    "    cluster_labels = clustering.labels_\n",
    "    \n",
    "    return silhouette_score(dataframe, cluster_labels), adjusted_rand_score(labels, cluster_labels)"
   ]
  },
  {
   "cell_type": "code",
   "execution_count": 7,
   "id": "faa25bb4-348e-4b0c-8aae-d44e876b9196",
   "metadata": {},
   "outputs": [
    {
     "name": "stderr",
     "output_type": "stream",
     "text": [
      "100%|█████████████████████████████████████████████████████████████████████████████| 150/150 [00:00<00:00, 75041.22it/s]\n",
      "100%|█████████████████████████████████████████████████████████████████████████████| 150/150 [00:00<00:00, 37464.75it/s]\n",
      "100%|██████████████████████████████████████████████████████████████████████████████| 150/150 [00:00<00:00, 9075.96it/s]\n",
      "C:\\Users\\mondal\\AppData\\Local\\Programs\\Python\\Python311\\Lib\\site-packages\\sklearn\\cluster\\_kmeans.py:1412: FutureWarning: The default value of `n_init` will change from 10 to 'auto' in 1.4. Set the value of `n_init` explicitly to suppress the warning\n",
      "  super()._check_params_vs_input(X, default_n_init=10)\n",
      "100%|█████████████████████████████████████████████████████████████████████████████| 150/150 [00:00<00:00, 38439.89it/s]\n",
      "100%|█████████████████████████████████████████████████████████████████████████████| 150/150 [00:00<00:00, 33541.91it/s]\n",
      "100%|██████████████████████████████████████████████████████████████████████████████| 150/150 [00:00<00:00, 5761.30it/s]\n",
      "C:\\Users\\mondal\\AppData\\Local\\Programs\\Python\\Python311\\Lib\\site-packages\\sklearn\\cluster\\_kmeans.py:1412: FutureWarning: The default value of `n_init` will change from 10 to 'auto' in 1.4. Set the value of `n_init` explicitly to suppress the warning\n",
      "  super()._check_params_vs_input(X, default_n_init=10)\n",
      "100%|█████████████████████████████████████████████████████████████████████████████| 150/150 [00:00<00:00, 42659.72it/s]\n",
      "100%|█████████████████████████████████████████████████████████████████████████████| 150/150 [00:00<00:00, 22306.96it/s]\n",
      "C:\\Users\\mondal\\AppData\\Local\\Programs\\Python\\Python311\\Lib\\site-packages\\sklearn\\cluster\\_kmeans.py:1412: FutureWarning: The default value of `n_init` will change from 10 to 'auto' in 1.4. Set the value of `n_init` explicitly to suppress the warning\n",
      "  super()._check_params_vs_input(X, default_n_init=10)\n",
      "100%|█████████████████████████████████████████████████████████████████████████████| 150/150 [00:00<00:00, 29990.73it/s]\n",
      "100%|█████████████████████████████████████████████████████████████████████████████| 150/150 [00:00<00:00, 22187.39it/s]\n",
      "C:\\Users\\mondal\\AppData\\Local\\Programs\\Python\\Python311\\Lib\\site-packages\\sklearn\\cluster\\_kmeans.py:1412: FutureWarning: The default value of `n_init` will change from 10 to 'auto' in 1.4. Set the value of `n_init` explicitly to suppress the warning\n",
      "  super()._check_params_vs_input(X, default_n_init=10)\n",
      "100%|█████████████████████████████████████████████████████████████████████████████| 150/150 [00:00<00:00, 41862.11it/s]\n",
      "100%|████████████████████████████████████████████████████████████████████████████| 150/150 [00:00<00:00, 139160.72it/s]\n",
      "C:\\Users\\mondal\\AppData\\Local\\Programs\\Python\\Python311\\Lib\\site-packages\\sklearn\\cluster\\_kmeans.py:1412: FutureWarning: The default value of `n_init` will change from 10 to 'auto' in 1.4. Set the value of `n_init` explicitly to suppress the warning\n",
      "  super()._check_params_vs_input(X, default_n_init=10)\n",
      "100%|█████████████████████████████████████████████████████████████████████████████| 150/150 [00:00<00:00, 35165.48it/s]\n",
      "100%|█████████████████████████████████████████████████████████████████████████████| 150/150 [00:00<00:00, 99911.96it/s]\n",
      "C:\\Users\\mondal\\AppData\\Local\\Programs\\Python\\Python311\\Lib\\site-packages\\sklearn\\cluster\\_kmeans.py:1412: FutureWarning: The default value of `n_init` will change from 10 to 'auto' in 1.4. Set the value of `n_init` explicitly to suppress the warning\n",
      "  super()._check_params_vs_input(X, default_n_init=10)\n",
      "100%|█████████████████████████████████████████████████████████████████████████████| 150/150 [00:00<00:00, 49703.40it/s]\n",
      "100%|██████████████████████████████████████████████████████████████████████████████| 150/150 [00:00<00:00, 3514.54it/s]\n",
      "C:\\Users\\mondal\\AppData\\Local\\Programs\\Python\\Python311\\Lib\\site-packages\\sklearn\\cluster\\_kmeans.py:1412: FutureWarning: The default value of `n_init` will change from 10 to 'auto' in 1.4. Set the value of `n_init` explicitly to suppress the warning\n",
      "  super()._check_params_vs_input(X, default_n_init=10)\n",
      "100%|█████████████████████████████████████████████████████████████████████████████| 150/150 [00:00<00:00, 66887.69it/s]\n",
      "100%|██████████████████████████████████████████████████████████████████████████████| 150/150 [00:00<00:00, 3099.87it/s]\n",
      "C:\\Users\\mondal\\AppData\\Local\\Programs\\Python\\Python311\\Lib\\site-packages\\sklearn\\cluster\\_kmeans.py:1412: FutureWarning: The default value of `n_init` will change from 10 to 'auto' in 1.4. Set the value of `n_init` explicitly to suppress the warning\n",
      "  super()._check_params_vs_input(X, default_n_init=10)\n"
     ]
    }
   ],
   "source": [
    "similarity_graphs = [\"full\", \"eps\", \"knn\", \"mknn\"]\n",
    "laplacian_methods = [\"sym\", \"rw\"]\n",
    "\n",
    "silhouette_scores = []\n",
    "adjusted_rand_scores = []\n",
    "\n",
    "sim_graph = []\n",
    "laplacian = []\n",
    "\n",
    "comp_time = []\n",
    "comp_memory = []\n",
    "\n",
    "\n",
    "\n",
    "for graph in similarity_graphs:\n",
    "\n",
    "    for laplace in laplacian_methods:\n",
    "\n",
    "        sim_graph.append(graph)\n",
    "        \n",
    "        laplacian.append(laplace)\n",
    "\n",
    "        start_time = time()\n",
    "        start_memory = memory_usage()\n",
    "        si, ar = spectral_clustering(data_df, labels, graph, laplace, 3)\n",
    "        end_memory = memory_usage()\n",
    "        end_time = time()\n",
    "\n",
    "        comp_time.append(end_time - start_time)\n",
    "        comp_memory.append(end_memory - start_memory)\n",
    "\n",
    "        silhouette_scores.append(si)\n",
    "        adjusted_rand_scores.append(ar)"
   ]
  },
  {
   "cell_type": "code",
   "execution_count": 8,
   "id": "ba6bb695-7437-4c9a-a2d2-8d256aaab468",
   "metadata": {},
   "outputs": [
    {
     "data": {
      "text/html": [
       "<div>\n",
       "<style scoped>\n",
       "    .dataframe tbody tr th:only-of-type {\n",
       "        vertical-align: middle;\n",
       "    }\n",
       "\n",
       "    .dataframe tbody tr th {\n",
       "        vertical-align: top;\n",
       "    }\n",
       "\n",
       "    .dataframe thead th {\n",
       "        text-align: right;\n",
       "    }\n",
       "</style>\n",
       "<table border=\"1\" class=\"dataframe\">\n",
       "  <thead>\n",
       "    <tr style=\"text-align: right;\">\n",
       "      <th></th>\n",
       "      <th>graph</th>\n",
       "      <th>laplacian</th>\n",
       "      <th>silhouette</th>\n",
       "      <th>adjusted_rand</th>\n",
       "      <th>time</th>\n",
       "      <th>memory</th>\n",
       "      <th>graph_laplacian</th>\n",
       "    </tr>\n",
       "  </thead>\n",
       "  <tbody>\n",
       "    <tr>\n",
       "      <th>0</th>\n",
       "      <td>full</td>\n",
       "      <td>sym</td>\n",
       "      <td>0.551818</td>\n",
       "      <td>0.758338</td>\n",
       "      <td>0.237138</td>\n",
       "      <td>68016.0</td>\n",
       "      <td>full_sym</td>\n",
       "    </tr>\n",
       "    <tr>\n",
       "      <th>1</th>\n",
       "      <td>full</td>\n",
       "      <td>rw</td>\n",
       "      <td>0.553537</td>\n",
       "      <td>0.744526</td>\n",
       "      <td>0.117325</td>\n",
       "      <td>368.0</td>\n",
       "      <td>full_rw</td>\n",
       "    </tr>\n",
       "    <tr>\n",
       "      <th>2</th>\n",
       "      <td>eps</td>\n",
       "      <td>sym</td>\n",
       "      <td>0.552281</td>\n",
       "      <td>0.744526</td>\n",
       "      <td>0.127229</td>\n",
       "      <td>4.0</td>\n",
       "      <td>eps_sym</td>\n",
       "    </tr>\n",
       "    <tr>\n",
       "      <th>3</th>\n",
       "      <td>eps</td>\n",
       "      <td>rw</td>\n",
       "      <td>0.551727</td>\n",
       "      <td>0.707363</td>\n",
       "      <td>0.125108</td>\n",
       "      <td>0.0</td>\n",
       "      <td>eps_rw</td>\n",
       "    </tr>\n",
       "    <tr>\n",
       "      <th>4</th>\n",
       "      <td>knn</td>\n",
       "      <td>sym</td>\n",
       "      <td>0.552819</td>\n",
       "      <td>0.730238</td>\n",
       "      <td>0.124712</td>\n",
       "      <td>0.0</td>\n",
       "      <td>knn_sym</td>\n",
       "    </tr>\n",
       "    <tr>\n",
       "      <th>5</th>\n",
       "      <td>knn</td>\n",
       "      <td>rw</td>\n",
       "      <td>0.548506</td>\n",
       "      <td>0.717276</td>\n",
       "      <td>0.102222</td>\n",
       "      <td>0.0</td>\n",
       "      <td>knn_rw</td>\n",
       "    </tr>\n",
       "    <tr>\n",
       "      <th>6</th>\n",
       "      <td>mknn</td>\n",
       "      <td>sym</td>\n",
       "      <td>0.539460</td>\n",
       "      <td>0.786873</td>\n",
       "      <td>0.126548</td>\n",
       "      <td>0.0</td>\n",
       "      <td>mknn_sym</td>\n",
       "    </tr>\n",
       "    <tr>\n",
       "      <th>7</th>\n",
       "      <td>mknn</td>\n",
       "      <td>rw</td>\n",
       "      <td>0.536907</td>\n",
       "      <td>0.802209</td>\n",
       "      <td>0.116873</td>\n",
       "      <td>0.0</td>\n",
       "      <td>mknn_rw</td>\n",
       "    </tr>\n",
       "  </tbody>\n",
       "</table>\n",
       "</div>"
      ],
      "text/plain": [
       "  graph laplacian  silhouette  adjusted_rand      time   memory  \\\n",
       "0  full       sym    0.551818       0.758338  0.237138  68016.0   \n",
       "1  full        rw    0.553537       0.744526  0.117325    368.0   \n",
       "2   eps       sym    0.552281       0.744526  0.127229      4.0   \n",
       "3   eps        rw    0.551727       0.707363  0.125108      0.0   \n",
       "4   knn       sym    0.552819       0.730238  0.124712      0.0   \n",
       "5   knn        rw    0.548506       0.717276  0.102222      0.0   \n",
       "6  mknn       sym    0.539460       0.786873  0.126548      0.0   \n",
       "7  mknn        rw    0.536907       0.802209  0.116873      0.0   \n",
       "\n",
       "  graph_laplacian  \n",
       "0        full_sym  \n",
       "1         full_rw  \n",
       "2         eps_sym  \n",
       "3          eps_rw  \n",
       "4         knn_sym  \n",
       "5          knn_rw  \n",
       "6        mknn_sym  \n",
       "7         mknn_rw  "
      ]
     },
     "execution_count": 8,
     "metadata": {},
     "output_type": "execute_result"
    }
   ],
   "source": [
    "experiment_iris = pd.DataFrame(list(zip(sim_graph,laplacian,silhouette_scores,adjusted_rand_scores,comp_time, comp_memory)), \n",
    "             columns= [\"graph\", \"laplacian\", \"silhouette\", \"adjusted_rand\",\"time\",\"memory\"])\n",
    "\n",
    "experiment_iris[\"graph_laplacian\"] = experiment_iris[\"graph\"] + \"_\" + experiment_iris[\"laplacian\"]\n",
    "\n",
    "experiment_iris"
   ]
  },
  {
   "cell_type": "code",
   "execution_count": 9,
   "id": "1a52ac18-6ea5-4ecd-ab5e-8296d3210e88",
   "metadata": {},
   "outputs": [
    {
     "data": {
      "image/png": "[encoded data removed]",
      "text/plain": [
       "<Figure size 800x400 with 2 Axes>"
      ]
     },
     "metadata": {},
     "output_type": "display_data"
    }
   ],
   "source": [
    "# Create a figure and axis\n",
    "fig, ax = plt.subplots(figsize=(8, 4))\n",
    "\n",
    "# Plot time on the first y-axis\n",
    "ax.plot(experiment_iris['graph_laplacian'], experiment_iris['silhouette'], marker='o', color='b')\n",
    "\n",
    "# Create a second y-axis\n",
    "ax2 = ax.twinx()\n",
    "\n",
    "# Plot memory on the second y-axis\n",
    "ax2.plot(experiment_iris['graph_laplacian'], experiment_iris['adjusted_rand'], marker='x', color='r')\n",
    "\n",
    "# Set labels and legends\n",
    "ax.set_xlabel('graph_laplacian')\n",
    "ax.set_ylabel('silhouette', color='b')\n",
    "ax2.set_ylabel('adjusted_rand', color='r')\n",
    "\n",
    "ax.set_ylim(-0.1, 1)\n",
    "ax2.set_ylim(-0.1, 1)  # Adjust the multiplier as needed\n",
    "\n",
    "\n",
    "# Add legends\n",
    "# ax.legend(loc='upper left')\n",
    "# ax2.legend(loc='upper right')\n",
    "\n",
    "# Show the plot\n",
    "plt.title('experiment_iris')\n",
    "plt.show()"
   ]
  },
  {
   "cell_type": "code",
   "execution_count": 16,
   "id": "3372fdf0-3c92-4437-9b7d-9d3e2a778036",
   "metadata": {},
   "outputs": [
    {
     "data": {
      "image/png": "[encoded data removed]",
      "text/plain": [
       "<Figure size 800x400 with 2 Axes>"
      ]
     },
     "metadata": {},
     "output_type": "display_data"
    }
   ],
   "source": [
    "# Create a figure and axis\n",
    "fig, ax = plt.subplots(figsize=(8, 4))\n",
    "\n",
    "# Plot time on the first y-axis\n",
    "ax.plot(experiment_iris['graph_laplacian'], experiment_iris['time'], marker='o', color='b')\n",
    "\n",
    "# Create a second y-axis\n",
    "ax2 = ax.twinx()\n",
    "\n",
    "# Plot memory on the second y-axis\n",
    "ax2.plot(experiment_iris['graph_laplacian'], experiment_iris['memory'], marker='x', color='r')\n",
    "\n",
    "# Set labels and legends\n",
    "ax.set_xlabel('graph_laplacian')\n",
    "ax.set_ylabel('time (s)', color='b')\n",
    "ax2.set_ylabel('memory (kB)', color='r')\n",
    "\n",
    "ax.set_ylim(-80, 800)\n",
    "ax2.set_ylim(-8000, 80000)  # Adjust the multiplier as needed\n",
    "\n",
    "\n",
    "# Add legends\n",
    "# ax.legend(loc='upper left')\n",
    "# ax2.legend(loc='upper right')\n",
    "\n",
    "# Show the plot\n",
    "plt.title('experiment_iris')\n",
    "plt.show()"
   ]
  },
  {
   "cell_type": "markdown",
   "id": "53434c71-01c8-4b98-846d-863ba1050d30",
   "metadata": {},
   "source": [
    "# Step-wise Breakdown"
   ]
  },
  {
   "cell_type": "markdown",
   "id": "36a16dc1-6fa0-47ae-b8df-a750d3796940",
   "metadata": {},
   "source": [
    "### Proximity"
   ]
  },
  {
   "cell_type": "markdown",
   "id": "ca2f87fb-ff85-4ab5-b922-10c138537361",
   "metadata": {},
   "source": [
    "#### Distance Matrix"
   ]
  },
  {
   "cell_type": "code",
   "execution_count": null,
   "id": "77f65ddc-ab54-4e3d-b36a-5e0feee6825f",
   "metadata": {},
   "outputs": [],
   "source": [
    "# Pairwise distances\n",
    "dimension = data_df.shape[0]\n",
    "dist_ = pdist(data_df)\n",
    "dist_mat = np.zeros([dimension, dimension])\n",
    "dist = iter(dist_)\n",
    "for i in range(dimension):\n",
    "    for j in range(i+1, dimension):  \n",
    "        d = next(dist)\n",
    "        dist_mat[i,j] = d\n",
    "        dist_mat[j,i] = d"
   ]
  },
  {
   "cell_type": "code",
   "execution_count": null,
   "id": "809f71dd-ee17-4397-a56c-6c69d6cf245b",
   "metadata": {},
   "outputs": [],
   "source": [
    "dist_mat"
   ]
  },
  {
   "cell_type": "markdown",
   "id": "2d433d33-18cc-4085-bac2-365c34ae97b8",
   "metadata": {},
   "source": [
    "#### Adjacency/ Similarity Matrix (Self-Tuning Spectral Clustering Algorithm)"
   ]
  },
  {
   "cell_type": "code",
   "execution_count": null,
   "id": "7089377c-adba-427e-8a61-b0545ba47a01",
   "metadata": {},
   "outputs": [],
   "source": [
    "#calculate local sigma\n",
    "sigmas = np.zeros(dimension)\n",
    "for i in range(len(dist_mat)):\n",
    "    sigmas[i] = sorted(dist_mat[i])[7]"
   ]
  },
  {
   "cell_type": "code",
   "execution_count": null,
   "id": "0bd07e3b-7d0b-4f88-bd8c-95df381097e2",
   "metadata": {},
   "outputs": [],
   "source": [
    "sigmas"
   ]
  },
  {
   "cell_type": "code",
   "execution_count": null,
   "id": "1ac19c40-fbc6-41af-b57a-c1231225c67f",
   "metadata": {},
   "outputs": [],
   "source": [
    "# Adjaceny matrix with optimal sigma\n",
    "adjacency_matrix = np.zeros([dimension, dimension])\n",
    "dist = iter(dist_)\n",
    "for i in range(dimension):\n",
    "    for j in range(i+1, dimension):  \n",
    "        d = np.exp(-1*next(dist)**2/(sigmas[i]*sigmas[j]))\n",
    "        adjacency_matrix[i,j] = d\n",
    "        adjacency_matrix[j,i] = d"
   ]
  },
  {
   "cell_type": "code",
   "execution_count": null,
   "id": "cd4f4e71-f23f-4265-aa61-d9bb151e8343",
   "metadata": {},
   "outputs": [],
   "source": [
    "adjacency_matrix"
   ]
  },
  {
   "cell_type": "markdown",
   "id": "38a2985e-a296-4067-8665-fc48544169ba",
   "metadata": {},
   "source": [
    "### Eigen Decomposition"
   ]
  },
  {
   "cell_type": "code",
   "execution_count": null,
   "id": "69b3b482-f567-4f95-a4bd-93828a996068",
   "metadata": {},
   "outputs": [],
   "source": [
    "# Calculate degree matrix\n",
    "degree_matrix = np.sum(adjacency_matrix, axis=0) * np.eye(dimension)"
   ]
  },
  {
   "cell_type": "code",
   "execution_count": null,
   "id": "944d7bb8-581e-486a-8bba-36c000d46bdb",
   "metadata": {},
   "outputs": [],
   "source": [
    "degree_matrix"
   ]
  },
  {
   "cell_type": "code",
   "execution_count": null,
   "id": "a612309f-f421-464c-97a1-9cdedcb59012",
   "metadata": {},
   "outputs": [],
   "source": [
    "# Normalized laplacian matrix\n",
    "d_half = linalg.fractional_matrix_power(degree_matrix, -0.5)\n",
    "laplacian_matrix_normalized = np.matmul(np.matmul(d_half, adjacency_matrix), d_half)"
   ]
  },
  {
   "cell_type": "code",
   "execution_count": null,
   "id": "78db8961-1608-4570-8f57-771c3fda647f",
   "metadata": {},
   "outputs": [],
   "source": [
    "laplacian_matrix_normalized"
   ]
  },
  {
   "cell_type": "code",
   "execution_count": null,
   "id": "093bc977-2d1c-41d9-b70f-5cf747402bef",
   "metadata": {},
   "outputs": [],
   "source": [
    "# Calculating eigenvalues and eigenvectors\n",
    "\n",
    "e, v = np.linalg.eigh(laplacian_matrix_normalized)"
   ]
  },
  {
   "cell_type": "code",
   "execution_count": null,
   "id": "a3d39433-6134-463a-8d33-b1d1210c2633",
   "metadata": {},
   "outputs": [],
   "source": [
    "# Eigenvalues\n",
    "e"
   ]
  },
  {
   "cell_type": "code",
   "execution_count": null,
   "id": "d86d9c95-85be-4aa4-a9e4-8ad4dab607ff",
   "metadata": {},
   "outputs": [],
   "source": [
    "# Eigenvectors\n",
    "v"
   ]
  },
  {
   "cell_type": "code",
   "execution_count": null,
   "id": "81a0d248-489a-4b4b-8892-0f8223cdaa4f",
   "metadata": {},
   "outputs": [],
   "source": [
    "# Plotting the eigenvalues\n",
    "plt.rcParams[\"figure.figsize\"] = (4,3)\n",
    "plt.scatter(range(len(e)), e);\n",
    "plt.xticks(range(0,len(e)));"
   ]
  },
  {
   "cell_type": "code",
   "execution_count": null,
   "id": "873019fe-cd92-4c9c-af64-28feb2d12132",
   "metadata": {},
   "outputs": [],
   "source": [
    "# Gaps in eigenvalues\n",
    "gaps = np.diff(e)\n",
    "eigen_gap_df = pd.DataFrame({'Index': range(len(e) - 1), 'Gap': gaps})\n",
    "eigen_gap_df.sort_values(by='Gap', ascending=False, inplace=True)"
   ]
  },
  {
   "cell_type": "code",
   "execution_count": null,
   "id": "3165b1d4-af21-47db-9269-1d009369c990",
   "metadata": {},
   "outputs": [],
   "source": [
    "eigen_gap_df"
   ]
  },
  {
   "cell_type": "code",
   "execution_count": null,
   "id": "379c4e5e-fdda-4c07-87f7-955d7b84ceb0",
   "metadata": {},
   "outputs": [],
   "source": [
    "eigen_gap_df[eigen_gap_df['Index'] < 10]"
   ]
  },
  {
   "cell_type": "code",
   "execution_count": null,
   "id": "f556984f-95bf-477f-a388-31c54d15a814",
   "metadata": {},
   "outputs": [],
   "source": [
    "# Eigen features for k\n",
    "k = 4\n",
    "X = v[:, -1*k:]\n",
    "# row_sums = X.sum(axis=1)\n",
    "# Y = X / row_sums[:, np.newaxis]"
   ]
  },
  {
   "cell_type": "markdown",
   "id": "a42c4fc8-3066-4a6f-b218-ce4c26161098",
   "metadata": {},
   "source": [
    "### Clustering"
   ]
  },
  {
   "cell_type": "code",
   "execution_count": null,
   "id": "6e516331-b9a6-4f93-8e09-002be74527f2",
   "metadata": {},
   "outputs": [],
   "source": [
    "cluster_df = pd.DataFrame(X)\n",
    "cluster_df"
   ]
  },
  {
   "cell_type": "code",
   "execution_count": null,
   "id": "202ae6e5-e691-42bc-988f-9eecbfccd828",
   "metadata": {},
   "outputs": [],
   "source": [
    "clustering = KMeans(n_clusters = 4)\n",
    "clustering.fit(cluster_df)\n",
    "\n",
    "cluster_labels = clustering.labels_\n",
    "print(silhouette_score(data_df, cluster_labels),adjusted_rand_score(labels, cluster_labels))"
   ]
  }
 ],
 "metadata": {
  "kernelspec": {
   "display_name": "Python 3 (ipykernel)",
   "language": "python",
   "name": "python3"
  },
  "language_info": {
   "codemirror_mode": {
    "name": "ipython",
    "version": 3
   },
   "file_extension": ".py",
   "mimetype": "text/x-python",
   "name": "python",
   "nbconvert_exporter": "python",
   "pygments_lexer": "ipython3",
   "version": "3.11.3"
  }
 },
 "nbformat": 4,
 "nbformat_minor": 5
}
